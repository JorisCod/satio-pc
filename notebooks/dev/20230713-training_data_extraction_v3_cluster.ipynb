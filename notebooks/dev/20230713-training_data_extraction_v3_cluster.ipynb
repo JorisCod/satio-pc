{
 "cells": [
  {
   "cell_type": "code",
   "execution_count": 1,
   "id": "d0280066-a346-44f1-911d-49895d07a6c3",
   "metadata": {
    "tags": []
   },
   "outputs": [],
   "source": [
    "# Jupyter notebook related\n",
    "%reload_ext autoreload\n",
    "%autoreload 2"
   ]
  },
  {
   "cell_type": "code",
   "execution_count": 2,
   "id": "62d1c3b3-5fc7-477c-9e06-9e63f0a15b19",
   "metadata": {},
   "outputs": [],
   "source": [
    "import os\n",
    "import geopandas as gpd\n",
    "from dask import delayed\n",
    "\n",
    "# from elogs import Elogs, ElogsTask\n",
    "\n",
    "with open('../../../connstr_vegteam') as f:\n",
    "    connect_str = f.read()\n",
    "container_name = 'evoland'\n",
    "\n",
    "locs_fn = \"../../../locations_v2.csv\""
   ]
  },
  {
   "cell_type": "code",
   "execution_count": 3,
   "id": "9b817cfb-bd2b-40b4-9835-9f062b4ce64a",
   "metadata": {
    "tags": []
   },
   "outputs": [],
   "source": [
    "from importlib.resources import files"
   ]
  },
  {
   "cell_type": "code",
   "execution_count": 4,
   "id": "622c80bd-7af4-452c-a059-15531f31eb9b",
   "metadata": {
    "tags": []
   },
   "outputs": [],
   "source": [
    "import satio_pc.layers"
   ]
  },
  {
   "cell_type": "code",
   "execution_count": 5,
   "id": "2563430d-2f53-4ec9-9737-63a31990079e",
   "metadata": {
    "tags": []
   },
   "outputs": [
    {
     "data": {
      "text/plain": [
       "'0.0.2'"
      ]
     },
     "execution_count": 5,
     "metadata": {},
     "output_type": "execute_result"
    }
   ],
   "source": [
    "satio_pc.__version__"
   ]
  },
  {
   "cell_type": "code",
   "execution_count": 9,
   "id": "fa60bc33-c272-4d9c-90e9-4fabc8f752a9",
   "metadata": {
    "tags": []
   },
   "outputs": [],
   "source": [
    "s2grid = satio_pc.layers.load('s2grid_all')"
   ]
  },
  {
   "cell_type": "code",
   "execution_count": 10,
   "id": "6ed87579-137d-49b7-9981-88ba8cc91e83",
   "metadata": {
    "tags": []
   },
   "outputs": [
    {
     "data": {
      "text/plain": [
       "(56686, 4)"
      ]
     },
     "execution_count": 10,
     "metadata": {},
     "output_type": "execute_result"
    }
   ],
   "source": [
    "s2grid.shape"
   ]
  },
  {
   "cell_type": "markdown",
   "id": "9f7db7da-2480-42ac-a4a6-132879cff402",
   "metadata": {},
   "source": [
    "# Cluster setup"
   ]
  },
  {
   "cell_type": "code",
   "execution_count": 3,
   "id": "bc6966b9-9a39-479e-9333-200db9b38133",
   "metadata": {
    "tags": []
   },
   "outputs": [],
   "source": [
    "# from dask_gateway import Gateway\n",
    "# gateway = Gateway()\n",
    "\n",
    "\n",
    "# # List the clusters and get the cluster report\n",
    "# clusters_reports = gateway.list_clusters()\n",
    "\n",
    "# # Get the first cluster report\n",
    "# cluster_report = clusters_reports[0]\n",
    "\n",
    "# # Connect to the cluster using the cluster report\n",
    "# cluster = gateway.connect(cluster_report)\n",
    "\n",
    "# # Get the client object from the cluster\n",
    "# client = cluster.get_client()"
   ]
  },
  {
   "cell_type": "code",
   "execution_count": 4,
   "id": "6f996786-39c9-4ceb-a8f1-b675151c9efd",
   "metadata": {
    "tags": []
   },
   "outputs": [
    {
     "data": {
      "text/plain": [
       "[]"
      ]
     },
     "execution_count": 4,
     "metadata": {},
     "output_type": "execute_result"
    }
   ],
   "source": [
    "# stop clusters\n",
    "from dask_gateway import Gateway\n",
    "gateway = Gateway()\n",
    "clusters_reports = gateway.list_clusters()\n",
    "\n",
    "clusters = [gateway.stop_cluster(c.name) for c in clusters_reports]\n",
    "clusters"
   ]
  },
  {
   "cell_type": "code",
   "execution_count": 5,
   "id": "28a59cf6-1d14-4738-9f77-76ff742a8b0a",
   "metadata": {
    "tags": []
   },
   "outputs": [
    {
     "name": "stdout",
     "output_type": "stream",
     "text": [
      "https://pccompute.westeurope.cloudapp.azure.com/compute/services/dask-gateway/clusters/prod.0ffc7bb799164d69bcecffd6b0463d46/status\n"
     ]
    },
    {
     "data": {
      "application/vnd.jupyter.widget-view+json": {
       "model_id": "d33e6b1c2f7a4dc78b4a5db2aa3558e2",
       "version_major": 2,
       "version_minor": 0
      },
      "text/plain": [
       "VBox(children=(HTML(value='<h2>GatewayCluster</h2>'), HBox(children=(HTML(value='\\n<div>\\n<style scoped>\\n    …"
      ]
     },
     "metadata": {},
     "output_type": "display_data"
    }
   ],
   "source": [
    "# create and scale cluster\n",
    "from dask.distributed import PipInstall, Client\n",
    "import dask_gateway\n",
    "\n",
    "cluster = dask_gateway.GatewayCluster()\n",
    "client = cluster.get_client()\n",
    "\n",
    "print(client.dashboard_link)\n",
    "\n",
    "cluster.scale(100)\n",
    "\n",
    "cluster"
   ]
  },
  {
   "cell_type": "code",
   "execution_count": 13,
   "id": "008d8446-08ee-4e09-9eaf-a2825a915143",
   "metadata": {
    "tags": []
   },
   "outputs": [
    {
     "data": {
      "text/plain": [
       "{'tls://10.244.119.128:35439': {'status': 'OK'},\n",
       " 'tls://10.244.119.129:33653': {'status': 'OK'},\n",
       " 'tls://10.244.119.130:45755': {'status': 'OK'},\n",
       " 'tls://10.244.123.13:38377': {'status': 'OK'},\n",
       " 'tls://10.244.123.14:34383': {'status': 'OK'},\n",
       " 'tls://10.244.123.15:39137': {'status': 'OK'},\n",
       " 'tls://10.244.123.16:33829': {'status': 'OK'},\n",
       " 'tls://10.244.123.17:36433': {'status': 'OK'},\n",
       " 'tls://10.244.123.18:40811': {'status': 'OK'},\n",
       " 'tls://10.244.129.71:38339': {'status': 'OK'},\n",
       " 'tls://10.244.129.72:34239': {'status': 'OK'},\n",
       " 'tls://10.244.129.73:46675': {'status': 'OK'},\n",
       " 'tls://10.244.129.74:45393': {'status': 'OK'},\n",
       " 'tls://10.244.129.75:40117': {'status': 'OK'},\n",
       " 'tls://10.244.129.76:43925': {'status': 'OK'},\n",
       " 'tls://10.244.143.18:39145': {'status': 'OK'},\n",
       " 'tls://10.244.143.19:44651': {'status': 'OK'},\n",
       " 'tls://10.244.143.20:37485': {'status': 'OK'},\n",
       " 'tls://10.244.143.21:34957': {'status': 'OK'},\n",
       " 'tls://10.244.143.22:40501': {'status': 'OK'},\n",
       " 'tls://10.244.143.23:45767': {'status': 'OK'},\n",
       " 'tls://10.244.148.219:43023': {'status': 'OK'},\n",
       " 'tls://10.244.148.220:40029': {'status': 'OK'},\n",
       " 'tls://10.244.148.221:41723': {'status': 'OK'},\n",
       " 'tls://10.244.148.222:43947': {'status': 'OK'},\n",
       " 'tls://10.244.148.223:36805': {'status': 'OK'},\n",
       " 'tls://10.244.148.224:38859': {'status': 'OK'},\n",
       " 'tls://10.244.189.197:43455': {'status': 'OK'},\n",
       " 'tls://10.244.189.198:44047': {'status': 'OK'},\n",
       " 'tls://10.244.189.199:41329': {'status': 'OK'},\n",
       " 'tls://10.244.189.200:44989': {'status': 'OK'},\n",
       " 'tls://10.244.189.201:39197': {'status': 'OK'},\n",
       " 'tls://10.244.192.167:39943': {'status': 'OK'},\n",
       " 'tls://10.244.192.168:33617': {'status': 'OK'},\n",
       " 'tls://10.244.192.169:41365': {'status': 'OK'},\n",
       " 'tls://10.244.192.170:46341': {'status': 'OK'},\n",
       " 'tls://10.244.192.171:41975': {'status': 'OK'},\n",
       " 'tls://10.244.249.166:37063': {'status': 'OK'},\n",
       " 'tls://10.244.249.167:42573': {'status': 'OK'},\n",
       " 'tls://10.244.249.168:37587': {'status': 'OK'},\n",
       " 'tls://10.244.249.169:36725': {'status': 'OK'},\n",
       " 'tls://10.244.33.253:44573': {'status': 'OK'},\n",
       " 'tls://10.244.33.254:46807': {'status': 'OK'},\n",
       " 'tls://10.244.33.2:34791': {'status': 'OK'},\n",
       " 'tls://10.244.33.3:33313': {'status': 'OK'},\n",
       " 'tls://10.244.33.4:38663': {'status': 'OK'},\n",
       " 'tls://10.244.35.71:37329': {'status': 'OK'},\n",
       " 'tls://10.244.35.72:34623': {'status': 'OK'},\n",
       " 'tls://10.244.35.73:41965': {'status': 'OK'},\n",
       " 'tls://10.244.35.74:34025': {'status': 'OK'},\n",
       " 'tls://10.244.38.109:36829': {'status': 'OK'},\n",
       " 'tls://10.244.38.110:41885': {'status': 'OK'},\n",
       " 'tls://10.244.38.111:45457': {'status': 'OK'},\n",
       " 'tls://10.244.38.112:44683': {'status': 'OK'},\n",
       " 'tls://10.244.38.113:37625': {'status': 'OK'},\n",
       " 'tls://10.244.52.121:42977': {'status': 'OK'},\n",
       " 'tls://10.244.52.122:43057': {'status': 'OK'},\n",
       " 'tls://10.244.52.123:39483': {'status': 'OK'},\n",
       " 'tls://10.244.67.249:46101': {'status': 'OK'},\n",
       " 'tls://10.244.67.250:41209': {'status': 'OK'},\n",
       " 'tls://10.244.67.251:34891': {'status': 'OK'},\n",
       " 'tls://10.244.67.252:37287': {'status': 'OK'},\n",
       " 'tls://10.244.67.253:44533': {'status': 'OK'},\n",
       " 'tls://10.244.67.254:39229': {'status': 'OK'},\n",
       " 'tls://10.244.69.17:36355': {'status': 'OK'},\n",
       " 'tls://10.244.69.18:41219': {'status': 'OK'},\n",
       " 'tls://10.244.69.19:33535': {'status': 'OK'},\n",
       " 'tls://10.244.69.20:42783': {'status': 'OK'},\n",
       " 'tls://10.244.69.21:41905': {'status': 'OK'},\n",
       " 'tls://10.244.69.22:40023': {'status': 'OK'},\n",
       " 'tls://10.244.71.81:32787': {'status': 'OK'},\n",
       " 'tls://10.244.71.82:41607': {'status': 'OK'},\n",
       " 'tls://10.244.71.83:45389': {'status': 'OK'},\n",
       " 'tls://10.244.71.84:43193': {'status': 'OK'},\n",
       " 'tls://10.244.71.86:35569': {'status': 'OK'},\n",
       " 'tls://10.244.71.87:43129': {'status': 'OK'},\n",
       " 'tls://10.244.79.168:45313': {'status': 'OK'},\n",
       " 'tls://10.244.79.169:40657': {'status': 'OK'},\n",
       " 'tls://10.244.79.170:41681': {'status': 'OK'},\n",
       " 'tls://10.244.79.171:33045': {'status': 'OK'},\n",
       " 'tls://10.244.79.172:42013': {'status': 'OK'},\n",
       " 'tls://10.244.80.232:38017': {'status': 'OK'},\n",
       " 'tls://10.244.80.233:45815': {'status': 'OK'},\n",
       " 'tls://10.244.80.234:40925': {'status': 'OK'},\n",
       " 'tls://10.244.80.235:34597': {'status': 'OK'},\n",
       " 'tls://10.244.80.236:43803': {'status': 'OK'},\n",
       " 'tls://10.244.80.237:41555': {'status': 'OK'},\n",
       " 'tls://10.244.81.219:33531': {'status': 'OK'},\n",
       " 'tls://10.244.81.220:33669': {'status': 'OK'},\n",
       " 'tls://10.244.81.221:46381': {'status': 'OK'},\n",
       " 'tls://10.244.81.222:43253': {'status': 'OK'},\n",
       " 'tls://10.244.81.223:45609': {'status': 'OK'},\n",
       " 'tls://10.244.81.224:40097': {'status': 'OK'},\n",
       " 'tls://10.244.93.188:35087': {'status': 'OK'},\n",
       " 'tls://10.244.93.189:37195': {'status': 'OK'},\n",
       " 'tls://10.244.93.190:35245': {'status': 'OK'},\n",
       " 'tls://10.244.93.191:34281': {'status': 'OK'},\n",
       " 'tls://10.244.93.192:46189': {'status': 'OK'}}"
      ]
     },
     "execution_count": 13,
     "metadata": {},
     "output_type": "execute_result"
    }
   ],
   "source": [
    "# Once cluster is scaled, install satio_pc\n",
    "satio_pc_url = \"https://s3-eu-central-1.amazonaws.com/vito-worldcover-public/wheels/satio_pc-0.0.1-py3-none-any.whl\"\n",
    "plugin = PipInstall(packages=[satio_pc_url])\n",
    "client.register_worker_plugin(plugin)"
   ]
  },
  {
   "cell_type": "code",
   "execution_count": null,
   "id": "8e6d4cd9-c115-4fa2-ba00-5ad8c6c472fd",
   "metadata": {},
   "outputs": [],
   "source": [
    "# check logs\n",
    "logs = client.get_worker_logs()\n",
    "\n",
    "print(len(logs))\n",
    "\n",
    "for worker, worker_logs in logs.items():\n",
    "    print(f\"Logs for worker {worker}:\")\n",
    "    for log in worker_logs:\n",
    "        print(log)\n",
    "    print()\n",
    "    print('*'*100)"
   ]
  },
  {
   "cell_type": "code",
   "execution_count": 15,
   "id": "2db950d2-13cd-47ba-b250-79b173da11e1",
   "metadata": {},
   "outputs": [],
   "source": [
    "# shutdown cluster\n",
    "# cluster.shutdown()"
   ]
  },
  {
   "cell_type": "markdown",
   "id": "30b57dcc-e225-4b11-b6d6-77ede92b7234",
   "metadata": {},
   "source": [
    "# Training data extraction"
   ]
  },
  {
   "cell_type": "code",
   "execution_count": 6,
   "id": "4ac0d8ad-b348-43f0-bfe0-81edb8c800a7",
   "metadata": {
    "tags": []
   },
   "outputs": [],
   "source": [
    "import os\n",
    "from pathlib import Path\n",
    "\n",
    "import numpy as np\n",
    "import pandas as pd\n",
    "\n",
    "\n",
    "settings = {\n",
    "        \"max_cloud_cover\": 90,\n",
    "        \"composite\": {\"freq\": 10,\n",
    "                      \"window\": 20,\n",
    "                      \"mode\": \"median\"},\n",
    "        \"mask\": {\"erode_r\": 3,\n",
    "                 \"dilate_r\": 13,\n",
    "                 \"snow_dilate_r\": 3,\n",
    "                 \"max_invalid_ratio\": 1,\n",
    "                 \"max_invalid_snow_cover\": 0.9},\n",
    "        \"scl_valid_th\": 0.1,\n",
    "        \"bands\": ['B02', 'B03', 'B04', 'B08', 'B11', 'B12'],\n",
    "        \"indices\": [\"ndvi\"],\n",
    "        \"percentiles\": [10, 25, 50, 75, 90],\n",
    "    }\n",
    "\n",
    "\n",
    "def read_block(block):\n",
    "    from satio_pc.reader import S2TileReader\n",
    "    tile = block.tile\n",
    "    epsg = block.epsg\n",
    "    # bounds = loc.xmin, loc.ymin, loc.xmax, loc.ymax\n",
    "    bounds = block.bounds\n",
    "\n",
    "    bands = ['B08']\n",
    "\n",
    "    reader = S2TileReader(tile,\n",
    "                          start_date,\n",
    "                          end_date,\n",
    "                          max_cloud_cover)\n",
    "    darr = reader.read(bounds, epsg, bands, max_workers=20)\n",
    "    return darr\n",
    "\n",
    "\n",
    "def read_bounds(tile,\n",
    "                bounds,\n",
    "                epsg,\n",
    "                bands,\n",
    "                start_date,\n",
    "                end_date,\n",
    "                max_cloud_cover,\n",
    "                max_workers=20):\n",
    "    from satio_pc.reader import S2TileReader\n",
    "    reader = S2TileReader(tile,\n",
    "                          start_date,\n",
    "                          end_date,\n",
    "                          max_cloud_cover)\n",
    "    darr = reader.read(bounds, epsg, bands, max_workers=max_workers)\n",
    "    return darr\n"
   ]
  },
  {
   "cell_type": "code",
   "execution_count": 15,
   "id": "daf043d9-a205-4365-9c69-8255b9302a77",
   "metadata": {
    "tags": []
   },
   "outputs": [],
   "source": [
    "patch_id, tile, epsg, xmin, ymin, xmax, ymax, year = args[0].tolist()"
   ]
  },
  {
   "cell_type": "code",
   "execution_count": 22,
   "id": "54503fc6-195b-4ad3-8368-1b8b8e1b883c",
   "metadata": {
    "tags": []
   },
   "outputs": [],
   "source": [
    "year = int(year)\n",
    "epsg = int(epsg)\n",
    "xmin = float(xmin)\n",
    "ymin = float(ymin)\n",
    "xmax = float(xmax)\n",
    "ymax = float(ymax)"
   ]
  },
  {
   "cell_type": "code",
   "execution_count": 23,
   "id": "ca8e43a1-87a7-41d6-a5a5-ce244729e0e4",
   "metadata": {
    "tags": []
   },
   "outputs": [],
   "source": [
    "from loguru import logger\n",
    "from satio_pc.reader import S2TileReader\n",
    "from satio_pc.preprocessing.clouds import preprocess_scl\n",
    "from satio_pc.sentinel2 import BANDS_RESOLUTION\n",
    "from satio_pc.geotiff import slash_tile\n",
    "from satio_pc.utils.azure import AzureBlobReader\n",
    "\n",
    "azure = AzureBlobReader(connect_str,\n",
    "                        container_name)\n",
    "\n",
    "bounds = xmin, ymin, xmax, ymax\n",
    "\n",
    "fn = f'evotrain_v2_{year}_{patch_id}.tif'\n",
    "dst_fn = f\"evotrain/v2/{year}/{slash_tile(tile)}/{fn}\"\n",
    "if azure.check_file_exists(dst_fn):\n",
    "    logger.warning(f\"Target {dst_fn} exists, skipping...\")\n",
    "\n",
    "start_date = f'{year}-01-01'\n",
    "end_date = f'{year + 1}-01-01'\n",
    "\n",
    "max_cloud_cover = settings['max_cloud_cover']\n",
    "\n",
    "reader = S2TileReader(tile,\n",
    "                      start_date,\n",
    "                      end_date,\n",
    "                      max_cloud_cover)"
   ]
  },
  {
   "cell_type": "code",
   "execution_count": 7,
   "id": "5b1d14b5-6f51-4300-b409-623d30969a5f",
   "metadata": {
    "tags": []
   },
   "outputs": [],
   "source": [
    "def _extract_loc(patch_id, tile, epsg, xmin, ymin, xmax, ymax, year):\n",
    "    from loguru import logger\n",
    "    from satio_pc.reader import S2TileReader\n",
    "    from satio_pc.preprocessing.clouds import preprocess_scl\n",
    "    from satio_pc.sentinel2 import BANDS_RESOLUTION\n",
    "    from satio_pc.geotiff import slash_tile\n",
    "    from satio_pc.utils.azure import AzureBlobReader\n",
    "    \n",
    "    azure = AzureBlobReader(connect_str,\n",
    "                            container_name)\n",
    "    \n",
    "    bounds = xmin, ymin, xmax, ymax\n",
    "    \n",
    "    fn = f'evotrain_v2_{year}_{patch_id}.tif'\n",
    "    dst_fn = f\"evotrain/v2/{year}/{slash_tile(tile)}/{fn}\"\n",
    "    if azure.check_file_exists(dst_fn):\n",
    "        logger.warning(f\"Target {dst_fn} exists, skipping...\")\n",
    "        return True\n",
    "    \n",
    "    start_date = f'{year}-01-01'\n",
    "    end_date = f'{year + 1}-01-01'\n",
    "\n",
    "    max_cloud_cover = settings['max_cloud_cover']\n",
    "    \n",
    "    reader = S2TileReader(tile,\n",
    "                          start_date,\n",
    "                          end_date,\n",
    "                          max_cloud_cover)\n",
    "    \n",
    "    logger.info(\"Loading and preparing SCL mask\")\n",
    "    scl = reader.read(bounds, epsg, ['SCL'], max_workers=max_workers)\n",
    "\n",
    "    scl_mask = preprocess_scl(scl,\n",
    "                              **settings['mask'])\n",
    "\n",
    "    scl_valid_th = settings['scl_valid_th']  # at least 10% of valid pixels\n",
    "    valid_flag = scl_mask.mask.mean(axis=(2, 3)) > scl_valid_th\n",
    "    valid_flag = valid_flag.values[:, 0]\n",
    "    \n",
    "    scl_mask.mask = scl_mask.mask.sel(time=valid_flag)\n",
    "\n",
    "    logger.warning(f\"Keeping {valid_flag.sum()} / {valid_flag.size} products. \"\n",
    "                   \"Discarded from the SCL filter.\")\n",
    "    reader._items = [i for i, b in zip(reader._items, valid_flag) if b]\n",
    "\n",
    "    scl20 = scl_mask.mask\n",
    "    scl10 = scl20.ewc.rescale()\n",
    "\n",
    "    bands = settings['bands']\n",
    "\n",
    "    bands_10m = [b for b in bands if BANDS_RESOLUTION[b] == 10]\n",
    "    bands_20m = [b for b in bands if BANDS_RESOLUTION[b] == 20]\n",
    "    \n",
    "    logger.info(\"Loading and preparing 10m bands\")\n",
    "    # b10 = load_bands(bands_10m, scl10)\n",
    "    b10 = reader.read(bounds, epsg, bands_10m, max_workers)\n",
    "    b10 = b10.ewc.harmonize()\n",
    "    b10 = b10.ewc.mask(scl10)\n",
    "    b10 = b10.ewc.composite(**settings['composite'])\n",
    "    b10 = b10.ewc.interpolate()\n",
    "    b10 = b10 / 10000.\n",
    "    \n",
    "    logger.info(\"Loading and preparing 20m bands\")\n",
    "    # b20 = load_bands(bands_20m, scl20)\n",
    "    b20 = reader.read(bounds, epsg, bands_20m, max_workers)\n",
    "    b20 = b20.ewc.harmonize()\n",
    "    b20 = b20.ewc.mask(scl20)\n",
    "    b20 = b20.ewc.composite(**settings['composite'])\n",
    "    b20 = b20.ewc.interpolate()\n",
    "    b20 = b20 / 10000.\n",
    "    \n",
    "    b20 = b20.ewc.rescale()\n",
    "\n",
    "    s2 = xr.concat([b10, b20], dim='band')\n",
    "\n",
    "    logger.info(\"Computing indices\")\n",
    "    s2_vi = s2.ewc.indices(settings['indices'])\n",
    "\n",
    "    logger.info(\"Computing percentiles\")\n",
    "    q = settings['percentiles']\n",
    "    ps = [s.ewc.percentile(q, name_prefix='s2') for s in (s2, s2_vi)]\n",
    "\n",
    "    # fix time to same timestamp (only 1) to avoid concat issues\n",
    "    # (different compositing settings for s2 and s1)\n",
    "    for p in ps:\n",
    "        p['time'] = ps[0].time\n",
    "\n",
    "    # scl aux 10m\n",
    "    scl10_aux = scl_mask.aux.ewc.rescale(scale=2, order=1)\n",
    "    scl10_aux['time'] = ps[0].time\n",
    "\n",
    "    final = xr.concat(ps + [scl10_aux], dim='band')\n",
    "    final.name = f's2-{patch_id}'\n",
    "    \n",
    "    logger.info(\"Saving features\")\n",
    "    final.isel(time=0).ewc.save_features(fn, bounds, epsg)\n",
    "    \n",
    "    logger.info(f\"Uploading features to {dst_fn}\")\n",
    "    azure.upload_file(fn,\n",
    "                      dst_fn,\n",
    "                      overwrite=True)\n",
    "    \n",
    "    logger.info(f\"Cleaning...\")\n",
    "    os.remove(fn)\n",
    "    \n",
    "    logger.success(\"Done\")\n",
    "    return True\n",
    "\n",
    "\n",
    "def extract_loc(tup):\n",
    "    patch_id, tile, epsg, xmin, ymin, xmax, ymax, year = tup\n",
    "    xmin, ymin, xmax, ymax = list(map(float, (xmin, ymin, xmax, ymax)))\n",
    "    epsg = int(epsg)\n",
    "    year = int(year)\n",
    "    \n",
    "    try:\n",
    "        from loguru import logger\n",
    "        return _extract_loc(patch_id, tile, epsg, xmin, ymin, xmax, ymax, year)\n",
    "    except Exception as e:\n",
    "        logger.exception(e)\n",
    "        return False"
   ]
  },
  {
   "cell_type": "code",
   "execution_count": 8,
   "id": "5ea80f7e-4a7d-4dad-bfe1-e948180dbab2",
   "metadata": {
    "tags": []
   },
   "outputs": [],
   "source": [
    "import pandas as pd\n",
    "import xarray as xr\n",
    "\n",
    "locs = pd.read_csv(locs_fn)\n",
    "\n",
    "max_workers = 10\n",
    "\n",
    "cols = ['patch_id', 'tile', 'epsg', 'xmin', 'ymin', 'xmax', 'ymax']\n",
    "locs = locs[cols]"
   ]
  },
  {
   "cell_type": "code",
   "execution_count": 9,
   "id": "9812c4db-1c65-40cf-aa6d-293431ed3399",
   "metadata": {
    "tags": []
   },
   "outputs": [],
   "source": [
    "from satio_pc.utils.azure import AzureBlobReader\n",
    "azure = AzureBlobReader(connect_str,\n",
    "                        container_name)\n",
    "\n",
    "# keys = azure.list_files()\n",
    "def list_files(prefix=None):\n",
    "    files = set()\n",
    "    for blob in azure.container_client.list_blobs(name_starts_with=prefix):\n",
    "        if blob.name[-1] != \"/\":\n",
    "            files.add(blob.name)\n",
    "    return files"
   ]
  },
  {
   "cell_type": "code",
   "execution_count": 10,
   "id": "8838e09a-c756-4abe-8e24-5cec2c5bfc93",
   "metadata": {
    "tags": []
   },
   "outputs": [
    {
     "data": {
      "text/plain": [
       "(64435, 7)"
      ]
     },
     "execution_count": 10,
     "metadata": {},
     "output_type": "execute_result"
    }
   ],
   "source": [
    "year = 2022\n",
    "\n",
    "keys = list_files(f'evotrain/v2/{year}/')\n",
    "\n",
    "done_patch_ids = list(map(lambda key: \"_\".join(key.split('.')[0].split('_')[-3:]), keys))\n",
    "\n",
    "locs = locs[~locs.patch_id.isin(done_patch_ids)]\n",
    "locs.shape"
   ]
  },
  {
   "cell_type": "markdown",
   "id": "d2f6d9e1-a249-4560-b095-17de2d6e6e24",
   "metadata": {
    "tags": []
   },
   "source": [
    "### Cluster processing"
   ]
  },
  {
   "cell_type": "code",
   "execution_count": 11,
   "id": "e6fc54c1-4704-4c53-9689-72f463f3c382",
   "metadata": {
    "tags": []
   },
   "outputs": [
    {
     "data": {
      "text/plain": [
       "64435"
      ]
     },
     "execution_count": 11,
     "metadata": {},
     "output_type": "execute_result"
    }
   ],
   "source": [
    "# 'patch_id', 'tile', 'epsg', 'xmin', 'ymin', 'xmax', 'ymax'\n",
    "args = [(loc.patch_id,\n",
    "         loc.tile,\n",
    "         loc.epsg,\n",
    "         loc.xmin,\n",
    "         loc.ymin,\n",
    "         loc.xmax,\n",
    "         loc.ymax,\n",
    "         year)\n",
    "        for loc in locs.itertuples()\n",
    "        ]\n",
    "len(args)"
   ]
  },
  {
   "cell_type": "code",
   "execution_count": 12,
   "id": "b23a9a64-a844-4a3e-9e04-533d7fd8045d",
   "metadata": {
    "tags": []
   },
   "outputs": [],
   "source": [
    "args = np.array(args)"
   ]
  },
  {
   "cell_type": "code",
   "execution_count": 16,
   "id": "1623ebe1-135a-47c4-b20f-16467a6a6c97",
   "metadata": {
    "tags": []
   },
   "outputs": [],
   "source": [
    "import warnings\n",
    "warnings.filterwarnings(\"ignore\")"
   ]
  },
  {
   "cell_type": "code",
   "execution_count": 13,
   "id": "e60b0b8a-e09f-4499-a0f5-661a40a8f9cc",
   "metadata": {
    "tags": []
   },
   "outputs": [
    {
     "name": "stderr",
     "output_type": "stream",
     "text": [
      "\u001b[32m2023-07-21 20:58:24.677\u001b[0m | \u001b[1mINFO    \u001b[0m | \u001b[36m__main__\u001b[0m:\u001b[36m_extract_loc\u001b[0m:\u001b[36m30\u001b[0m - \u001b[1mLoading and preparing SCL mask\u001b[0m\n",
      "\u001b[32m2023-07-21 20:58:27.751\u001b[0m | \u001b[33m\u001b[1mWARNING \u001b[0m | \u001b[36msatio_pc.sentinel2\u001b[0m:\u001b[36mfilter_corrupted_items\u001b[0m:\u001b[36m67\u001b[0m - \u001b[33m\u001b[1mDiscarding 3 / 76 corrupted products: ['S2A_MSIL2A_20210929T230141_R015_T57FVV_20210930T095710', 'S2B_MSIL2A_20210726T230139_R015_T57FVV_20210727T053339', 'S2A_MSIL2A_20210313T230131_R015_T57FVV_20210314T114656']\u001b[0m\n",
      "\u001b[32m2023-07-21 20:58:29.338\u001b[0m | \u001b[33m\u001b[1mWARNING \u001b[0m | \u001b[36m__main__\u001b[0m:\u001b[36m_extract_loc\u001b[0m:\u001b[36m42\u001b[0m - \u001b[33m\u001b[1mKeeping 17 / 73 products. Discarded from the SCL filter.\u001b[0m\n",
      "\u001b[32m2023-07-21 20:58:29.424\u001b[0m | \u001b[1mINFO    \u001b[0m | \u001b[36m__main__\u001b[0m:\u001b[36m_extract_loc\u001b[0m:\u001b[36m54\u001b[0m - \u001b[1mLoading and preparing 10m bands\u001b[0m\n",
      "\u001b[32m2023-07-21 20:58:34.195\u001b[0m | \u001b[1mINFO    \u001b[0m | \u001b[36m__main__\u001b[0m:\u001b[36m_extract_loc\u001b[0m:\u001b[36m63\u001b[0m - \u001b[1mLoading and preparing 20m bands\u001b[0m\n",
      "\u001b[32m2023-07-21 20:58:35.492\u001b[0m | \u001b[1mINFO    \u001b[0m | \u001b[36m__main__\u001b[0m:\u001b[36m_extract_loc\u001b[0m:\u001b[36m76\u001b[0m - \u001b[1mComputing indices\u001b[0m\n",
      "\u001b[32m2023-07-21 20:58:35.504\u001b[0m | \u001b[1mINFO    \u001b[0m | \u001b[36m__main__\u001b[0m:\u001b[36m_extract_loc\u001b[0m:\u001b[36m79\u001b[0m - \u001b[1mComputing percentiles\u001b[0m\n",
      "\u001b[32m2023-07-21 20:58:35.718\u001b[0m | \u001b[1mINFO    \u001b[0m | \u001b[36m__main__\u001b[0m:\u001b[36m_extract_loc\u001b[0m:\u001b[36m95\u001b[0m - \u001b[1mSaving features\u001b[0m\n",
      "\u001b[32m2023-07-21 20:58:35.729\u001b[0m | \u001b[1mINFO    \u001b[0m | \u001b[36msatio_pc.geotiff\u001b[0m:\u001b[36msave_features_geotiff\u001b[0m:\u001b[36m207\u001b[0m - \u001b[1mSaving evotrain_v2_2021_57FVV_074_13.tif...\u001b[0m\n",
      "\u001b[32m2023-07-21 20:58:35.780\u001b[0m | \u001b[1mINFO    \u001b[0m | \u001b[36m__main__\u001b[0m:\u001b[36m_extract_loc\u001b[0m:\u001b[36m98\u001b[0m - \u001b[1mUploading features to evotrain/v2/2021/57/F/VV/evotrain_v2_2021_57FVV_074_13.tif\u001b[0m\n",
      "\u001b[32m2023-07-21 20:58:35.871\u001b[0m | \u001b[1mINFO    \u001b[0m | \u001b[36m__main__\u001b[0m:\u001b[36m_extract_loc\u001b[0m:\u001b[36m103\u001b[0m - \u001b[1mCleaning...\u001b[0m\n",
      "\u001b[32m2023-07-21 20:58:35.872\u001b[0m | \u001b[32m\u001b[1mSUCCESS \u001b[0m | \u001b[36m__main__\u001b[0m:\u001b[36m_extract_loc\u001b[0m:\u001b[36m106\u001b[0m - \u001b[32m\u001b[1mDone\u001b[0m\n"
     ]
    }
   ],
   "source": [
    "final = extract_loc(args[0])"
   ]
  },
  {
   "cell_type": "code",
   "execution_count": 15,
   "id": "ee66cc4b-29fa-4bda-8656-6c67221ced52",
   "metadata": {
    "tags": []
   },
   "outputs": [],
   "source": [
    "import dask\n",
    "\n",
    "extract_delayed = dask.delayed(extract_loc)\n",
    "\n",
    "lazy_results = [extract_delayed(ag)\n",
    "                for ag in args]"
   ]
  },
  {
   "cell_type": "code",
   "execution_count": 16,
   "id": "dca5e635-7229-4f00-8c6b-ccc0b3123da2",
   "metadata": {
    "tags": []
   },
   "outputs": [
    {
     "name": "stderr",
     "output_type": "stream",
     "text": [
      "\n",
      "KeyboardInterrupt\n",
      "\n"
     ]
    }
   ],
   "source": [
    "results = dask.compute(*lazy_results)"
   ]
  },
  {
   "cell_type": "markdown",
   "id": "6fb2597f-e452-497b-938c-f40dc0d11dbb",
   "metadata": {
    "tags": []
   },
   "source": [
    "# finish download missing"
   ]
  },
  {
   "cell_type": "code",
   "execution_count": 10,
   "id": "0ce045fa-e1d2-4f12-851c-278afc7f5224",
   "metadata": {
    "tags": []
   },
   "outputs": [
    {
     "name": "stdout",
     "output_type": "stream",
     "text": [
      "2018\n",
      "2018 (199, 28)\n",
      "2019\n",
      "2019 (75, 28)\n",
      "2020\n",
      "2020 (59, 28)\n",
      "2021\n",
      "2021 (260, 28)\n",
      "2022\n",
      "2022 (741, 28)\n"
     ]
    },
    {
     "data": {
      "text/plain": [
       "10672"
      ]
     },
     "execution_count": 10,
     "metadata": {},
     "output_type": "execute_result"
    }
   ],
   "source": [
    "locs_all = pd.read_csv(locs_fn)\n",
    "\n",
    "args = []\n",
    "\n",
    "for year in range(2018, 2023):\n",
    "    \n",
    "    print(year)\n",
    "    keys = list_files(f'evotrain/v2/{year}/')\n",
    "\n",
    "    done_patch_ids = list(map(lambda key: \"_\".join(key.split('.')[0].split('_')[-3:]), keys))\n",
    "\n",
    "    locs = locs_all[~locs_all.patch_id.isin(done_patch_ids)]\n",
    "    \n",
    "    args += [(loc.patch_id,\n",
    "         loc.tile,\n",
    "         loc.epsg,\n",
    "         loc.xmin,\n",
    "         loc.ymin,\n",
    "         loc.xmax,\n",
    "         loc.ymax,\n",
    "         year)\n",
    "        for loc in locs.itertuples()\n",
    "        ]\n",
    "    print(year, locs.shape)\n",
    "    \n",
    "args = np.array(args)\n",
    "\n",
    "args.size"
   ]
  },
  {
   "cell_type": "code",
   "execution_count": 11,
   "id": "ab86e0ea-71f2-4887-a937-8aeaa8dcd0d5",
   "metadata": {
    "tags": []
   },
   "outputs": [],
   "source": [
    "np.save('args_final.npy', args)"
   ]
  },
  {
   "cell_type": "code",
   "execution_count": 14,
   "id": "88202275-5ba4-432d-b203-72fd4222085f",
   "metadata": {
    "tags": []
   },
   "outputs": [],
   "source": [
    "import dask\n",
    "\n",
    "extract_delayed = dask.delayed(extract_loc)\n",
    "\n",
    "lazy_results = [extract_delayed(ag)\n",
    "                for ag in args]\n",
    "\n",
    "results = dask.compute(*lazy_results)"
   ]
  },
  {
   "cell_type": "markdown",
   "id": "b4dc446f-6078-44d2-baa1-94d4d6fae51f",
   "metadata": {},
   "source": [
    "# bags"
   ]
  },
  {
   "cell_type": "code",
   "execution_count": 15,
   "id": "313f48f4-05f9-4eaa-83b5-9962314140ac",
   "metadata": {
    "tags": []
   },
   "outputs": [],
   "source": [
    "import dask\n",
    "import dask.bag as db\n",
    "\n",
    "npartitions = 3000\n",
    "\n",
    "b = db.from_sequence(args, npartitions=npartitions)\n",
    "b = b.map(extract_loc)"
   ]
  },
  {
   "cell_type": "code",
   "execution_count": null,
   "id": "7708a6e6-b9ab-42cf-b851-98e8c9e18e38",
   "metadata": {
    "tags": []
   },
   "outputs": [],
   "source": [
    "results = b.compute()"
   ]
  },
  {
   "cell_type": "code",
   "execution_count": null,
   "id": "1b7220a2-65a9-4eba-afad-f21e6f2a265f",
   "metadata": {
    "tags": []
   },
   "outputs": [],
   "source": [
    "for ag in args[:20]:\n",
    "    extract_loc(ag)"
   ]
  },
  {
   "cell_type": "code",
   "execution_count": 18,
   "id": "7f63fe3e-30dd-4ed1-9300-c392043238a4",
   "metadata": {
    "tags": []
   },
   "outputs": [
    {
     "data": {
      "text/plain": [
       "array(['60MUD_052_53', '60MUD', '32760', '388320.0', '9850120.0',\n",
       "       '389600.0', '9851400.0', '2018'], dtype='<U32')"
      ]
     },
     "execution_count": 18,
     "metadata": {},
     "output_type": "execute_result"
    }
   ],
   "source": [
    "ag"
   ]
  },
  {
   "cell_type": "code",
   "execution_count": 19,
   "id": "9ca953a2-8b91-4d44-b3b1-6aaab0673fe5",
   "metadata": {
    "tags": []
   },
   "outputs": [],
   "source": [
    "tup = args[0]"
   ]
  },
  {
   "cell_type": "code",
   "execution_count": 37,
   "id": "d58a3ed6-6f38-4436-9838-5c0ef7c07c75",
   "metadata": {
    "tags": []
   },
   "outputs": [
    {
     "data": {
      "text/plain": [
       "array(['36NYF_114_40', '36NYF', '32636', '740920.0', '-9780.0',\n",
       "       '742200.0', '-8780.0', '2018'], dtype='<U32')"
      ]
     },
     "execution_count": 37,
     "metadata": {},
     "output_type": "execute_result"
    }
   ],
   "source": [
    "tup"
   ]
  },
  {
   "cell_type": "code",
   "execution_count": 42,
   "id": "9ba4ea5b-f60a-4862-80b3-40cc4f7bacb0",
   "metadata": {
    "tags": []
   },
   "outputs": [
    {
     "data": {
      "text/plain": [
       "(1280.0, 1000.0)"
      ]
     },
     "execution_count": 42,
     "metadata": {},
     "output_type": "execute_result"
    }
   ],
   "source": [
    "xmax - xmin, ymax - ymin"
   ]
  },
  {
   "cell_type": "code",
   "execution_count": 72,
   "id": "16aeea70-2bd0-4efa-9c45-a02b318fe972",
   "metadata": {
    "tags": []
   },
   "outputs": [],
   "source": [
    "d = locs_all.apply(lambda r: ((r.xmax - r.xmin) + (r.ymax - r.ymin)), axis=1)"
   ]
  },
  {
   "cell_type": "code",
   "execution_count": 73,
   "id": "aa02ebe5-6951-422d-acbf-c241a0e963d9",
   "metadata": {
    "tags": []
   },
   "outputs": [
    {
     "data": {
      "text/plain": [
       "array([2560., 2280.])"
      ]
     },
     "execution_count": 73,
     "metadata": {},
     "output_type": "execute_result"
    }
   ],
   "source": [
    "d.unique()"
   ]
  },
  {
   "cell_type": "code",
   "execution_count": 74,
   "id": "c653e4e0-ae0e-4f55-9b38-3c39d8aa0dda",
   "metadata": {
    "tags": []
   },
   "outputs": [],
   "source": [
    "locs_inv = locs_all[d != 2560]"
   ]
  },
  {
   "cell_type": "code",
   "execution_count": 75,
   "id": "4a415dd9-6583-400f-a023-2cb615c1d606",
   "metadata": {
    "tags": []
   },
   "outputs": [
    {
     "data": {
      "text/plain": [
       "(17, 28)"
      ]
     },
     "execution_count": 75,
     "metadata": {},
     "output_type": "execute_result"
    }
   ],
   "source": [
    "locs_inv.shape"
   ]
  },
  {
   "cell_type": "code",
   "execution_count": 81,
   "id": "33f2dabe-c389-42d1-b3c4-d8a4d9790a37",
   "metadata": {
    "tags": []
   },
   "outputs": [
    {
     "name": "stdout",
     "output_type": "stream",
     "text": [
      "36NYF_114_40\n",
      "36NZF_113_43\n",
      "35NRA_116_42\n",
      "35NQA_120_31\n",
      "32NRF_112_45\n",
      "52NCF_112_41\n",
      "49NEA_112_47\n"
     ]
    },
    {
     "data": {
      "text/plain": [
       "array(['01KAB_095_00', '01KAB', '32701', '171640.0', '8116800.0',\n",
       "       '172920.0', '8118080.0', '2018'], dtype='<U32')"
      ]
     },
     "execution_count": 81,
     "metadata": {},
     "output_type": "execute_result"
    }
   ],
   "source": [
    "for ag in args:\n",
    "    \n",
    "    if ag[0] in locs_inv.patch_id.values:\n",
    "        print(ag[0])\n",
    "        continue\n",
    "    else:\n",
    "        break\n",
    "ag"
   ]
  },
  {
   "cell_type": "code",
   "execution_count": 82,
   "id": "e02dbc14-ef1b-4492-afb1-126ed88ffffc",
   "metadata": {
    "tags": []
   },
   "outputs": [
    {
     "data": {
      "text/plain": [
       "array(['01KAB_095_00', '01KAB', '32701', '171640.0', '8116800.0',\n",
       "       '172920.0', '8118080.0', '2018'], dtype='<U32')"
      ]
     },
     "execution_count": 82,
     "metadata": {},
     "output_type": "execute_result"
    }
   ],
   "source": [
    "ag"
   ]
  },
  {
   "cell_type": "code",
   "execution_count": 83,
   "id": "7d860a48-396f-451a-a3d1-cc75b08f8b53",
   "metadata": {
    "tags": []
   },
   "outputs": [],
   "source": [
    "tup = ag\n",
    "patch_id, tile, epsg, xmin, ymin, xmax, ymax, year = tup\n",
    "xmin, ymin, xmax, ymax = list(map(float, (xmin, ymin, xmax, ymax)))\n",
    "epsg = int(epsg)\n",
    "year = int(year)"
   ]
  },
  {
   "cell_type": "code",
   "execution_count": 84,
   "id": "b081ebc7-8409-4fa9-922a-c8871d802025",
   "metadata": {
    "tags": []
   },
   "outputs": [],
   "source": [
    "bounds = xmin, ymin, xmax, ymax"
   ]
  },
  {
   "cell_type": "code",
   "execution_count": 85,
   "id": "daeea63b-9a3c-4dd8-a171-5e7068417ea4",
   "metadata": {
    "tags": []
   },
   "outputs": [
    {
     "data": {
      "text/plain": [
       "(1280.0, 1280.0)"
      ]
     },
     "execution_count": 85,
     "metadata": {},
     "output_type": "execute_result"
    }
   ],
   "source": [
    "xmax - xmin, ymax - ymin"
   ]
  },
  {
   "cell_type": "code",
   "execution_count": 86,
   "id": "26659acd-a0df-4d78-af4c-366d13f80cff",
   "metadata": {
    "tags": []
   },
   "outputs": [],
   "source": [
    "from satio_pc.reader import S2TileReader"
   ]
  },
  {
   "cell_type": "code",
   "execution_count": 87,
   "id": "5e6a7c54-74ad-4aec-ab19-4146100e9696",
   "metadata": {
    "tags": []
   },
   "outputs": [],
   "source": [
    "start_date, end_date = '2018-01-01', '2019-01-01'"
   ]
  },
  {
   "cell_type": "code",
   "execution_count": null,
   "id": "0b7c8566-9ea2-457a-8012-e6f5bf1c10f0",
   "metadata": {},
   "outputs": [],
   "source": []
  },
  {
   "cell_type": "code",
   "execution_count": 88,
   "id": "68b479d2-78c0-4078-8776-2e7a28322d2f",
   "metadata": {},
   "outputs": [],
   "source": [
    "reader = S2TileReader(tile,\n",
    "                      start_date,\n",
    "                      end_date,\n",
    "                      90)\n",
    "\n",
    "# logger.info(\"Loading and preparing SCL mask\")\n",
    "# scl = reader.read(bounds, epsg, ['SCL'], max_workers=max_workers)"
   ]
  },
  {
   "cell_type": "code",
   "execution_count": 89,
   "id": "ca9912b1-36d9-435e-9361-66e3bcbf06a3",
   "metadata": {
    "tags": []
   },
   "outputs": [],
   "source": [
    "stac = reader.items"
   ]
  },
  {
   "cell_type": "code",
   "execution_count": 90,
   "id": "fe5fb713-2f8b-4314-9153-192359ad7169",
   "metadata": {
    "tags": []
   },
   "outputs": [
    {
     "ename": "IndexError",
     "evalue": "list index out of range",
     "output_type": "error",
     "traceback": [
      "\u001b[0;31m---------------------------------------------------------------------------\u001b[0m",
      "\u001b[0;31mIndexError\u001b[0m                                Traceback (most recent call last)",
      "Cell \u001b[0;32mIn[90], line 1\u001b[0m\n\u001b[0;32m----> 1\u001b[0m \u001b[43mstac\u001b[49m\u001b[38;5;241;43m.\u001b[39;49m\u001b[43mitems\u001b[49m\u001b[43m[\u001b[49m\u001b[38;5;241;43m0\u001b[39;49m\u001b[43m]\u001b[49m\u001b[38;5;241m.\u001b[39massets[\u001b[38;5;124m'\u001b[39m\u001b[38;5;124mSCL\u001b[39m\u001b[38;5;124m'\u001b[39m]\u001b[38;5;241m.\u001b[39mhref\n",
      "\u001b[0;31mIndexError\u001b[0m: list index out of range"
     ]
    }
   ],
   "source": [
    "stac.items[0].assets['SCL'].href"
   ]
  },
  {
   "cell_type": "code",
   "execution_count": 64,
   "id": "ed121516-b8c4-4fdd-be48-9db0a4be9078",
   "metadata": {
    "tags": []
   },
   "outputs": [
    {
     "data": {
      "text/plain": [
       "(270380.0, 5290240.0, 271660.0, 5291240.0)"
      ]
     },
     "execution_count": 64,
     "metadata": {},
     "output_type": "execute_result"
    }
   ],
   "source": [
    "bounds"
   ]
  },
  {
   "cell_type": "code",
   "execution_count": 65,
   "id": "54b019d5-ce2f-4118-ba9f-9979b1e4f4b4",
   "metadata": {
    "tags": []
   },
   "outputs": [
    {
     "data": {
      "text/plain": [
       "array(['19GBP_116_47', '19GBP', '32719', '270380.0', '5290240.0',\n",
       "       '271660.0', '5291240.0', '2022'], dtype='<U32')"
      ]
     },
     "execution_count": 65,
     "metadata": {},
     "output_type": "execute_result"
    }
   ],
   "source": [
    "ag"
   ]
  },
  {
   "cell_type": "code",
   "execution_count": 67,
   "id": "7a74324b-1cda-4e14-8d1a-7b372c175bae",
   "metadata": {
    "tags": []
   },
   "outputs": [
    {
     "data": {
      "text/plain": [
       "(270380.0, 5290240.0, 271660.0, 5291240.0)"
      ]
     },
     "execution_count": 67,
     "metadata": {},
     "output_type": "execute_result"
    }
   ],
   "source": [
    "bounds"
   ]
  },
  {
   "cell_type": "code",
   "execution_count": 66,
   "id": "7bfb041b-2d6a-4b32-a63d-f5c031dd29f6",
   "metadata": {
    "tags": []
   },
   "outputs": [
    {
     "data": {
      "text/html": [
       "<div><svg style=\"position: absolute; width: 0; height: 0; overflow: hidden\">\n",
       "<defs>\n",
       "<symbol id=\"icon-database\" viewBox=\"0 0 32 32\">\n",
       "<path d=\"M16 0c-8.837 0-16 2.239-16 5v4c0 2.761 7.163 5 16 5s16-2.239 16-5v-4c0-2.761-7.163-5-16-5z\"></path>\n",
       "<path d=\"M16 17c-8.837 0-16-2.239-16-5v6c0 2.761 7.163 5 16 5s16-2.239 16-5v-6c0 2.761-7.163 5-16 5z\"></path>\n",
       "<path d=\"M16 26c-8.837 0-16-2.239-16-5v6c0 2.761 7.163 5 16 5s16-2.239 16-5v-6c0 2.761-7.163 5-16 5z\"></path>\n",
       "</symbol>\n",
       "<symbol id=\"icon-file-text2\" viewBox=\"0 0 32 32\">\n",
       "<path d=\"M28.681 7.159c-0.694-0.947-1.662-2.053-2.724-3.116s-2.169-2.030-3.116-2.724c-1.612-1.182-2.393-1.319-2.841-1.319h-15.5c-1.378 0-2.5 1.121-2.5 2.5v27c0 1.378 1.122 2.5 2.5 2.5h23c1.378 0 2.5-1.122 2.5-2.5v-19.5c0-0.448-0.137-1.23-1.319-2.841zM24.543 5.457c0.959 0.959 1.712 1.825 2.268 2.543h-4.811v-4.811c0.718 0.556 1.584 1.309 2.543 2.268zM28 29.5c0 0.271-0.229 0.5-0.5 0.5h-23c-0.271 0-0.5-0.229-0.5-0.5v-27c0-0.271 0.229-0.5 0.5-0.5 0 0 15.499-0 15.5 0v7c0 0.552 0.448 1 1 1h7v19.5z\"></path>\n",
       "<path d=\"M23 26h-14c-0.552 0-1-0.448-1-1s0.448-1 1-1h14c0.552 0 1 0.448 1 1s-0.448 1-1 1z\"></path>\n",
       "<path d=\"M23 22h-14c-0.552 0-1-0.448-1-1s0.448-1 1-1h14c0.552 0 1 0.448 1 1s-0.448 1-1 1z\"></path>\n",
       "<path d=\"M23 18h-14c-0.552 0-1-0.448-1-1s0.448-1 1-1h14c0.552 0 1 0.448 1 1s-0.448 1-1 1z\"></path>\n",
       "</symbol>\n",
       "</defs>\n",
       "</svg>\n",
       "<style>/* CSS stylesheet for displaying xarray objects in jupyterlab.\n",
       " *\n",
       " */\n",
       "\n",
       ":root {\n",
       "  --xr-font-color0: var(--jp-content-font-color0, rgba(0, 0, 0, 1));\n",
       "  --xr-font-color2: var(--jp-content-font-color2, rgba(0, 0, 0, 0.54));\n",
       "  --xr-font-color3: var(--jp-content-font-color3, rgba(0, 0, 0, 0.38));\n",
       "  --xr-border-color: var(--jp-border-color2, #e0e0e0);\n",
       "  --xr-disabled-color: var(--jp-layout-color3, #bdbdbd);\n",
       "  --xr-background-color: var(--jp-layout-color0, white);\n",
       "  --xr-background-color-row-even: var(--jp-layout-color1, white);\n",
       "  --xr-background-color-row-odd: var(--jp-layout-color2, #eeeeee);\n",
       "}\n",
       "\n",
       "html[theme=dark],\n",
       "body[data-theme=dark],\n",
       "body.vscode-dark {\n",
       "  --xr-font-color0: rgba(255, 255, 255, 1);\n",
       "  --xr-font-color2: rgba(255, 255, 255, 0.54);\n",
       "  --xr-font-color3: rgba(255, 255, 255, 0.38);\n",
       "  --xr-border-color: #1F1F1F;\n",
       "  --xr-disabled-color: #515151;\n",
       "  --xr-background-color: #111111;\n",
       "  --xr-background-color-row-even: #111111;\n",
       "  --xr-background-color-row-odd: #313131;\n",
       "}\n",
       "\n",
       ".xr-wrap {\n",
       "  display: block !important;\n",
       "  min-width: 300px;\n",
       "  max-width: 700px;\n",
       "}\n",
       "\n",
       ".xr-text-repr-fallback {\n",
       "  /* fallback to plain text repr when CSS is not injected (untrusted notebook) */\n",
       "  display: none;\n",
       "}\n",
       "\n",
       ".xr-header {\n",
       "  padding-top: 6px;\n",
       "  padding-bottom: 6px;\n",
       "  margin-bottom: 4px;\n",
       "  border-bottom: solid 1px var(--xr-border-color);\n",
       "}\n",
       "\n",
       ".xr-header > div,\n",
       ".xr-header > ul {\n",
       "  display: inline;\n",
       "  margin-top: 0;\n",
       "  margin-bottom: 0;\n",
       "}\n",
       "\n",
       ".xr-obj-type,\n",
       ".xr-array-name {\n",
       "  margin-left: 2px;\n",
       "  margin-right: 10px;\n",
       "}\n",
       "\n",
       ".xr-obj-type {\n",
       "  color: var(--xr-font-color2);\n",
       "}\n",
       "\n",
       ".xr-sections {\n",
       "  padding-left: 0 !important;\n",
       "  display: grid;\n",
       "  grid-template-columns: 150px auto auto 1fr 20px 20px;\n",
       "}\n",
       "\n",
       ".xr-section-item {\n",
       "  display: contents;\n",
       "}\n",
       "\n",
       ".xr-section-item input {\n",
       "  display: none;\n",
       "}\n",
       "\n",
       ".xr-section-item input + label {\n",
       "  color: var(--xr-disabled-color);\n",
       "}\n",
       "\n",
       ".xr-section-item input:enabled + label {\n",
       "  cursor: pointer;\n",
       "  color: var(--xr-font-color2);\n",
       "}\n",
       "\n",
       ".xr-section-item input:enabled + label:hover {\n",
       "  color: var(--xr-font-color0);\n",
       "}\n",
       "\n",
       ".xr-section-summary {\n",
       "  grid-column: 1;\n",
       "  color: var(--xr-font-color2);\n",
       "  font-weight: 500;\n",
       "}\n",
       "\n",
       ".xr-section-summary > span {\n",
       "  display: inline-block;\n",
       "  padding-left: 0.5em;\n",
       "}\n",
       "\n",
       ".xr-section-summary-in:disabled + label {\n",
       "  color: var(--xr-font-color2);\n",
       "}\n",
       "\n",
       ".xr-section-summary-in + label:before {\n",
       "  display: inline-block;\n",
       "  content: '►';\n",
       "  font-size: 11px;\n",
       "  width: 15px;\n",
       "  text-align: center;\n",
       "}\n",
       "\n",
       ".xr-section-summary-in:disabled + label:before {\n",
       "  color: var(--xr-disabled-color);\n",
       "}\n",
       "\n",
       ".xr-section-summary-in:checked + label:before {\n",
       "  content: '▼';\n",
       "}\n",
       "\n",
       ".xr-section-summary-in:checked + label > span {\n",
       "  display: none;\n",
       "}\n",
       "\n",
       ".xr-section-summary,\n",
       ".xr-section-inline-details {\n",
       "  padding-top: 4px;\n",
       "  padding-bottom: 4px;\n",
       "}\n",
       "\n",
       ".xr-section-inline-details {\n",
       "  grid-column: 2 / -1;\n",
       "}\n",
       "\n",
       ".xr-section-details {\n",
       "  display: none;\n",
       "  grid-column: 1 / -1;\n",
       "  margin-bottom: 5px;\n",
       "}\n",
       "\n",
       ".xr-section-summary-in:checked ~ .xr-section-details {\n",
       "  display: contents;\n",
       "}\n",
       "\n",
       ".xr-array-wrap {\n",
       "  grid-column: 1 / -1;\n",
       "  display: grid;\n",
       "  grid-template-columns: 20px auto;\n",
       "}\n",
       "\n",
       ".xr-array-wrap > label {\n",
       "  grid-column: 1;\n",
       "  vertical-align: top;\n",
       "}\n",
       "\n",
       ".xr-preview {\n",
       "  color: var(--xr-font-color3);\n",
       "}\n",
       "\n",
       ".xr-array-preview,\n",
       ".xr-array-data {\n",
       "  padding: 0 5px !important;\n",
       "  grid-column: 2;\n",
       "}\n",
       "\n",
       ".xr-array-data,\n",
       ".xr-array-in:checked ~ .xr-array-preview {\n",
       "  display: none;\n",
       "}\n",
       "\n",
       ".xr-array-in:checked ~ .xr-array-data,\n",
       ".xr-array-preview {\n",
       "  display: inline-block;\n",
       "}\n",
       "\n",
       ".xr-dim-list {\n",
       "  display: inline-block !important;\n",
       "  list-style: none;\n",
       "  padding: 0 !important;\n",
       "  margin: 0;\n",
       "}\n",
       "\n",
       ".xr-dim-list li {\n",
       "  display: inline-block;\n",
       "  padding: 0;\n",
       "  margin: 0;\n",
       "}\n",
       "\n",
       ".xr-dim-list:before {\n",
       "  content: '(';\n",
       "}\n",
       "\n",
       ".xr-dim-list:after {\n",
       "  content: ')';\n",
       "}\n",
       "\n",
       ".xr-dim-list li:not(:last-child):after {\n",
       "  content: ',';\n",
       "  padding-right: 5px;\n",
       "}\n",
       "\n",
       ".xr-has-index {\n",
       "  font-weight: bold;\n",
       "}\n",
       "\n",
       ".xr-var-list,\n",
       ".xr-var-item {\n",
       "  display: contents;\n",
       "}\n",
       "\n",
       ".xr-var-item > div,\n",
       ".xr-var-item label,\n",
       ".xr-var-item > .xr-var-name span {\n",
       "  background-color: var(--xr-background-color-row-even);\n",
       "  margin-bottom: 0;\n",
       "}\n",
       "\n",
       ".xr-var-item > .xr-var-name:hover span {\n",
       "  padding-right: 5px;\n",
       "}\n",
       "\n",
       ".xr-var-list > li:nth-child(odd) > div,\n",
       ".xr-var-list > li:nth-child(odd) > label,\n",
       ".xr-var-list > li:nth-child(odd) > .xr-var-name span {\n",
       "  background-color: var(--xr-background-color-row-odd);\n",
       "}\n",
       "\n",
       ".xr-var-name {\n",
       "  grid-column: 1;\n",
       "}\n",
       "\n",
       ".xr-var-dims {\n",
       "  grid-column: 2;\n",
       "}\n",
       "\n",
       ".xr-var-dtype {\n",
       "  grid-column: 3;\n",
       "  text-align: right;\n",
       "  color: var(--xr-font-color2);\n",
       "}\n",
       "\n",
       ".xr-var-preview {\n",
       "  grid-column: 4;\n",
       "}\n",
       "\n",
       ".xr-index-preview {\n",
       "  grid-column: 2 / 5;\n",
       "  color: var(--xr-font-color2);\n",
       "}\n",
       "\n",
       ".xr-var-name,\n",
       ".xr-var-dims,\n",
       ".xr-var-dtype,\n",
       ".xr-preview,\n",
       ".xr-attrs dt {\n",
       "  white-space: nowrap;\n",
       "  overflow: hidden;\n",
       "  text-overflow: ellipsis;\n",
       "  padding-right: 10px;\n",
       "}\n",
       "\n",
       ".xr-var-name:hover,\n",
       ".xr-var-dims:hover,\n",
       ".xr-var-dtype:hover,\n",
       ".xr-attrs dt:hover {\n",
       "  overflow: visible;\n",
       "  width: auto;\n",
       "  z-index: 1;\n",
       "}\n",
       "\n",
       ".xr-var-attrs,\n",
       ".xr-var-data,\n",
       ".xr-index-data {\n",
       "  display: none;\n",
       "  background-color: var(--xr-background-color) !important;\n",
       "  padding-bottom: 5px !important;\n",
       "}\n",
       "\n",
       ".xr-var-attrs-in:checked ~ .xr-var-attrs,\n",
       ".xr-var-data-in:checked ~ .xr-var-data,\n",
       ".xr-index-data-in:checked ~ .xr-index-data {\n",
       "  display: block;\n",
       "}\n",
       "\n",
       ".xr-var-data > table {\n",
       "  float: right;\n",
       "}\n",
       "\n",
       ".xr-var-name span,\n",
       ".xr-var-data,\n",
       ".xr-index-name div,\n",
       ".xr-index-data,\n",
       ".xr-attrs {\n",
       "  padding-left: 25px !important;\n",
       "}\n",
       "\n",
       ".xr-attrs,\n",
       ".xr-var-attrs,\n",
       ".xr-var-data,\n",
       ".xr-index-data {\n",
       "  grid-column: 1 / -1;\n",
       "}\n",
       "\n",
       "dl.xr-attrs {\n",
       "  padding: 0;\n",
       "  margin: 0;\n",
       "  display: grid;\n",
       "  grid-template-columns: 125px auto;\n",
       "}\n",
       "\n",
       ".xr-attrs dt,\n",
       ".xr-attrs dd {\n",
       "  padding: 0;\n",
       "  margin: 0;\n",
       "  float: left;\n",
       "  padding-right: 10px;\n",
       "  width: auto;\n",
       "}\n",
       "\n",
       ".xr-attrs dt {\n",
       "  font-weight: normal;\n",
       "  grid-column: 1;\n",
       "}\n",
       "\n",
       ".xr-attrs dt:hover span {\n",
       "  display: inline-block;\n",
       "  background: var(--xr-background-color);\n",
       "  padding-right: 10px;\n",
       "}\n",
       "\n",
       ".xr-attrs dd {\n",
       "  grid-column: 2;\n",
       "  white-space: pre-wrap;\n",
       "  word-break: break-all;\n",
       "}\n",
       "\n",
       ".xr-icon-database,\n",
       ".xr-icon-file-text2,\n",
       ".xr-no-icon {\n",
       "  display: inline-block;\n",
       "  vertical-align: middle;\n",
       "  width: 1em;\n",
       "  height: 1.5em !important;\n",
       "  stroke-width: 0;\n",
       "  stroke: currentColor;\n",
       "  fill: currentColor;\n",
       "}\n",
       "</style><pre class='xr-text-repr-fallback'>&lt;xarray.DataArray &#x27;stac-data&#x27; (time: 106, band: 1, y: 50, x: 64)&gt;\n",
       "array([[[[ 4,  4,  4, ...,  4,  5,  5],\n",
       "         [ 4,  4,  4, ...,  4,  4,  4],\n",
       "         [ 4,  5,  5, ...,  4,  4,  4],\n",
       "         ...,\n",
       "         [ 7,  2,  2, ...,  7,  7, 11],\n",
       "         [ 4,  4,  7, ...,  5,  7, 11],\n",
       "         [ 4,  4,  2, ...,  7,  7, 11]]],\n",
       "\n",
       "\n",
       "       [[[ 0,  0,  0, ...,  0,  0,  0],\n",
       "         [ 0,  0,  0, ...,  0,  0,  0],\n",
       "         [ 0,  0,  0, ...,  0,  0,  0],\n",
       "         ...,\n",
       "         [ 0,  0,  0, ...,  0,  0,  0],\n",
       "         [ 0,  0,  0, ...,  0,  0,  0],\n",
       "         [ 0,  0,  0, ...,  0,  0,  0]]],\n",
       "\n",
       "\n",
       "       [[[ 0,  0,  0, ...,  0,  0,  0],\n",
       "         [ 0,  0,  0, ...,  0,  0,  0],\n",
       "...\n",
       "         [ 4,  4,  2, ...,  5,  7, 11],\n",
       "         [ 4,  4,  7, ...,  7,  7, 11]]],\n",
       "\n",
       "\n",
       "       [[[ 0,  0,  0, ...,  0,  0,  0],\n",
       "         [ 0,  0,  0, ...,  0,  0,  0],\n",
       "         [ 0,  0,  0, ...,  0,  0,  0],\n",
       "         ...,\n",
       "         [ 0,  0,  0, ...,  0,  0,  0],\n",
       "         [ 0,  0,  0, ...,  0,  0,  0],\n",
       "         [ 0,  0,  0, ...,  0,  0,  0]]],\n",
       "\n",
       "\n",
       "       [[[ 4,  4,  4, ...,  4,  5,  5],\n",
       "         [ 4,  4,  4, ...,  4,  5,  5],\n",
       "         [ 4,  4,  4, ...,  4,  4,  4],\n",
       "         ...,\n",
       "         [ 7,  2,  2, ...,  5,  7, 11],\n",
       "         [ 4,  4,  2, ...,  5, 11, 11],\n",
       "         [ 4,  4,  2, ...,  5, 11, 11]]]], dtype=uint8)\n",
       "Coordinates: (12/43)\n",
       "  * time                                     (time) datetime64[ns] 2018-01-01...\n",
       "    id                                       (time) &lt;U54 &#x27;S2A_MSIL2A_20180101...\n",
       "  * band                                     (band) &lt;U3 &#x27;SCL&#x27;\n",
       "  * x                                        (x) float64 2.704e+05 ... 2.716e+05\n",
       "  * y                                        (y) float64 5.291e+06 ... 5.29e+06\n",
       "    s2:reflectance_conversion_factor         (time) float64 1.034 ... 1.034\n",
       "    ...                                       ...\n",
       "    proj:transform                           object {0.0, 5400040.0, -20.0, 1...\n",
       "    gsd                                      float64 20.0\n",
       "    title                                    &lt;U29 &#x27;Scene classfication map (S...\n",
       "    proj:bbox                                object {5290240.0, 5400040.0, 19...\n",
       "    proj:shape                               object {5490}\n",
       "    epsg                                     &lt;U10 &#x27;EPSG:32719&#x27;\n",
       "Attributes:\n",
       "    spec:        RasterSpec(epsg=&#x27;EPSG:32719&#x27;, bounds=(270380, 5290240, 27166...\n",
       "    crs:         epsg:EPSG:32719\n",
       "    transform:   | 20.00, 0.00, 270380.00|\\n| 0.00,-20.00, 5291240.00|\\n| 0.0...\n",
       "    resolution:  20</pre><div class='xr-wrap' style='display:none'><div class='xr-header'><div class='xr-obj-type'>xarray.DataArray</div><div class='xr-array-name'>'stac-data'</div><ul class='xr-dim-list'><li><span class='xr-has-index'>time</span>: 106</li><li><span class='xr-has-index'>band</span>: 1</li><li><span class='xr-has-index'>y</span>: 50</li><li><span class='xr-has-index'>x</span>: 64</li></ul></div><ul class='xr-sections'><li class='xr-section-item'><div class='xr-array-wrap'><input id='section-42c4f275-785c-4ec9-bbdf-feaefdb22c73' class='xr-array-in' type='checkbox' checked><label for='section-42c4f275-785c-4ec9-bbdf-feaefdb22c73' title='Show/hide data repr'><svg class='icon xr-icon-database'><use xlink:href='#icon-database'></use></svg></label><div class='xr-array-preview xr-preview'><span>4 4 4 4 4 4 4 4 7 5 5 5 5 5 4 4 ... 5 5 5 5 5 5 5 5 5 5 5 7 5 5 11 11</span></div><div class='xr-array-data'><pre>array([[[[ 4,  4,  4, ...,  4,  5,  5],\n",
       "         [ 4,  4,  4, ...,  4,  4,  4],\n",
       "         [ 4,  5,  5, ...,  4,  4,  4],\n",
       "         ...,\n",
       "         [ 7,  2,  2, ...,  7,  7, 11],\n",
       "         [ 4,  4,  7, ...,  5,  7, 11],\n",
       "         [ 4,  4,  2, ...,  7,  7, 11]]],\n",
       "\n",
       "\n",
       "       [[[ 0,  0,  0, ...,  0,  0,  0],\n",
       "         [ 0,  0,  0, ...,  0,  0,  0],\n",
       "         [ 0,  0,  0, ...,  0,  0,  0],\n",
       "         ...,\n",
       "         [ 0,  0,  0, ...,  0,  0,  0],\n",
       "         [ 0,  0,  0, ...,  0,  0,  0],\n",
       "         [ 0,  0,  0, ...,  0,  0,  0]]],\n",
       "\n",
       "\n",
       "       [[[ 0,  0,  0, ...,  0,  0,  0],\n",
       "         [ 0,  0,  0, ...,  0,  0,  0],\n",
       "...\n",
       "         [ 4,  4,  2, ...,  5,  7, 11],\n",
       "         [ 4,  4,  7, ...,  7,  7, 11]]],\n",
       "\n",
       "\n",
       "       [[[ 0,  0,  0, ...,  0,  0,  0],\n",
       "         [ 0,  0,  0, ...,  0,  0,  0],\n",
       "         [ 0,  0,  0, ...,  0,  0,  0],\n",
       "         ...,\n",
       "         [ 0,  0,  0, ...,  0,  0,  0],\n",
       "         [ 0,  0,  0, ...,  0,  0,  0],\n",
       "         [ 0,  0,  0, ...,  0,  0,  0]]],\n",
       "\n",
       "\n",
       "       [[[ 4,  4,  4, ...,  4,  5,  5],\n",
       "         [ 4,  4,  4, ...,  4,  5,  5],\n",
       "         [ 4,  4,  4, ...,  4,  4,  4],\n",
       "         ...,\n",
       "         [ 7,  2,  2, ...,  5,  7, 11],\n",
       "         [ 4,  4,  2, ...,  5, 11, 11],\n",
       "         [ 4,  4,  2, ...,  5, 11, 11]]]], dtype=uint8)</pre></div></div></li><li class='xr-section-item'><input id='section-f7c34461-f9d6-42f1-9209-305ef3deafb6' class='xr-section-summary-in' type='checkbox'  ><label for='section-f7c34461-f9d6-42f1-9209-305ef3deafb6' class='xr-section-summary' >Coordinates: <span>(43)</span></label><div class='xr-section-inline-details'></div><div class='xr-section-details'><ul class='xr-var-list'><li class='xr-var-item'><div class='xr-var-name'><span class='xr-has-index'>time</span></div><div class='xr-var-dims'>(time)</div><div class='xr-var-dtype'>datetime64[ns]</div><div class='xr-var-preview xr-preview'>2018-01-01T14:27:51.026000 ... 2...</div><input id='attrs-d19dd57c-4386-4434-9c0e-3972d26ee77c' class='xr-var-attrs-in' type='checkbox' disabled><label for='attrs-d19dd57c-4386-4434-9c0e-3972d26ee77c' title='Show/Hide attributes'><svg class='icon xr-icon-file-text2'><use xlink:href='#icon-file-text2'></use></svg></label><input id='data-1d591b42-c1e6-4b6f-8a3d-e3d857c8b325' class='xr-var-data-in' type='checkbox'><label for='data-1d591b42-c1e6-4b6f-8a3d-e3d857c8b325' title='Show/Hide data repr'><svg class='icon xr-icon-database'><use xlink:href='#icon-database'></use></svg></label><div class='xr-var-attrs'><dl class='xr-attrs'></dl></div><div class='xr-var-data'><pre>array([&#x27;2018-01-01T14:27:51.026000000&#x27;, &#x27;2018-01-04T14:54:01.026000000&#x27;,\n",
       "       &#x27;2018-01-09T14:37:49.027000000&#x27;, &#x27;2018-01-14T14:37:41.026000000&#x27;,\n",
       "       &#x27;2018-01-16T14:28:49.027000000&#x27;, &#x27;2018-01-19T14:37:49.027000000&#x27;,\n",
       "       &#x27;2018-01-24T14:54:01.026000000&#x27;, &#x27;2018-01-26T14:28:49.027000000&#x27;,\n",
       "       &#x27;2018-01-29T14:37:49.027000000&#x27;, &#x27;2018-02-05T14:28:49.027000000&#x27;,\n",
       "       &#x27;2018-02-08T14:37:49.027000000&#x27;, &#x27;2018-02-10T14:28:51.026000000&#x27;,\n",
       "       &#x27;2018-02-13T14:37:51.026000000&#x27;, &#x27;2018-02-15T14:28:49.027000000&#x27;,\n",
       "       &#x27;2018-02-18T14:37:49.027000000&#x27;, &#x27;2018-02-20T14:28:51.026000000&#x27;,\n",
       "       &#x27;2018-02-23T14:37:51.026000000&#x27;, &#x27;2018-02-28T14:37:49.027000000&#x27;,\n",
       "       &#x27;2018-03-02T14:28:51.026000000&#x27;, &#x27;2018-03-05T14:37:51.026000000&#x27;,\n",
       "       &#x27;2018-03-07T14:28:49.027000000&#x27;, &#x27;2018-03-17T14:28:49.027000000&#x27;,\n",
       "       &#x27;2018-03-20T14:37:49.027000000&#x27;, &#x27;2018-03-25T14:37:51.026000000&#x27;,\n",
       "       &#x27;2018-03-27T14:27:49.027000000&#x27;, &#x27;2018-03-30T14:37:49.027000000&#x27;,\n",
       "       &#x27;2018-04-01T14:28:51.026000000&#x27;, &#x27;2018-04-06T14:28:49.027000000&#x27;,\n",
       "       &#x27;2018-04-09T14:37:49.027000000&#x27;, &#x27;2018-04-11T14:28:51.026000000&#x27;,\n",
       "       &#x27;2018-04-16T14:28:49.027000000&#x27;, &#x27;2018-04-19T14:37:49.027000000&#x27;,\n",
       "       &#x27;2018-04-21T14:29:01.026000000&#x27;, &#x27;2018-04-24T14:37:51.024000000&#x27;,\n",
       "       &#x27;2018-04-29T14:37:49.027000000&#x27;, &#x27;2018-05-01T14:28:01.024000000&#x27;,\n",
       "       &#x27;2018-05-04T14:37:51.024000000&#x27;, &#x27;2018-05-06T14:27:49.027000000&#x27;,\n",
       "       &#x27;2018-05-09T14:37:49.027000000&#x27;, &#x27;2018-05-11T14:29:01.024000000&#x27;,\n",
       "       &#x27;2018-05-14T14:37:51.024000000&#x27;, &#x27;2018-05-21T14:27:51.024000000&#x27;,\n",
       "       &#x27;2018-05-24T14:37:51.024000000&#x27;, &#x27;2018-05-29T14:37:49.024000000&#x27;,\n",
       "       &#x27;2018-06-03T14:37:51.024000000&#x27;, &#x27;2018-06-05T14:28:49.024000000&#x27;,\n",
       "       &#x27;2018-06-08T14:37:49.024000000&#x27;, &#x27;2018-06-13T14:37:51.024000000&#x27;,\n",
       "       &#x27;2018-06-15T14:28:49.024000000&#x27;, &#x27;2018-06-20T14:28:51.024000000&#x27;,\n",
       "       &#x27;2018-06-23T14:37:51.024000000&#x27;, &#x27;2018-06-28T14:37:49.024000000&#x27;,\n",
       "       &#x27;2018-07-03T14:37:51.024000000&#x27;, &#x27;2018-07-05T14:27:49.024000000&#x27;,\n",
       "       &#x27;2018-07-08T14:37:49.024000000&#x27;, &#x27;2018-07-15T14:28:49.024000000&#x27;,\n",
       "       &#x27;2018-07-18T14:37:49.024000000&#x27;, &#x27;2018-07-20T14:27:51.024000000&#x27;,\n",
       "       &#x27;2018-07-23T14:37:51.024000000&#x27;, &#x27;2018-07-25T14:28:49.024000000&#x27;,\n",
       "       &#x27;2018-07-30T14:27:51.024000000&#x27;, &#x27;2018-08-04T14:28:49.024000000&#x27;,\n",
       "       &#x27;2018-08-07T14:37:39.024000000&#x27;, &#x27;2018-08-12T14:37:51.024000000&#x27;,\n",
       "       &#x27;2018-08-14T14:28:49.024000000&#x27;, &#x27;2018-08-17T14:37:39.024000000&#x27;,\n",
       "       &#x27;2018-08-19T14:27:51.024000000&#x27;, &#x27;2018-08-24T14:28:49.024000000&#x27;,\n",
       "       &#x27;2018-08-29T14:27:51.024000000&#x27;, &#x27;2018-09-03T14:28:49.024000000&#x27;,\n",
       "       &#x27;2018-09-06T14:37:39.024000000&#x27;, &#x27;2018-09-08T14:27:51.024000000&#x27;,\n",
       "       &#x27;2018-09-11T14:37:41.024000000&#x27;, &#x27;2018-09-13T14:27:49.024000000&#x27;,\n",
       "       &#x27;2018-09-18T14:27:51.024000000&#x27;, &#x27;2018-09-23T14:27:49.024000000&#x27;,\n",
       "       &#x27;2018-09-28T14:28:51.024000000&#x27;, &#x27;2018-10-03T14:27:49.024000000&#x27;,\n",
       "       &#x27;2018-10-08T14:27:51.024000000&#x27;, &#x27;2018-10-11T14:37:51.024000000&#x27;,\n",
       "       &#x27;2018-10-13T14:27:49.024000000&#x27;, &#x27;2018-10-18T14:27:51.024000000&#x27;,\n",
       "       &#x27;2018-10-21T14:37:51.024000000&#x27;, &#x27;2018-10-23T14:27:49.024000000&#x27;,\n",
       "       &#x27;2018-10-26T14:37:49.024000000&#x27;, &#x27;2018-10-28T14:27:51.024000000&#x27;,\n",
       "       &#x27;2018-10-31T14:37:51.024000000&#x27;, &#x27;2018-11-02T14:28:49.024000000&#x27;,\n",
       "       &#x27;2018-11-07T14:27:51.024000000&#x27;, &#x27;2018-11-10T14:37:51.024000000&#x27;,\n",
       "       &#x27;2018-11-15T14:37:49.024000000&#x27;, &#x27;2018-11-17T14:27:51.024000000&#x27;,\n",
       "       &#x27;2018-11-20T14:37:51.024000000&#x27;, &#x27;2018-11-22T14:27:49.024000000&#x27;,\n",
       "       &#x27;2018-11-25T14:37:49.024000000&#x27;, &#x27;2018-11-27T14:27:41.024000000&#x27;,\n",
       "       &#x27;2018-11-30T14:37:41.024000000&#x27;, &#x27;2018-12-02T14:27:49.024000000&#x27;,\n",
       "       &#x27;2018-12-05T14:37:49.024000000&#x27;, &#x27;2018-12-07T14:27:41.024000000&#x27;,\n",
       "       &#x27;2018-12-12T14:27:49.024000000&#x27;, &#x27;2018-12-17T14:27:41.024000000&#x27;,\n",
       "       &#x27;2018-12-25T14:37:49.024000000&#x27;, &#x27;2018-12-27T14:27:51.024000000&#x27;,\n",
       "       &#x27;2018-12-30T14:37:51.024000000&#x27;, &#x27;2019-01-01T14:27:49.024000000&#x27;],\n",
       "      dtype=&#x27;datetime64[ns]&#x27;)</pre></div></li><li class='xr-var-item'><div class='xr-var-name'><span>id</span></div><div class='xr-var-dims'>(time)</div><div class='xr-var-dtype'>&lt;U54</div><div class='xr-var-preview xr-preview'>&#x27;S2A_MSIL2A_20180101T142751_R053...</div><input id='attrs-5c5e4076-bf18-4b43-a818-baa4daf394e4' class='xr-var-attrs-in' type='checkbox' disabled><label for='attrs-5c5e4076-bf18-4b43-a818-baa4daf394e4' title='Show/Hide attributes'><svg class='icon xr-icon-file-text2'><use xlink:href='#icon-file-text2'></use></svg></label><input id='data-8aa69e7e-0773-4731-9671-1d0b9e13ac0a' class='xr-var-data-in' type='checkbox'><label for='data-8aa69e7e-0773-4731-9671-1d0b9e13ac0a' title='Show/Hide data repr'><svg class='icon xr-icon-database'><use xlink:href='#icon-database'></use></svg></label><div class='xr-var-attrs'><dl class='xr-attrs'></dl></div><div class='xr-var-data'><pre>array([&#x27;S2A_MSIL2A_20180101T142751_R053_T19GBP_20201014T023404&#x27;,\n",
       "       &#x27;S2A_MSIL2A_20180104T145401_R096_T19GBP_20201014T031437&#x27;,\n",
       "       &#x27;S2B_MSIL2A_20180109T143749_R096_T19GBP_20201014T043232&#x27;,\n",
       "       &#x27;S2A_MSIL2A_20180114T143741_R096_T19GBP_20201025T201352&#x27;,\n",
       "       &#x27;S2B_MSIL2A_20180116T142849_R053_T19GBP_20201014T062008&#x27;,\n",
       "       &#x27;S2B_MSIL2A_20180119T143749_R096_T19GBP_20201014T070422&#x27;,\n",
       "       &#x27;S2A_MSIL2A_20180124T145401_R096_T19GBP_20201014T082039&#x27;,\n",
       "       &#x27;S2B_MSIL2A_20180126T142849_R053_T19GBP_20201014T090254&#x27;,\n",
       "       &#x27;S2B_MSIL2A_20180129T143749_R096_T19GBP_20201014T095651&#x27;,\n",
       "       &#x27;S2B_MSIL2A_20180205T142849_R053_T19GBP_20201013T191710&#x27;,\n",
       "       &#x27;S2B_MSIL2A_20180208T143749_R096_T19GBP_20201013T202032&#x27;,\n",
       "       &#x27;S2A_MSIL2A_20180210T142851_R053_T19GBP_20201026T005052&#x27;,\n",
       "       &#x27;S2A_MSIL2A_20180213T143751_R096_T19GBP_20201013T204937&#x27;,\n",
       "       &#x27;S2B_MSIL2A_20180215T142849_R053_T19GBP_20201013T214116&#x27;,\n",
       "       &#x27;S2B_MSIL2A_20180218T143749_R096_T19GBP_20201013T225327&#x27;,\n",
       "       &#x27;S2A_MSIL2A_20180220T142851_R053_T19GBP_20201013T232545&#x27;,\n",
       "       &#x27;S2A_MSIL2A_20180223T143751_R096_T19GBP_20201014T003103&#x27;,\n",
       "       &#x27;S2B_MSIL2A_20180228T143749_R096_T19GBP_20201014T020507&#x27;,\n",
       "       &#x27;S2A_MSIL2A_20180302T142851_R053_T19GBP_20201013T053010&#x27;,\n",
       "       &#x27;S2A_MSIL2A_20180305T143751_R096_T19GBP_20201026T050918&#x27;,\n",
       "...\n",
       "       &#x27;S2B_MSIL2A_20181102T142849_R053_T19GBP_20201008T151357&#x27;,\n",
       "       &#x27;S2A_MSIL2A_20181107T142751_R053_T19GBP_20201008T163509&#x27;,\n",
       "       &#x27;S2A_MSIL2A_20181110T143751_R096_T19GBP_20201008T172817&#x27;,\n",
       "       &#x27;S2B_MSIL2A_20181115T143749_R096_T19GBP_20201008T185345&#x27;,\n",
       "       &#x27;S2A_MSIL2A_20181117T142751_R053_T19GBP_20201008T191916&#x27;,\n",
       "       &#x27;S2A_MSIL2A_20181120T143751_R096_T19GBP_20201008T201041&#x27;,\n",
       "       &#x27;S2B_MSIL2A_20181122T142749_R053_T19GBP_20201008T205258&#x27;,\n",
       "       &#x27;S2B_MSIL2A_20181125T143749_R096_T19GBP_20201008T214224&#x27;,\n",
       "       &#x27;S2A_MSIL2A_20181127T142741_R053_T19GBP_20201008T220655&#x27;,\n",
       "       &#x27;S2A_MSIL2A_20181130T143741_R096_T19GBP_20201008T225602&#x27;,\n",
       "       &#x27;S2B_MSIL2A_20181202T142749_R053_T19GBP_20201008T065423&#x27;,\n",
       "       &#x27;S2B_MSIL2A_20181205T143749_R096_T19GBP_20201008T074128&#x27;,\n",
       "       &#x27;S2A_MSIL2A_20181207T142741_R053_T19GBP_20201008T080656&#x27;,\n",
       "       &#x27;S2B_MSIL2A_20181212T142749_R053_T19GBP_20201008T093552&#x27;,\n",
       "       &#x27;S2A_MSIL2A_20181217T142741_R053_T19GBP_20201008T105027&#x27;,\n",
       "       &#x27;S2B_MSIL2A_20181225T143749_R096_T19GBP_20201008T130100&#x27;,\n",
       "       &#x27;S2A_MSIL2A_20181227T142751_R053_T19GBP_20201008T132506&#x27;,\n",
       "       &#x27;S2A_MSIL2A_20181230T143751_R096_T19GBP_20201008T141359&#x27;,\n",
       "       &#x27;S2B_MSIL2A_20190101T142749_R053_T19GBP_20201007T220100&#x27;],\n",
       "      dtype=&#x27;&lt;U54&#x27;)</pre></div></li><li class='xr-var-item'><div class='xr-var-name'><span class='xr-has-index'>band</span></div><div class='xr-var-dims'>(band)</div><div class='xr-var-dtype'>&lt;U3</div><div class='xr-var-preview xr-preview'>&#x27;SCL&#x27;</div><input id='attrs-2e8bc164-e64b-40a7-b698-e285cc137759' class='xr-var-attrs-in' type='checkbox' disabled><label for='attrs-2e8bc164-e64b-40a7-b698-e285cc137759' title='Show/Hide attributes'><svg class='icon xr-icon-file-text2'><use xlink:href='#icon-file-text2'></use></svg></label><input id='data-7324fdee-72ea-484f-b28d-6cc1e9ea742f' class='xr-var-data-in' type='checkbox'><label for='data-7324fdee-72ea-484f-b28d-6cc1e9ea742f' title='Show/Hide data repr'><svg class='icon xr-icon-database'><use xlink:href='#icon-database'></use></svg></label><div class='xr-var-attrs'><dl class='xr-attrs'></dl></div><div class='xr-var-data'><pre>array([&#x27;SCL&#x27;], dtype=&#x27;&lt;U3&#x27;)</pre></div></li><li class='xr-var-item'><div class='xr-var-name'><span class='xr-has-index'>x</span></div><div class='xr-var-dims'>(x)</div><div class='xr-var-dtype'>float64</div><div class='xr-var-preview xr-preview'>2.704e+05 2.704e+05 ... 2.716e+05</div><input id='attrs-4290a6b1-795e-45b5-a1e7-4a3c541fd5c3' class='xr-var-attrs-in' type='checkbox' disabled><label for='attrs-4290a6b1-795e-45b5-a1e7-4a3c541fd5c3' title='Show/Hide attributes'><svg class='icon xr-icon-file-text2'><use xlink:href='#icon-file-text2'></use></svg></label><input id='data-afba5c2b-a7ca-4b21-9d46-718a77d2f859' class='xr-var-data-in' type='checkbox'><label for='data-afba5c2b-a7ca-4b21-9d46-718a77d2f859' title='Show/Hide data repr'><svg class='icon xr-icon-database'><use xlink:href='#icon-database'></use></svg></label><div class='xr-var-attrs'><dl class='xr-attrs'></dl></div><div class='xr-var-data'><pre>array([270390., 270410., 270430., 270450., 270470., 270490., 270510., 270530.,\n",
       "       270550., 270570., 270590., 270610., 270630., 270650., 270670., 270690.,\n",
       "       270710., 270730., 270750., 270770., 270790., 270810., 270830., 270850.,\n",
       "       270870., 270890., 270910., 270930., 270950., 270970., 270990., 271010.,\n",
       "       271030., 271050., 271070., 271090., 271110., 271130., 271150., 271170.,\n",
       "       271190., 271210., 271230., 271250., 271270., 271290., 271310., 271330.,\n",
       "       271350., 271370., 271390., 271410., 271430., 271450., 271470., 271490.,\n",
       "       271510., 271530., 271550., 271570., 271590., 271610., 271630., 271650.])</pre></div></li><li class='xr-var-item'><div class='xr-var-name'><span class='xr-has-index'>y</span></div><div class='xr-var-dims'>(y)</div><div class='xr-var-dtype'>float64</div><div class='xr-var-preview xr-preview'>5.291e+06 5.291e+06 ... 5.29e+06</div><input id='attrs-fb00dbda-02e5-49cb-ad12-a8a70f140c12' class='xr-var-attrs-in' type='checkbox' disabled><label for='attrs-fb00dbda-02e5-49cb-ad12-a8a70f140c12' title='Show/Hide attributes'><svg class='icon xr-icon-file-text2'><use xlink:href='#icon-file-text2'></use></svg></label><input id='data-66920ba7-6642-4ffd-9398-f1fd501cdd8e' class='xr-var-data-in' type='checkbox'><label for='data-66920ba7-6642-4ffd-9398-f1fd501cdd8e' title='Show/Hide data repr'><svg class='icon xr-icon-database'><use xlink:href='#icon-database'></use></svg></label><div class='xr-var-attrs'><dl class='xr-attrs'></dl></div><div class='xr-var-data'><pre>array([5291230., 5291210., 5291190., 5291170., 5291150., 5291130., 5291110.,\n",
       "       5291090., 5291070., 5291050., 5291030., 5291010., 5290990., 5290970.,\n",
       "       5290950., 5290930., 5290910., 5290890., 5290870., 5290850., 5290830.,\n",
       "       5290810., 5290790., 5290770., 5290750., 5290730., 5290710., 5290690.,\n",
       "       5290670., 5290650., 5290630., 5290610., 5290590., 5290570., 5290550.,\n",
       "       5290530., 5290510., 5290490., 5290470., 5290450., 5290430., 5290410.,\n",
       "       5290390., 5290370., 5290350., 5290330., 5290310., 5290290., 5290270.,\n",
       "       5290250.])</pre></div></li><li class='xr-var-item'><div class='xr-var-name'><span>s2:reflectance_conversion_factor</span></div><div class='xr-var-dims'>(time)</div><div class='xr-var-dtype'>float64</div><div class='xr-var-preview xr-preview'>1.034 1.034 1.034 ... 1.034 1.034</div><input id='attrs-a834a323-fe3c-42bb-a04f-1e45720c0483' class='xr-var-attrs-in' type='checkbox' disabled><label for='attrs-a834a323-fe3c-42bb-a04f-1e45720c0483' title='Show/Hide attributes'><svg class='icon xr-icon-file-text2'><use xlink:href='#icon-file-text2'></use></svg></label><input id='data-e67464bf-728b-4da5-abd7-88751d909d03' class='xr-var-data-in' type='checkbox'><label for='data-e67464bf-728b-4da5-abd7-88751d909d03' title='Show/Hide data repr'><svg class='icon xr-icon-database'><use xlink:href='#icon-database'></use></svg></label><div class='xr-var-attrs'><dl class='xr-attrs'></dl></div><div class='xr-var-data'><pre>array([1.03416726, 1.03428934, 1.03428336, 1.03401784, 1.03383992,\n",
       "       1.03349473, 1.03271647, 1.03233979, 1.03169573, 1.02986833,\n",
       "       1.0289471 , 1.02829309, 1.02724426, 1.02650845, 1.02534074,\n",
       "       1.02452918, 1.02325219, 1.02099574, 1.02005318, 1.01858964,\n",
       "       1.01759277, 1.01232527, 1.01067076, 1.0078667 , 1.0067348 ,\n",
       "       1.00501609, 1.00387121, 1.00099167, 0.99926141, 0.99811716,\n",
       "       0.99526889, 0.99357762, 0.9924674 , 0.99081408, 0.98812923,\n",
       "       0.98708509, 0.98554186, 0.98454174, 0.98306997, 0.98212024,\n",
       "       0.98073043, 0.97771028, 0.97651072, 0.97465866, 0.97299509,\n",
       "       0.97238678, 0.97153086, 0.97027541, 0.96983487, 0.96888464,\n",
       "       0.96842164, 0.96783512, 0.96748094, 0.96740508, 0.96736134,\n",
       "       0.96758873, 0.9678274 , 0.968032  , 0.96841012, 0.96870651,\n",
       "       0.96960764, 0.97073014, 0.97150843, 0.97296934, 0.97360806,\n",
       "       0.97462965, 0.97534479, 0.97726602, 0.97935806, 0.98160812,\n",
       "       0.98303025, 0.98399985, 0.98550011, 0.98651791, 0.98914471,\n",
       "       0.99186189, 0.99465074, 0.9974901 , 1.00036066, 1.00209302,\n",
       "       1.00324092, 1.00610955, 1.00782008, 1.00894491, 1.01062505,\n",
       "       1.01172547, 1.01336229, 1.01443009, 1.01703663, 1.01854887,\n",
       "       1.02095726, 1.02187671, 1.02321635, 1.02407109, 1.02530778,\n",
       "       1.02609084, 1.02721446, 1.02791948, 1.02892074, 1.02954175,\n",
       "       1.03094426, 1.03211515, 1.03348397, 1.0337248 , 1.03401129,\n",
       "       1.03414988])</pre></div></li><li class='xr-var-item'><div class='xr-var-name'><span>s2:generation_time</span></div><div class='xr-var-dims'>(time)</div><div class='xr-var-dtype'>&lt;U24</div><div class='xr-var-preview xr-preview'>&#x27;2020-10-14T02:34:04.605Z&#x27; ... &#x27;...</div><input id='attrs-5c4be0d1-751b-499c-a74b-f608b0d3ff9f' class='xr-var-attrs-in' type='checkbox' disabled><label for='attrs-5c4be0d1-751b-499c-a74b-f608b0d3ff9f' title='Show/Hide attributes'><svg class='icon xr-icon-file-text2'><use xlink:href='#icon-file-text2'></use></svg></label><input id='data-c39ef352-13dd-49bd-bafc-35f6b2e85e86' class='xr-var-data-in' type='checkbox'><label for='data-c39ef352-13dd-49bd-bafc-35f6b2e85e86' title='Show/Hide data repr'><svg class='icon xr-icon-database'><use xlink:href='#icon-database'></use></svg></label><div class='xr-var-attrs'><dl class='xr-attrs'></dl></div><div class='xr-var-data'><pre>array([&#x27;2020-10-14T02:34:04.605Z&#x27;, &#x27;2020-10-14T03:14:37.567Z&#x27;,\n",
       "       &#x27;2020-10-14T04:32:32.871Z&#x27;, &#x27;2020-10-25T20:13:52.932Z&#x27;,\n",
       "       &#x27;2020-10-14T06:20:08.894Z&#x27;, &#x27;2020-10-14T07:04:22.628Z&#x27;,\n",
       "       &#x27;2020-10-14T08:20:39.574Z&#x27;, &#x27;2020-10-14T09:02:54.766Z&#x27;,\n",
       "       &#x27;2020-10-14T09:56:51.889Z&#x27;, &#x27;2020-10-13T19:17:10.565Z&#x27;,\n",
       "       &#x27;2020-10-13T20:20:32.706Z&#x27;, &#x27;2020-10-26T00:50:52.514Z&#x27;,\n",
       "       &#x27;2020-10-13T20:49:37.980Z&#x27;, &#x27;2020-10-13T21:41:16.114Z&#x27;,\n",
       "       &#x27;2020-10-13T22:53:27.791Z&#x27;, &#x27;2020-10-13T23:25:45.321Z&#x27;,\n",
       "       &#x27;2020-10-14T00:31:03.714Z&#x27;, &#x27;2020-10-14T02:05:07.855Z&#x27;,\n",
       "       &#x27;2020-10-13T05:30:10.796Z&#x27;, &#x27;2020-10-26T05:09:18.760Z&#x27;,\n",
       "       &#x27;2020-10-13T07:50:06.479Z&#x27;, &#x27;2020-10-13T10:26:42.257Z&#x27;,\n",
       "       &#x27;2020-10-13T11:52:07.348Z&#x27;, &#x27;2020-10-13T13:59:15.158Z&#x27;,\n",
       "       &#x27;2020-10-13T15:17:45.381Z&#x27;, &#x27;2020-10-13T16:50:46.208Z&#x27;,\n",
       "       &#x27;2020-10-12T16:57:27.312Z&#x27;, &#x27;2020-10-12T19:11:17.327Z&#x27;,\n",
       "       &#x27;2020-10-12T20:22:40.357Z&#x27;, &#x27;2020-10-12T20:57:48.800Z&#x27;,\n",
       "       &#x27;2020-10-12T23:09:52.356Z&#x27;, &#x27;2020-10-13T00:11:48.319Z&#x27;,\n",
       "       &#x27;2020-10-13T00:49:31.973Z&#x27;, &#x27;2020-10-13T02:04:00.545Z&#x27;,\n",
       "       &#x27;2020-10-13T04:20:55.192Z&#x27;, &#x27;2020-10-12T04:35:28.329Z&#x27;,\n",
       "       &#x27;2020-10-12T05:42:17.428Z&#x27;, &#x27;2020-10-12T06:42:53.526Z&#x27;,\n",
       "       &#x27;2020-10-12T07:54:15.393Z&#x27;, &#x27;2020-10-12T08:30:20.248Z&#x27;,\n",
       "...\n",
       "       &#x27;2020-11-03T11:19:04.557Z&#x27;, &#x27;2020-10-11T08:14:49.208Z&#x27;,\n",
       "       &#x27;2020-10-11T09:28:04.661Z&#x27;, &#x27;2020-10-11T10:03:03.514Z&#x27;,\n",
       "       &#x27;2020-10-08T23:59:29.128Z&#x27;, &#x27;2020-10-09T00:55:48.724Z&#x27;,\n",
       "       &#x27;2020-10-09T02:21:37.874Z&#x27;, &#x27;2020-10-09T04:11:58.426Z&#x27;,\n",
       "       &#x27;2020-10-09T05:47:58.671Z&#x27;, &#x27;2020-10-09T07:48:51.495Z&#x27;,\n",
       "       &#x27;2020-10-09T09:26:16.226Z&#x27;, &#x27;2020-10-09T10:25:58.135Z&#x27;,\n",
       "       &#x27;2020-10-09T11:14:56.231Z&#x27;, &#x27;2020-10-09T12:46:28.882Z&#x27;,\n",
       "       &#x27;2020-10-09T13:47:48.826Z&#x27;, &#x27;2020-10-09T14:39:13.678Z&#x27;,\n",
       "       &#x27;2020-10-09T15:38:40.772Z&#x27;, &#x27;2020-10-09T16:07:52.115Z&#x27;,\n",
       "       &#x27;2020-10-09T17:04:53.750Z&#x27;, &#x27;2020-10-08T15:13:57.349Z&#x27;,\n",
       "       &#x27;2020-10-08T16:35:09.108Z&#x27;, &#x27;2020-10-08T17:28:17.678Z&#x27;,\n",
       "       &#x27;2020-10-08T18:53:45.572Z&#x27;, &#x27;2020-10-08T19:19:16.311Z&#x27;,\n",
       "       &#x27;2020-10-08T20:10:41.816Z&#x27;, &#x27;2020-10-08T20:52:58.919Z&#x27;,\n",
       "       &#x27;2020-10-08T21:42:24.431Z&#x27;, &#x27;2020-10-08T22:06:55.685Z&#x27;,\n",
       "       &#x27;2020-10-08T22:56:02.348Z&#x27;, &#x27;2020-10-08T06:54:23.142Z&#x27;,\n",
       "       &#x27;2020-10-08T07:41:28.438Z&#x27;, &#x27;2020-10-08T08:06:56.637Z&#x27;,\n",
       "       &#x27;2020-10-08T09:35:52.907Z&#x27;, &#x27;2020-10-08T10:50:27.908Z&#x27;,\n",
       "       &#x27;2020-10-08T13:01:00.830Z&#x27;, &#x27;2020-10-08T13:25:06.767Z&#x27;,\n",
       "       &#x27;2020-10-08T14:13:59.294Z&#x27;, &#x27;2020-10-07T22:01:00.797Z&#x27;],\n",
       "      dtype=&#x27;&lt;U24&#x27;)</pre></div></li><li class='xr-var-item'><div class='xr-var-name'><span>sat:relative_orbit</span></div><div class='xr-var-dims'>(time)</div><div class='xr-var-dtype'>int64</div><div class='xr-var-preview xr-preview'>53 96 96 96 53 ... 53 96 53 96 53</div><input id='attrs-f363c1ce-10cf-4da2-8f09-76b262666091' class='xr-var-attrs-in' type='checkbox' disabled><label for='attrs-f363c1ce-10cf-4da2-8f09-76b262666091' title='Show/Hide attributes'><svg class='icon xr-icon-file-text2'><use xlink:href='#icon-file-text2'></use></svg></label><input id='data-7b36bd30-cb4b-4f8e-a6f3-161535dd1422' class='xr-var-data-in' type='checkbox'><label for='data-7b36bd30-cb4b-4f8e-a6f3-161535dd1422' title='Show/Hide data repr'><svg class='icon xr-icon-database'><use xlink:href='#icon-database'></use></svg></label><div class='xr-var-attrs'><dl class='xr-attrs'></dl></div><div class='xr-var-data'><pre>array([53, 96, 96, 96, 53, 96, 96, 53, 96, 53, 96, 53, 96, 53, 96, 53, 96,\n",
       "       96, 53, 96, 53, 53, 96, 96, 53, 96, 53, 53, 96, 53, 53, 96, 53, 96,\n",
       "       96, 53, 96, 53, 96, 53, 96, 53, 96, 96, 96, 53, 96, 96, 53, 53, 96,\n",
       "       96, 96, 53, 96, 53, 96, 53, 96, 53, 53, 53, 96, 96, 53, 96, 53, 53,\n",
       "       53, 53, 96, 53, 96, 53, 53, 53, 53, 53, 53, 96, 53, 53, 96, 53, 96,\n",
       "       53, 96, 53, 53, 96, 96, 53, 96, 53, 96, 53, 96, 53, 96, 53, 53, 53,\n",
       "       96, 53, 96, 53])</pre></div></li><li class='xr-var-item'><div class='xr-var-name'><span>s2:saturated_defective_pixel_percentage</span></div><div class='xr-var-dims'>()</div><div class='xr-var-dtype'>float64</div><div class='xr-var-preview xr-preview'>0.0</div><input id='attrs-d5d0665b-18c8-4041-aa3d-bbe5adb6065d' class='xr-var-attrs-in' type='checkbox' disabled><label for='attrs-d5d0665b-18c8-4041-aa3d-bbe5adb6065d' title='Show/Hide attributes'><svg class='icon xr-icon-file-text2'><use xlink:href='#icon-file-text2'></use></svg></label><input id='data-8aebd9e6-e8c5-453b-a935-c9f5311304cf' class='xr-var-data-in' type='checkbox'><label for='data-8aebd9e6-e8c5-453b-a935-c9f5311304cf' title='Show/Hide data repr'><svg class='icon xr-icon-database'><use xlink:href='#icon-database'></use></svg></label><div class='xr-var-attrs'><dl class='xr-attrs'></dl></div><div class='xr-var-data'><pre>array(0.)</pre></div></li><li class='xr-var-item'><div class='xr-var-name'><span>s2:snow_ice_percentage</span></div><div class='xr-var-dims'>(time)</div><div class='xr-var-dtype'>float64</div><div class='xr-var-preview xr-preview'>6.717 10.88 7.832 ... 33.37 5.035</div><input id='attrs-99637aeb-9200-464f-8305-10afe82ddc7d' class='xr-var-attrs-in' type='checkbox' disabled><label for='attrs-99637aeb-9200-464f-8305-10afe82ddc7d' title='Show/Hide attributes'><svg class='icon xr-icon-file-text2'><use xlink:href='#icon-file-text2'></use></svg></label><input id='data-5d08e069-7e14-43c4-8124-2163d4cc8e3c' class='xr-var-data-in' type='checkbox'><label for='data-5d08e069-7e14-43c4-8124-2163d4cc8e3c' title='Show/Hide data repr'><svg class='icon xr-icon-database'><use xlink:href='#icon-database'></use></svg></label><div class='xr-var-attrs'><dl class='xr-attrs'></dl></div><div class='xr-var-data'><pre>array([ 6.717055, 10.878932,  7.831773, 10.171036,  4.900428,  8.924814,\n",
       "        8.756564,  5.580981,  8.153313,  5.669984,  3.266787,  4.09494 ,\n",
       "        7.184189,  5.083561,  9.45041 ,  4.446632,  6.054515,  5.436119,\n",
       "        3.528861,  5.574257,  3.697178,  4.790309,  4.70073 ,  0.991417,\n",
       "        4.171867, 29.29464 ,  3.02086 , 13.562089, 17.670207, 33.158287,\n",
       "        9.139794,  8.813886,  1.366747,  3.87267 ,  8.084402, 31.489563,\n",
       "        7.480347,  4.014204,  3.809963,  3.093116, 39.284167,  1.461701,\n",
       "       26.394287, 36.804426, 10.93906 , 57.170188, 22.163546, 19.12981 ,\n",
       "       12.380725, 12.054373, 15.56363 , 41.007137,  9.765691, 18.702638,\n",
       "       14.679229, 24.013543, 13.160922,  5.047217, 22.204128,  6.787112,\n",
       "       27.405059,  8.035775, 21.508723, 13.112052, 17.077117, 49.803838,\n",
       "       26.271799,  8.830781, 20.426501, 13.743295, 10.976817, 28.617799,\n",
       "       13.284743, 22.870959, 19.844715, 31.589177, 28.208923, 35.608479,\n",
       "       22.811411, 25.483325, 17.305431,  8.642864, 21.626505, 19.734912,\n",
       "       18.278821, 17.899132, 20.797569, 44.199529, 26.85129 , 17.712638,\n",
       "       12.22109 ,  8.097047, 15.865605, 11.863999, 15.55443 , 16.298954,\n",
       "       11.386686, 14.702308,  9.042276, 13.00956 ,  8.74098 , 10.84711 ,\n",
       "        2.77134 ,  7.074167, 33.369869,  5.034992])</pre></div></li><li class='xr-var-item'><div class='xr-var-name'><span>s2:medium_proba_clouds_percentage</span></div><div class='xr-var-dims'>(time)</div><div class='xr-var-dtype'>float64</div><div class='xr-var-preview xr-preview'>7.395 21.82 12.1 ... 1.503 4.604</div><input id='attrs-c8b393ad-8aa1-4ae4-b852-69f007962548' class='xr-var-attrs-in' type='checkbox' disabled><label for='attrs-c8b393ad-8aa1-4ae4-b852-69f007962548' title='Show/Hide attributes'><svg class='icon xr-icon-file-text2'><use xlink:href='#icon-file-text2'></use></svg></label><input id='data-a9369f46-38cb-4223-92b1-70e01810bdd6' class='xr-var-data-in' type='checkbox'><label for='data-a9369f46-38cb-4223-92b1-70e01810bdd6' title='Show/Hide data repr'><svg class='icon xr-icon-database'><use xlink:href='#icon-database'></use></svg></label><div class='xr-var-attrs'><dl class='xr-attrs'></dl></div><div class='xr-var-data'><pre>array([ 7.395304, 21.821535, 12.099092,  0.438333,  4.319813,  1.270482,\n",
       "        0.323893,  1.725001,  0.286347,  0.373479,  7.988216,  8.149216,\n",
       "        0.470439,  0.78872 ,  5.604919,  1.583967,  0.551362,  1.542833,\n",
       "        4.085396,  0.784503,  0.363314, 18.863763,  3.17841 , 25.498104,\n",
       "        9.195029,  3.774982,  0.861004,  6.154945,  5.154106, 18.271492,\n",
       "       51.185584,  3.53659 ,  7.395526,  0.422352,  6.423733,  3.343406,\n",
       "        1.939358, 14.188424,  3.248101,  4.542727,  7.753001, 22.41808 ,\n",
       "        4.205925,  8.360203,  0.970804, 18.757585, 30.312741,  7.990479,\n",
       "        4.967253, 28.38774 ,  5.463751,  2.757938, 30.578637, 24.491584,\n",
       "        2.506984, 10.331226,  8.739103, 15.435152,  2.071015, 18.575197,\n",
       "        4.783478, 71.18997 ,  5.991709,  7.559146, 10.007568,  6.437142,\n",
       "        2.209182, 32.823199, 18.317609, 17.365907, 26.332986,  1.102552,\n",
       "        8.26361 ,  2.933192,  6.646425, 18.778694, 42.434001,  5.258811,\n",
       "        5.052578,  2.580027, 12.79927 , 35.769781, 47.124779, 13.29781 ,\n",
       "        2.167409, 19.281028,  0.43152 ,  4.246263,  0.576581,  2.384611,\n",
       "        8.942652,  6.041135, 74.841589,  5.673009,  1.743669,  0.74242 ,\n",
       "        5.558205,  0.351064,  8.271105,  0.417504,  3.657627,  0.523429,\n",
       "        7.241007,  5.265061,  1.503346,  4.604004])</pre></div></li><li class='xr-var-item'><div class='xr-var-name'><span>s2:unclassified_percentage</span></div><div class='xr-var-dims'>(time)</div><div class='xr-var-dtype'>float64</div><div class='xr-var-preview xr-preview'>4.659 0.4411 ... 0.04012 4.632</div><input id='attrs-1e6a69a2-9325-4ffa-974a-2fa70b0f0fff' class='xr-var-attrs-in' type='checkbox' disabled><label for='attrs-1e6a69a2-9325-4ffa-974a-2fa70b0f0fff' title='Show/Hide attributes'><svg class='icon xr-icon-file-text2'><use xlink:href='#icon-file-text2'></use></svg></label><input id='data-fc22773c-2e9e-46c4-bd77-284b26cbdc3b' class='xr-var-data-in' type='checkbox'><label for='data-fc22773c-2e9e-46c4-bd77-284b26cbdc3b' title='Show/Hide data repr'><svg class='icon xr-icon-database'><use xlink:href='#icon-database'></use></svg></label><div class='xr-var-attrs'><dl class='xr-attrs'></dl></div><div class='xr-var-data'><pre>array([4.6593570e+00, 4.4112800e-01, 4.2841210e+00, 2.7144960e+00,\n",
       "       4.5987270e+00, 2.6096610e+00, 2.7487390e+00, 2.8905810e+00,\n",
       "       2.7256740e+00, 3.0361590e+00, 3.7441510e+00, 6.7122210e+00,\n",
       "       3.2474390e+00, 3.4508850e+00, 1.1924640e+00, 4.0518920e+00,\n",
       "       3.9210300e+00, 4.7791640e+00, 5.0310810e+00, 3.6775400e+00,\n",
       "       4.1195830e+00, 5.7248380e+00, 3.5335340e+00, 1.2168180e+00,\n",
       "       3.4411100e+00, 2.3441250e+00, 6.7923030e+00, 6.6342700e+00,\n",
       "       6.5389600e-01, 4.4365850e+00, 2.0933140e+00, 2.0362090e+00,\n",
       "       5.8049810e+00, 1.0831688e+01, 1.0388224e+01, 1.6728350e+00,\n",
       "       1.0894620e+01, 3.4269330e+00, 5.2452070e+00, 9.3849750e+00,\n",
       "       3.7860090e+00, 2.1082680e+00, 1.3966990e+00, 3.5610040e+00,\n",
       "       8.7022800e+00, 4.4923200e-01, 2.8817560e+00, 1.1092784e+01,\n",
       "       1.0572660e+00, 4.2137520e+00, 8.3636370e+00, 1.5316680e+00,\n",
       "       3.2059620e+00, 1.2636720e+00, 5.0730590e+00, 5.7803890e+00,\n",
       "       7.5090250e+00, 2.1890800e+00, 1.2257209e+01, 9.3497500e-01,\n",
       "       8.1357590e+00, 1.7910410e+00, 8.8936140e+00, 6.0311230e+00,\n",
       "       9.7875060e+00, 1.6261860e+00, 1.0333668e+01, 1.7509860e+00,\n",
       "       9.1278870e+00, 1.4615910e+00, 4.2220000e-03, 6.1733570e+00,\n",
       "       5.3116700e+00, 5.6413780e+00, 3.6419020e+00, 4.0900790e+00,\n",
       "       1.6389330e+00, 6.4380410e+00, 3.9958230e+00, 2.9663220e+00,\n",
       "       3.1053350e+00, 9.1447900e-01, 6.6336000e-02, 3.6778610e+00,\n",
       "       2.5976900e-01, 1.9481290e+00, 2.3427510e+00, 4.8354000e-02,\n",
       "       3.4740670e+00, 3.5729250e+00, 4.8035870e+00, 4.5598820e+00,\n",
       "       3.7800000e-04, 5.4652520e+00, 3.3225150e+00, 3.1789750e+00,\n",
       "       4.8267720e+00, 2.6015370e+00, 2.7167610e+00, 2.6051490e+00,\n",
       "       3.6097440e+00, 2.9619730e+00, 4.4596430e+00, 5.4517890e+00,\n",
       "       4.0119000e-02, 4.6316620e+00])</pre></div></li><li class='xr-var-item'><div class='xr-var-name'><span>s2:mean_solar_azimuth</span></div><div class='xr-var-dims'>(time)</div><div class='xr-var-dtype'>float64</div><div class='xr-var-preview xr-preview'>64.2 61.2 61.03 ... 61.05 64.17</div><input id='attrs-bb2609f5-6120-4336-8024-52ae7461f5ea' class='xr-var-attrs-in' type='checkbox' disabled><label for='attrs-bb2609f5-6120-4336-8024-52ae7461f5ea' title='Show/Hide attributes'><svg class='icon xr-icon-file-text2'><use xlink:href='#icon-file-text2'></use></svg></label><input id='data-7d008ca5-6e44-4b2f-982f-a986ca3c7642' class='xr-var-data-in' type='checkbox'><label for='data-7d008ca5-6e44-4b2f-982f-a986ca3c7642' title='Show/Hide data repr'><svg class='icon xr-icon-database'><use xlink:href='#icon-database'></use></svg></label><div class='xr-var-attrs'><dl class='xr-attrs'></dl></div><div class='xr-var-data'><pre>array([64.19989848, 61.19938977, 61.0344092 , 60.57658355, 63.27635207,\n",
       "       59.86111356, 58.899991  , 61.39762922, 57.74368778, 58.74528419,\n",
       "       54.91494131, 57.18820239, 53.2941616 , 55.55747283, 51.62306524,\n",
       "       53.81107104, 49.84881068, 48.08578644, 50.21724244, 46.25957273,\n",
       "       48.42957322, 44.8494465 , 41.0198856 , 39.35573689, 41.47703263,\n",
       "       37.79877923, 39.89004285, 38.42386735, 34.93716297, 37.03438087,\n",
       "       35.7817852 , 32.51099861, 34.61971655, 31.45993989, 30.55605602,\n",
       "       32.68062256, 29.74788255, 31.91275997, 29.09391483, 31.24266363,\n",
       "       28.53345204, 30.30263591, 27.79813935, 27.61502432, 27.50141172,\n",
       "       29.76116831, 27.51258987, 27.59861531, 29.89041194, 30.07753978,\n",
       "       28.00555671, 28.3106126 , 28.65533367, 31.04496465, 29.05914312,\n",
       "       31.92631998, 29.94625409, 32.39871049, 30.40482922, 32.91184102,\n",
       "       33.4110463 , 33.9486194 , 31.87472953, 32.34624583, 35.01251249,\n",
       "       32.8542605 , 35.52389723, 36.08656125, 36.59875481, 37.18399799,\n",
       "       34.81795436, 37.72916457, 35.31322093, 38.3581201 , 38.97217079,\n",
       "       39.66290946, 40.38872402, 41.20674076, 42.10090123, 39.46652164,\n",
       "       43.10413786, 44.21304868, 41.5719615 , 45.43896531, 42.80971487,\n",
       "       46.79384653, 44.19212264, 48.26331321, 49.86539873, 47.33866957,\n",
       "       49.04734653, 53.30348076, 50.84967767, 55.05267545, 52.61968643,\n",
       "       56.82163253, 54.39918139, 58.46603895, 56.03265812, 60.02096498,\n",
       "       61.36258374, 62.4931929 , 60.58644435, 63.91195892, 61.04921657,\n",
       "       64.16934044])</pre></div></li><li class='xr-var-item'><div class='xr-var-name'><span>s2:product_uri</span></div><div class='xr-var-dims'>(time)</div><div class='xr-var-dtype'>&lt;U65</div><div class='xr-var-preview xr-preview'>&#x27;S2A_MSIL2A_20180101T142751_N021...</div><input id='attrs-960b8367-7866-423a-88f9-ef70311e4694' class='xr-var-attrs-in' type='checkbox' disabled><label for='attrs-960b8367-7866-423a-88f9-ef70311e4694' title='Show/Hide attributes'><svg class='icon xr-icon-file-text2'><use xlink:href='#icon-file-text2'></use></svg></label><input id='data-60986d6c-7e0d-45b5-a678-4bb6e670307e' class='xr-var-data-in' type='checkbox'><label for='data-60986d6c-7e0d-45b5-a678-4bb6e670307e' title='Show/Hide data repr'><svg class='icon xr-icon-database'><use xlink:href='#icon-database'></use></svg></label><div class='xr-var-attrs'><dl class='xr-attrs'></dl></div><div class='xr-var-data'><pre>array([&#x27;S2A_MSIL2A_20180101T142751_N0212_R053_T19GBP_20201014T023404.SAFE&#x27;,\n",
       "       &#x27;S2A_MSIL2A_20180104T145401_N0212_R096_T19GBP_20201014T031437.SAFE&#x27;,\n",
       "       &#x27;S2B_MSIL2A_20180109T143749_N0212_R096_T19GBP_20201014T043232.SAFE&#x27;,\n",
       "       &#x27;S2A_MSIL2A_20180114T143741_N0212_R096_T19GBP_20201025T201352.SAFE&#x27;,\n",
       "       &#x27;S2B_MSIL2A_20180116T142849_N0212_R053_T19GBP_20201014T062008.SAFE&#x27;,\n",
       "       &#x27;S2B_MSIL2A_20180119T143749_N0212_R096_T19GBP_20201014T070422.SAFE&#x27;,\n",
       "       &#x27;S2A_MSIL2A_20180124T145401_N0212_R096_T19GBP_20201014T082039.SAFE&#x27;,\n",
       "       &#x27;S2B_MSIL2A_20180126T142849_N0212_R053_T19GBP_20201014T090254.SAFE&#x27;,\n",
       "       &#x27;S2B_MSIL2A_20180129T143749_N0212_R096_T19GBP_20201014T095651.SAFE&#x27;,\n",
       "       &#x27;S2B_MSIL2A_20180205T142849_N0212_R053_T19GBP_20201013T191710.SAFE&#x27;,\n",
       "       &#x27;S2B_MSIL2A_20180208T143749_N0212_R096_T19GBP_20201013T202032.SAFE&#x27;,\n",
       "       &#x27;S2A_MSIL2A_20180210T142851_N0212_R053_T19GBP_20201026T005052.SAFE&#x27;,\n",
       "       &#x27;S2A_MSIL2A_20180213T143751_N0212_R096_T19GBP_20201013T204937.SAFE&#x27;,\n",
       "       &#x27;S2B_MSIL2A_20180215T142849_N0212_R053_T19GBP_20201013T214116.SAFE&#x27;,\n",
       "       &#x27;S2B_MSIL2A_20180218T143749_N0212_R096_T19GBP_20201013T225327.SAFE&#x27;,\n",
       "       &#x27;S2A_MSIL2A_20180220T142851_N0212_R053_T19GBP_20201013T232545.SAFE&#x27;,\n",
       "       &#x27;S2A_MSIL2A_20180223T143751_N0212_R096_T19GBP_20201014T003103.SAFE&#x27;,\n",
       "       &#x27;S2B_MSIL2A_20180228T143749_N0212_R096_T19GBP_20201014T020507.SAFE&#x27;,\n",
       "       &#x27;S2A_MSIL2A_20180302T142851_N0212_R053_T19GBP_20201013T053010.SAFE&#x27;,\n",
       "       &#x27;S2A_MSIL2A_20180305T143751_N0212_R096_T19GBP_20201026T050918.SAFE&#x27;,\n",
       "...\n",
       "       &#x27;S2B_MSIL2A_20181102T142849_N0212_R053_T19GBP_20201008T151357.SAFE&#x27;,\n",
       "       &#x27;S2A_MSIL2A_20181107T142751_N0212_R053_T19GBP_20201008T163509.SAFE&#x27;,\n",
       "       &#x27;S2A_MSIL2A_20181110T143751_N0212_R096_T19GBP_20201008T172817.SAFE&#x27;,\n",
       "       &#x27;S2B_MSIL2A_20181115T143749_N0212_R096_T19GBP_20201008T185345.SAFE&#x27;,\n",
       "       &#x27;S2A_MSIL2A_20181117T142751_N0212_R053_T19GBP_20201008T191916.SAFE&#x27;,\n",
       "       &#x27;S2A_MSIL2A_20181120T143751_N0212_R096_T19GBP_20201008T201041.SAFE&#x27;,\n",
       "       &#x27;S2B_MSIL2A_20181122T142749_N0212_R053_T19GBP_20201008T205258.SAFE&#x27;,\n",
       "       &#x27;S2B_MSIL2A_20181125T143749_N0212_R096_T19GBP_20201008T214224.SAFE&#x27;,\n",
       "       &#x27;S2A_MSIL2A_20181127T142741_N0212_R053_T19GBP_20201008T220655.SAFE&#x27;,\n",
       "       &#x27;S2A_MSIL2A_20181130T143741_N0212_R096_T19GBP_20201008T225602.SAFE&#x27;,\n",
       "       &#x27;S2B_MSIL2A_20181202T142749_N0212_R053_T19GBP_20201008T065423.SAFE&#x27;,\n",
       "       &#x27;S2B_MSIL2A_20181205T143749_N0212_R096_T19GBP_20201008T074128.SAFE&#x27;,\n",
       "       &#x27;S2A_MSIL2A_20181207T142741_N0212_R053_T19GBP_20201008T080656.SAFE&#x27;,\n",
       "       &#x27;S2B_MSIL2A_20181212T142749_N0212_R053_T19GBP_20201008T093552.SAFE&#x27;,\n",
       "       &#x27;S2A_MSIL2A_20181217T142741_N0212_R053_T19GBP_20201008T105027.SAFE&#x27;,\n",
       "       &#x27;S2B_MSIL2A_20181225T143749_N0212_R096_T19GBP_20201008T130100.SAFE&#x27;,\n",
       "       &#x27;S2A_MSIL2A_20181227T142751_N0212_R053_T19GBP_20201008T132506.SAFE&#x27;,\n",
       "       &#x27;S2A_MSIL2A_20181230T143751_N0212_R096_T19GBP_20201008T141359.SAFE&#x27;,\n",
       "       &#x27;S2B_MSIL2A_20190101T142749_N0212_R053_T19GBP_20201007T220100.SAFE&#x27;],\n",
       "      dtype=&#x27;&lt;U65&#x27;)</pre></div></li><li class='xr-var-item'><div class='xr-var-name'><span>s2:datatake_type</span></div><div class='xr-var-dims'>()</div><div class='xr-var-dtype'>&lt;U8</div><div class='xr-var-preview xr-preview'>&#x27;INS-NOBS&#x27;</div><input id='attrs-dca4dad2-cda2-4989-bfcd-b907de1b7c38' class='xr-var-attrs-in' type='checkbox' disabled><label for='attrs-dca4dad2-cda2-4989-bfcd-b907de1b7c38' title='Show/Hide attributes'><svg class='icon xr-icon-file-text2'><use xlink:href='#icon-file-text2'></use></svg></label><input id='data-8d80d67a-6e1e-4e7c-bb03-6e119625317b' class='xr-var-data-in' type='checkbox'><label for='data-8d80d67a-6e1e-4e7c-bb03-6e119625317b' title='Show/Hide data repr'><svg class='icon xr-icon-database'><use xlink:href='#icon-database'></use></svg></label><div class='xr-var-attrs'><dl class='xr-attrs'></dl></div><div class='xr-var-data'><pre>array(&#x27;INS-NOBS&#x27;, dtype=&#x27;&lt;U8&#x27;)</pre></div></li><li class='xr-var-item'><div class='xr-var-name'><span>s2:not_vegetated_percentage</span></div><div class='xr-var-dims'>(time)</div><div class='xr-var-dtype'>float64</div><div class='xr-var-preview xr-preview'>4.274 0.00613 ... 0.00376 5.545</div><input id='attrs-1176ac01-4749-4c66-8bd3-d994a5ab6ef7' class='xr-var-attrs-in' type='checkbox' disabled><label for='attrs-1176ac01-4749-4c66-8bd3-d994a5ab6ef7' title='Show/Hide attributes'><svg class='icon xr-icon-file-text2'><use xlink:href='#icon-file-text2'></use></svg></label><input id='data-fdb18de8-d0f6-413e-9927-6e871adb8f43' class='xr-var-data-in' type='checkbox'><label for='data-fdb18de8-d0f6-413e-9927-6e871adb8f43' title='Show/Hide data repr'><svg class='icon xr-icon-database'><use xlink:href='#icon-database'></use></svg></label><div class='xr-var-attrs'><dl class='xr-attrs'></dl></div><div class='xr-var-data'><pre>array([4.2736220e+00, 6.1300000e-03, 1.5248810e+00, 3.4709620e+00,\n",
       "       7.2991890e+00, 2.8057070e+00, 4.0231020e+00, 7.9591020e+00,\n",
       "       4.3866750e+00, 1.0396594e+01, 6.2412000e-02, 2.4970490e+00,\n",
       "       4.5515440e+00, 1.0244519e+01, 2.2654000e-02, 9.6005940e+00,\n",
       "       4.4748080e+00, 6.3022310e+00, 9.3931350e+00, 4.5427180e+00,\n",
       "       1.0791248e+01, 1.9657800e+00, 9.1371600e-01, 7.2294000e-02,\n",
       "       8.9377600e-01, 2.0896000e-02, 9.4399760e+00, 1.3119640e+00,\n",
       "       4.2030000e-03, 2.9957000e-02, 3.3203300e-01, 7.7650000e-03,\n",
       "       2.8788390e+00, 4.6550280e+00, 5.3665500e-01, 4.3066000e-02,\n",
       "       1.3305270e+00, 2.1129620e+00, 6.8750110e+00, 7.5716390e+00,\n",
       "       1.2532000e-02, 3.1027400e-01, 7.9330000e-03, 2.4110000e-03,\n",
       "       4.8573600e-01, 1.3892000e-02, 1.5839000e-02, 3.3722400e-01,\n",
       "       7.7740000e-03, 2.4437900e-01, 1.4660800e-01, 6.4000000e-04,\n",
       "       1.6148600e-01, 6.5139000e-02, 1.6790600e-01, 1.7512000e-02,\n",
       "       2.0365000e-01, 2.9831000e-02, 1.5994350e+00, 1.2727000e-01,\n",
       "       3.4530150e+00, 5.8301000e-02, 1.1664800e-01, 1.6179000e-01,\n",
       "       3.4908210e+00, 2.9950000e-02, 2.7675050e+00, 1.0599200e-01,\n",
       "       5.3973300e-01, 3.7407000e-01, 2.6250000e-03, 3.9557620e+00,\n",
       "       1.9367200e-01, 5.6276890e+00, 3.5919300e-01, 3.5265000e-02,\n",
       "       3.5006900e-01, 2.8053720e+00, 3.0834970e+00, 3.1678800e-01,\n",
       "       1.5843340e+00, 6.5930000e-03, 2.0413000e-02, 2.5898920e+00,\n",
       "       3.7420000e-03, 5.1824600e-01, 7.5258800e-01, 2.8100000e-03,\n",
       "       4.4038390e+00, 7.0708700e-01, 2.1204000e-01, 1.0096910e+00,\n",
       "       1.5147000e-02, 3.1724920e+00, 1.8898380e+00, 6.7661840e+00,\n",
       "       7.3101400e-01, 6.8717640e+00, 1.1918650e+00, 6.8547790e+00,\n",
       "       5.7811320e+00, 7.3525100e+00, 4.8691500e-01, 6.0817210e+00,\n",
       "       3.7600000e-03, 5.5454280e+00])</pre></div></li><li class='xr-var-item'><div class='xr-var-name'><span>s2:water_percentage</span></div><div class='xr-var-dims'>(time)</div><div class='xr-var-dtype'>float64</div><div class='xr-var-preview xr-preview'>1.323 0.2802 6.942 ... 0.1135 3.38</div><input id='attrs-e21acc3a-379b-459c-a7da-3fd7692ab13f' class='xr-var-attrs-in' type='checkbox' disabled><label for='attrs-e21acc3a-379b-459c-a7da-3fd7692ab13f' title='Show/Hide attributes'><svg class='icon xr-icon-file-text2'><use xlink:href='#icon-file-text2'></use></svg></label><input id='data-2df7f5eb-712e-4cac-b224-ef4a3488d54c' class='xr-var-data-in' type='checkbox'><label for='data-2df7f5eb-712e-4cac-b224-ef4a3488d54c' title='Show/Hide data repr'><svg class='icon xr-icon-database'><use xlink:href='#icon-database'></use></svg></label><div class='xr-var-attrs'><dl class='xr-attrs'></dl></div><div class='xr-var-data'><pre>array([ 1.323098,  0.280154,  6.941802,  9.863104,  3.588512,  7.87554 ,\n",
       "       10.802207,  1.728857, 10.891321,  6.110175,  1.675826,  2.291764,\n",
       "       10.514141,  4.003341,  0.189529,  6.026026, 10.698865,  8.8258  ,\n",
       "        2.906812,  8.593591,  6.143961,  4.12502 ,  5.425416,  2.009799,\n",
       "        0.150172,  1.164836,  4.893415,  5.614989,  0.481798,  2.570164,\n",
       "        0.062671,  0.376273,  0.697599, 11.915413, 10.382547,  0.50332 ,\n",
       "       12.685005,  2.870163,  1.997307,  4.767564,  1.45034 ,  1.061994,\n",
       "        0.98265 ,  1.720198, 15.561345,  0.616985,  3.964833, 10.963132,\n",
       "        0.293045,  0.752094, 14.158358,  0.331124,  9.938157,  1.097369,\n",
       "       11.79887 ,  1.572467,  6.326141,  2.022416, 12.64101 ,  2.932287,\n",
       "        4.807573,  0.034811,  9.644744,  1.942528,  1.565579,  0.886864,\n",
       "        7.589378,  0.064884,  5.489691,  0.040985,  0.241686,  6.370171,\n",
       "        5.097279,  5.753644,  0.45973 ,  1.301711,  0.139648,  3.086201,\n",
       "        1.179897, 10.789564,  4.316107,  0.793086,  0.306201,  4.342723,\n",
       "        0.474654,  0.134157, 10.8658  ,  0.078722,  3.792563, 10.193083,\n",
       "        5.617116,  0.641726,  0.      ,  3.251792, 10.674616,  5.993547,\n",
       "        8.526067,  6.051712,  9.018508,  6.105106,  1.555035,  6.047185,\n",
       "        5.773452,  4.614857,  0.113535,  3.380186])</pre></div></li><li class='xr-var-item'><div class='xr-var-name'><span>s2:nodata_pixel_percentage</span></div><div class='xr-var-dims'>(time)</div><div class='xr-var-dtype'>float64</div><div class='xr-var-preview xr-preview'>3e-06 55.13 56.3 ... 56.24 3.6e-05</div><input id='attrs-3642a1f8-c797-4b43-9245-2d107299f73a' class='xr-var-attrs-in' type='checkbox' disabled><label for='attrs-3642a1f8-c797-4b43-9245-2d107299f73a' title='Show/Hide attributes'><svg class='icon xr-icon-file-text2'><use xlink:href='#icon-file-text2'></use></svg></label><input id='data-28360f74-742c-423d-944b-cb7bf669c9af' class='xr-var-data-in' type='checkbox'><label for='data-28360f74-742c-423d-944b-cb7bf669c9af' title='Show/Hide data repr'><svg class='icon xr-icon-database'><use xlink:href='#icon-database'></use></svg></label><div class='xr-var-attrs'><dl class='xr-attrs'></dl></div><div class='xr-var-data'><pre>array([3.0000000e-06, 5.5129659e+01, 5.6298155e+01, 5.6056941e+01,\n",
       "       3.0000000e-06, 5.6157148e+01, 5.6059992e+01, 1.0000000e-05,\n",
       "       5.6045550e+01, 5.3000000e-05, 5.5759668e+01, 0.0000000e+00,\n",
       "       5.6098670e+01, 1.3000000e-05, 5.5432230e+01, 2.0000000e-05,\n",
       "       5.5927563e+01, 5.5149060e+01, 1.2300000e-04, 5.5761027e+01,\n",
       "       2.8200000e-04, 0.0000000e+00, 5.5809647e+01, 5.6419373e+01,\n",
       "       0.0000000e+00, 5.5969650e+01, 1.4300000e-04, 7.6000000e-05,\n",
       "       5.5951983e+01, 0.0000000e+00, 0.0000000e+00, 5.5907404e+01,\n",
       "       0.0000000e+00, 5.6314051e+01, 5.5810994e+01, 0.0000000e+00,\n",
       "       5.6227845e+01, 3.0000000e-06, 5.5534172e+01, 3.0000000e-05,\n",
       "       5.6103152e+01, 3.0000000e-06, 5.5748975e+01, 5.4727519e+01,\n",
       "       5.5259949e+01, 0.0000000e+00, 5.4984444e+01, 5.4866099e+01,\n",
       "       0.0000000e+00, 0.0000000e+00, 5.5191159e+01, 5.5444443e+01,\n",
       "       5.5428249e+01, 0.0000000e+00, 5.5429113e+01, 0.0000000e+00,\n",
       "       6.5917438e+01, 1.3370000e-03, 5.5686426e+01, 4.6400000e-04,\n",
       "       1.2640000e-03, 4.4500000e-04, 5.4948848e+01, 5.5511880e+01,\n",
       "       0.0000000e+00, 5.4424918e+01, 9.3000000e-05, 0.0000000e+00,\n",
       "       1.0000000e-05, 0.0000000e+00, 5.4501599e+01, 5.0000000e-05,\n",
       "       5.5787671e+01, 0.0000000e+00, 0.0000000e+00, 0.0000000e+00,\n",
       "       0.0000000e+00, 0.0000000e+00, 0.0000000e+00, 5.6456906e+01,\n",
       "       3.0000000e-06, 0.0000000e+00, 5.6391531e+01, 0.0000000e+00,\n",
       "       5.6292087e+01, 0.0000000e+00, 5.6053579e+01, 0.0000000e+00,\n",
       "       3.0000000e-05, 5.5617744e+01, 5.6237918e+01, 0.0000000e+00,\n",
       "       5.5272782e+01, 3.3000000e-05, 5.6069112e+01, 1.1600000e-04,\n",
       "       5.4812914e+01, 1.1600000e-04, 6.0214555e+01, 6.0000000e-05,\n",
       "       4.6000000e-05, 8.6000000e-05, 5.6339324e+01, 3.6000000e-05,\n",
       "       5.6235576e+01, 3.6000000e-05])</pre></div></li><li class='xr-var-item'><div class='xr-var-name'><span>s2:degraded_msi_data_percentage</span></div><div class='xr-var-dims'>()</div><div class='xr-var-dtype'>float64</div><div class='xr-var-preview xr-preview'>0.0</div><input id='attrs-3c6f2124-a7a6-439f-853d-d584be8ee05a' class='xr-var-attrs-in' type='checkbox' disabled><label for='attrs-3c6f2124-a7a6-439f-853d-d584be8ee05a' title='Show/Hide attributes'><svg class='icon xr-icon-file-text2'><use xlink:href='#icon-file-text2'></use></svg></label><input id='data-81e6a469-fc1e-40c7-95be-c96fd12a1f67' class='xr-var-data-in' type='checkbox'><label for='data-81e6a469-fc1e-40c7-95be-c96fd12a1f67' title='Show/Hide data repr'><svg class='icon xr-icon-database'><use xlink:href='#icon-database'></use></svg></label><div class='xr-var-attrs'><dl class='xr-attrs'></dl></div><div class='xr-var-data'><pre>array(0.)</pre></div></li><li class='xr-var-item'><div class='xr-var-name'><span>constellation</span></div><div class='xr-var-dims'>()</div><div class='xr-var-dtype'>&lt;U10</div><div class='xr-var-preview xr-preview'>&#x27;Sentinel 2&#x27;</div><input id='attrs-b1c0da5d-fde2-4a8a-ac36-9f3fb5b36206' class='xr-var-attrs-in' type='checkbox' disabled><label for='attrs-b1c0da5d-fde2-4a8a-ac36-9f3fb5b36206' title='Show/Hide attributes'><svg class='icon xr-icon-file-text2'><use xlink:href='#icon-file-text2'></use></svg></label><input id='data-26850f64-b1ad-4162-9f08-d3e0e06b007b' class='xr-var-data-in' type='checkbox'><label for='data-26850f64-b1ad-4162-9f08-d3e0e06b007b' title='Show/Hide data repr'><svg class='icon xr-icon-database'><use xlink:href='#icon-database'></use></svg></label><div class='xr-var-attrs'><dl class='xr-attrs'></dl></div><div class='xr-var-data'><pre>array(&#x27;Sentinel 2&#x27;, dtype=&#x27;&lt;U10&#x27;)</pre></div></li><li class='xr-var-item'><div class='xr-var-name'><span>s2:mgrs_tile</span></div><div class='xr-var-dims'>()</div><div class='xr-var-dtype'>&lt;U5</div><div class='xr-var-preview xr-preview'>&#x27;19GBP&#x27;</div><input id='attrs-74eff59f-6715-4fff-9c94-d3d9215b3c6a' class='xr-var-attrs-in' type='checkbox' disabled><label for='attrs-74eff59f-6715-4fff-9c94-d3d9215b3c6a' title='Show/Hide attributes'><svg class='icon xr-icon-file-text2'><use xlink:href='#icon-file-text2'></use></svg></label><input id='data-b368ce1f-7df3-40d6-bb9d-34bec0d4079f' class='xr-var-data-in' type='checkbox'><label for='data-b368ce1f-7df3-40d6-bb9d-34bec0d4079f' title='Show/Hide data repr'><svg class='icon xr-icon-database'><use xlink:href='#icon-database'></use></svg></label><div class='xr-var-attrs'><dl class='xr-attrs'></dl></div><div class='xr-var-data'><pre>array(&#x27;19GBP&#x27;, dtype=&#x27;&lt;U5&#x27;)</pre></div></li><li class='xr-var-item'><div class='xr-var-name'><span>s2:processing_baseline</span></div><div class='xr-var-dims'>()</div><div class='xr-var-dtype'>&lt;U5</div><div class='xr-var-preview xr-preview'>&#x27;02.12&#x27;</div><input id='attrs-a560c9df-68fe-4ea3-8b1e-7562ad36e7eb' class='xr-var-attrs-in' type='checkbox' disabled><label for='attrs-a560c9df-68fe-4ea3-8b1e-7562ad36e7eb' title='Show/Hide attributes'><svg class='icon xr-icon-file-text2'><use xlink:href='#icon-file-text2'></use></svg></label><input id='data-a893087b-217b-4bda-8a2b-817f625b10b3' class='xr-var-data-in' type='checkbox'><label for='data-a893087b-217b-4bda-8a2b-817f625b10b3' title='Show/Hide data repr'><svg class='icon xr-icon-database'><use xlink:href='#icon-database'></use></svg></label><div class='xr-var-attrs'><dl class='xr-attrs'></dl></div><div class='xr-var-data'><pre>array(&#x27;02.12&#x27;, dtype=&#x27;&lt;U5&#x27;)</pre></div></li><li class='xr-var-item'><div class='xr-var-name'><span>s2:dark_features_percentage</span></div><div class='xr-var-dims'>(time)</div><div class='xr-var-dtype'>float64</div><div class='xr-var-preview xr-preview'>1.792 0.1648 ... 0.003806 2.005</div><input id='attrs-e3d69283-ebf0-45d0-bdf2-f3eff5db65ca' class='xr-var-attrs-in' type='checkbox' disabled><label for='attrs-e3d69283-ebf0-45d0-bdf2-f3eff5db65ca' title='Show/Hide attributes'><svg class='icon xr-icon-file-text2'><use xlink:href='#icon-file-text2'></use></svg></label><input id='data-5a4b202c-7163-47a6-a288-fc9a14eb1c1d' class='xr-var-data-in' type='checkbox'><label for='data-5a4b202c-7163-47a6-a288-fc9a14eb1c1d' title='Show/Hide data repr'><svg class='icon xr-icon-database'><use xlink:href='#icon-database'></use></svg></label><div class='xr-var-attrs'><dl class='xr-attrs'></dl></div><div class='xr-var-data'><pre>array([1.7924960e+00, 1.6483300e-01, 1.9384320e+00, 3.0898080e+00,\n",
       "       2.2011810e+00, 3.0113030e+00, 3.4300820e+00, 2.6834750e+00,\n",
       "       3.4429040e+00, 3.8679750e+00, 4.2040400e-01, 2.1085960e+00,\n",
       "       4.0887540e+00, 4.7148690e+00, 2.0824400e-01, 5.4145850e+00,\n",
       "       4.9701530e+00, 5.8676070e+00, 4.9441070e+00, 7.2421020e+00,\n",
       "       6.3493890e+00, 4.3444120e+00, 4.2674170e+00, 1.0019080e+00,\n",
       "       7.9016700e-01, 7.5504900e-01, 9.8482330e+00, 1.0471427e+01,\n",
       "       7.9250600e-01, 2.6124730e+00, 6.8908900e-01, 1.0389060e+00,\n",
       "       7.7789490e+00, 1.2874007e+01, 1.4454105e+01, 1.6714250e+00,\n",
       "       1.5574604e+01, 1.3295656e+01, 1.5472041e+01, 2.1103993e+01,\n",
       "       4.3871410e+00, 4.9980290e+00, 1.5457100e+00, 4.0493890e+00,\n",
       "       2.3942809e+01, 2.3169500e+00, 7.0227940e+00, 2.0849806e+01,\n",
       "       2.0414660e+00, 4.8385210e+00, 2.6606894e+01, 5.7015000e-01,\n",
       "       1.5843232e+01, 7.2644550e+00, 2.3377578e+01, 3.5593280e+00,\n",
       "       1.2167173e+01, 3.7530110e+00, 2.5192353e+01, 8.8761500e+00,\n",
       "       1.5493074e+01, 7.7190900e-01, 1.6310690e+01, 5.8538660e+00,\n",
       "       7.4378360e+00, 9.0265400e-01, 2.0023668e+01, 2.0792660e+00,\n",
       "       1.1483258e+01, 1.7897220e+00, 7.5948000e-02, 1.2347185e+01,\n",
       "       6.0272750e+00, 1.1062104e+01, 1.2061010e+00, 1.6406320e+00,\n",
       "       5.5205500e-01, 3.2336990e+00, 2.2986220e+00, 4.2309200e+00,\n",
       "       2.8207840e+00, 2.4259400e-01, 9.3801300e-01, 3.1214300e+00,\n",
       "       3.8342000e-02, 5.7875700e-01, 3.0857660e+00, 1.6038000e-02,\n",
       "       2.6029850e+00, 2.8722520e+00, 1.1707410e+00, 6.1909900e-01,\n",
       "       9.7400000e-03, 1.6953370e+00, 2.6250050e+00, 2.2513160e+00,\n",
       "       1.9662340e+00, 2.0964520e+00, 1.8857890e+00, 1.9816200e+00,\n",
       "       1.5236590e+00, 2.2199580e+00, 5.8935200e-01, 2.0485080e+00,\n",
       "       3.8060000e-03, 2.0046620e+00])</pre></div></li><li class='xr-var-item'><div class='xr-var-name'><span>s2:product_type</span></div><div class='xr-var-dims'>()</div><div class='xr-var-dtype'>&lt;U7</div><div class='xr-var-preview xr-preview'>&#x27;S2MSI2A&#x27;</div><input id='attrs-80ead6db-4b03-4696-8ebd-568cc78d7257' class='xr-var-attrs-in' type='checkbox' disabled><label for='attrs-80ead6db-4b03-4696-8ebd-568cc78d7257' title='Show/Hide attributes'><svg class='icon xr-icon-file-text2'><use xlink:href='#icon-file-text2'></use></svg></label><input id='data-8599aeec-2447-4f7a-a821-f063a5263c4c' class='xr-var-data-in' type='checkbox'><label for='data-8599aeec-2447-4f7a-a821-f063a5263c4c' title='Show/Hide data repr'><svg class='icon xr-icon-database'><use xlink:href='#icon-database'></use></svg></label><div class='xr-var-attrs'><dl class='xr-attrs'></dl></div><div class='xr-var-data'><pre>array(&#x27;S2MSI2A&#x27;, dtype=&#x27;&lt;U7&#x27;)</pre></div></li><li class='xr-var-item'><div class='xr-var-name'><span>s2:datastrip_id</span></div><div class='xr-var-dims'>(time)</div><div class='xr-var-dtype'>&lt;U64</div><div class='xr-var-preview xr-preview'>&#x27;S2A_OPER_MSI_L2A_DS_ESRI_202010...</div><input id='attrs-0710398f-729c-4f30-9ba5-b6900c3d8be0' class='xr-var-attrs-in' type='checkbox' disabled><label for='attrs-0710398f-729c-4f30-9ba5-b6900c3d8be0' title='Show/Hide attributes'><svg class='icon xr-icon-file-text2'><use xlink:href='#icon-file-text2'></use></svg></label><input id='data-51e69c99-aa10-4902-b71c-077499526422' class='xr-var-data-in' type='checkbox'><label for='data-51e69c99-aa10-4902-b71c-077499526422' title='Show/Hide data repr'><svg class='icon xr-icon-database'><use xlink:href='#icon-database'></use></svg></label><div class='xr-var-attrs'><dl class='xr-attrs'></dl></div><div class='xr-var-data'><pre>array([&#x27;S2A_OPER_MSI_L2A_DS_ESRI_20201014T023411_S20180101T143752_N02.12&#x27;,\n",
       "       &#x27;S2A_OPER_MSI_L2A_DS_ESRI_20201014T031438_S20180104T145355_N02.12&#x27;,\n",
       "       &#x27;S2B_OPER_MSI_L2A_DS_ESRI_20201014T043235_S20180109T144659_N02.12&#x27;,\n",
       "       &#x27;S2A_OPER_MSI_L2A_DS_ESRI_20201025T201354_S20180114T144348_N02.12&#x27;,\n",
       "       &#x27;S2B_OPER_MSI_L2A_DS_ESRI_20201014T062013_S20180116T143841_N02.12&#x27;,\n",
       "       &#x27;S2B_OPER_MSI_L2A_DS_ESRI_20201014T070423_S20180119T144815_N02.12&#x27;,\n",
       "       &#x27;S2A_OPER_MSI_L2A_DS_ESRI_20201014T082040_S20180124T145357_N02.12&#x27;,\n",
       "       &#x27;S2B_OPER_MSI_L2A_DS_ESRI_20201014T090256_S20180126T144002_N02.12&#x27;,\n",
       "       &#x27;S2B_OPER_MSI_L2A_DS_ESRI_20201014T095658_S20180129T144530_N02.12&#x27;,\n",
       "       &#x27;S2B_OPER_MSI_L2A_DS_ESRI_20201013T191711_S20180205T143643_N02.12&#x27;,\n",
       "       &#x27;S2B_OPER_MSI_L2A_DS_ESRI_20201013T202034_S20180208T145224_N02.12&#x27;,\n",
       "       &#x27;S2A_OPER_MSI_L2A_DS_ESRI_20201026T005053_S20180210T144258_N02.12&#x27;,\n",
       "       &#x27;S2A_OPER_MSI_L2A_DS_ESRI_20201013T204940_S20180213T144334_N02.12&#x27;,\n",
       "       &#x27;S2B_OPER_MSI_L2A_DS_ESRI_20201013T214117_S20180215T144026_N02.12&#x27;,\n",
       "       &#x27;S2B_OPER_MSI_L2A_DS_ESRI_20201013T225330_S20180218T144450_N02.12&#x27;,\n",
       "       &#x27;S2A_OPER_MSI_L2A_DS_ESRI_20201013T232547_S20180220T143353_N02.12&#x27;,\n",
       "       &#x27;S2A_OPER_MSI_L2A_DS_ESRI_20201014T003105_S20180223T145123_N02.12&#x27;,\n",
       "       &#x27;S2B_OPER_MSI_L2A_DS_ESRI_20201014T020508_S20180228T144803_N02.12&#x27;,\n",
       "       &#x27;S2A_OPER_MSI_L2A_DS_ESRI_20201013T053011_S20180302T144301_N02.12&#x27;,\n",
       "       &#x27;S2A_OPER_MSI_L2A_DS_ESRI_20201026T050921_S20180305T144548_N02.12&#x27;,\n",
       "...\n",
       "       &#x27;S2B_OPER_MSI_L2A_DS_ESRI_20201008T151358_S20181102T144226_N02.12&#x27;,\n",
       "       &#x27;S2A_OPER_MSI_L2A_DS_ESRI_20201008T163511_S20181107T143548_N02.12&#x27;,\n",
       "       &#x27;S2A_OPER_MSI_L2A_DS_ESRI_20201008T172819_S20181110T144504_N02.12&#x27;,\n",
       "       &#x27;S2B_OPER_MSI_L2A_DS_ESRI_20201008T185348_S20181115T144531_N02.12&#x27;,\n",
       "       &#x27;S2A_OPER_MSI_L2A_DS_ESRI_20201008T191919_S20181117T143618_N02.12&#x27;,\n",
       "       &#x27;S2A_OPER_MSI_L2A_DS_ESRI_20201008T201043_S20181120T144548_N02.12&#x27;,\n",
       "       &#x27;S2B_OPER_MSI_L2A_DS_ESRI_20201008T205300_S20181122T143353_N02.12&#x27;,\n",
       "       &#x27;S2B_OPER_MSI_L2A_DS_ESRI_20201008T214231_S20181125T144609_N02.12&#x27;,\n",
       "       &#x27;S2A_OPER_MSI_L2A_DS_ESRI_20201008T220657_S20181127T143656_N02.12&#x27;,\n",
       "       &#x27;S2A_OPER_MSI_L2A_DS_ESRI_20201008T225603_S20181130T144622_N02.12&#x27;,\n",
       "       &#x27;S2B_OPER_MSI_L2A_DS_ESRI_20201008T065424_S20181202T143725_N02.12&#x27;,\n",
       "       &#x27;S2B_OPER_MSI_L2A_DS_ESRI_20201008T074129_S20181205T145418_N02.12&#x27;,\n",
       "       &#x27;S2A_OPER_MSI_L2A_DS_ESRI_20201008T080702_S20181207T143718_N02.12&#x27;,\n",
       "       &#x27;S2B_OPER_MSI_L2A_DS_ESRI_20201008T093555_S20181212T143730_N02.12&#x27;,\n",
       "       &#x27;S2A_OPER_MSI_L2A_DS_ESRI_20201008T105034_S20181217T143739_N02.12&#x27;,\n",
       "       &#x27;S2B_OPER_MSI_L2A_DS_ESRI_20201008T130103_S20181225T144653_N02.12&#x27;,\n",
       "       &#x27;S2A_OPER_MSI_L2A_DS_ESRI_20201008T132508_S20181227T143741_N02.12&#x27;,\n",
       "       &#x27;S2A_OPER_MSI_L2A_DS_ESRI_20201008T141401_S20181230T144650_N02.12&#x27;,\n",
       "       &#x27;S2B_OPER_MSI_L2A_DS_ESRI_20201007T220103_S20190101T143756_N02.12&#x27;],\n",
       "      dtype=&#x27;&lt;U64&#x27;)</pre></div></li><li class='xr-var-item'><div class='xr-var-name'><span>instruments</span></div><div class='xr-var-dims'>()</div><div class='xr-var-dtype'>&lt;U3</div><div class='xr-var-preview xr-preview'>&#x27;msi&#x27;</div><input id='attrs-ded9795a-b17e-4efc-a47f-8164761ae191' class='xr-var-attrs-in' type='checkbox' disabled><label for='attrs-ded9795a-b17e-4efc-a47f-8164761ae191' title='Show/Hide attributes'><svg class='icon xr-icon-file-text2'><use xlink:href='#icon-file-text2'></use></svg></label><input id='data-891991f5-2d6f-4b3b-8656-63d610bebd93' class='xr-var-data-in' type='checkbox'><label for='data-891991f5-2d6f-4b3b-8656-63d610bebd93' title='Show/Hide data repr'><svg class='icon xr-icon-database'><use xlink:href='#icon-database'></use></svg></label><div class='xr-var-attrs'><dl class='xr-attrs'></dl></div><div class='xr-var-data'><pre>array(&#x27;msi&#x27;, dtype=&#x27;&lt;U3&#x27;)</pre></div></li><li class='xr-var-item'><div class='xr-var-name'><span>s2:granule_id</span></div><div class='xr-var-dims'>(time)</div><div class='xr-var-dtype'>&lt;U62</div><div class='xr-var-preview xr-preview'>&#x27;S2A_OPER_MSI_L2A_TL_ESRI_202010...</div><input id='attrs-accb10e6-df67-4bde-a94c-9d2eef863af5' class='xr-var-attrs-in' type='checkbox' disabled><label for='attrs-accb10e6-df67-4bde-a94c-9d2eef863af5' title='Show/Hide attributes'><svg class='icon xr-icon-file-text2'><use xlink:href='#icon-file-text2'></use></svg></label><input id='data-7fbd3587-3672-4d1b-926e-316610cfe6af' class='xr-var-data-in' type='checkbox'><label for='data-7fbd3587-3672-4d1b-926e-316610cfe6af' title='Show/Hide data repr'><svg class='icon xr-icon-database'><use xlink:href='#icon-database'></use></svg></label><div class='xr-var-attrs'><dl class='xr-attrs'></dl></div><div class='xr-var-data'><pre>array([&#x27;S2A_OPER_MSI_L2A_TL_ESRI_20201014T023411_A013206_T19GBP_N02.12&#x27;,\n",
       "       &#x27;S2A_OPER_MSI_L2A_TL_ESRI_20201014T031438_A013249_T19GBP_N02.12&#x27;,\n",
       "       &#x27;S2B_OPER_MSI_L2A_TL_ESRI_20201014T043235_A004412_T19GBP_N02.12&#x27;,\n",
       "       &#x27;S2A_OPER_MSI_L2A_TL_ESRI_20201025T201354_A013392_T19GBP_N02.12&#x27;,\n",
       "       &#x27;S2B_OPER_MSI_L2A_TL_ESRI_20201014T062013_A004512_T19GBP_N02.12&#x27;,\n",
       "       &#x27;S2B_OPER_MSI_L2A_TL_ESRI_20201014T070423_A004555_T19GBP_N02.12&#x27;,\n",
       "       &#x27;S2A_OPER_MSI_L2A_TL_ESRI_20201014T082040_A013535_T19GBP_N02.12&#x27;,\n",
       "       &#x27;S2B_OPER_MSI_L2A_TL_ESRI_20201014T090256_A004655_T19GBP_N02.12&#x27;,\n",
       "       &#x27;S2B_OPER_MSI_L2A_TL_ESRI_20201014T095658_A004698_T19GBP_N02.12&#x27;,\n",
       "       &#x27;S2B_OPER_MSI_L2A_TL_ESRI_20201013T191711_A004798_T19GBP_N02.12&#x27;,\n",
       "       &#x27;S2B_OPER_MSI_L2A_TL_ESRI_20201013T202034_A004841_T19GBP_N02.12&#x27;,\n",
       "       &#x27;S2A_OPER_MSI_L2A_TL_ESRI_20201026T005053_A013778_T19GBP_N02.12&#x27;,\n",
       "       &#x27;S2A_OPER_MSI_L2A_TL_ESRI_20201013T204940_A013821_T19GBP_N02.12&#x27;,\n",
       "       &#x27;S2B_OPER_MSI_L2A_TL_ESRI_20201013T214117_A004941_T19GBP_N02.12&#x27;,\n",
       "       &#x27;S2B_OPER_MSI_L2A_TL_ESRI_20201013T225330_A004984_T19GBP_N02.12&#x27;,\n",
       "       &#x27;S2A_OPER_MSI_L2A_TL_ESRI_20201013T232547_A013921_T19GBP_N02.12&#x27;,\n",
       "       &#x27;S2A_OPER_MSI_L2A_TL_ESRI_20201014T003105_A013964_T19GBP_N02.12&#x27;,\n",
       "       &#x27;S2B_OPER_MSI_L2A_TL_ESRI_20201014T020508_A005127_T19GBP_N02.12&#x27;,\n",
       "       &#x27;S2A_OPER_MSI_L2A_TL_ESRI_20201013T053011_A014064_T19GBP_N02.12&#x27;,\n",
       "       &#x27;S2A_OPER_MSI_L2A_TL_ESRI_20201026T050921_A014107_T19GBP_N02.12&#x27;,\n",
       "...\n",
       "       &#x27;S2B_OPER_MSI_L2A_TL_ESRI_20201008T151358_A008659_T19GBP_N02.12&#x27;,\n",
       "       &#x27;S2A_OPER_MSI_L2A_TL_ESRI_20201008T163511_A017639_T19GBP_N02.12&#x27;,\n",
       "       &#x27;S2A_OPER_MSI_L2A_TL_ESRI_20201008T172819_A017682_T19GBP_N02.12&#x27;,\n",
       "       &#x27;S2B_OPER_MSI_L2A_TL_ESRI_20201008T185348_A008845_T19GBP_N02.12&#x27;,\n",
       "       &#x27;S2A_OPER_MSI_L2A_TL_ESRI_20201008T191919_A017782_T19GBP_N02.12&#x27;,\n",
       "       &#x27;S2A_OPER_MSI_L2A_TL_ESRI_20201008T201043_A017825_T19GBP_N02.12&#x27;,\n",
       "       &#x27;S2B_OPER_MSI_L2A_TL_ESRI_20201008T205300_A008945_T19GBP_N02.12&#x27;,\n",
       "       &#x27;S2B_OPER_MSI_L2A_TL_ESRI_20201008T214231_A008988_T19GBP_N02.12&#x27;,\n",
       "       &#x27;S2A_OPER_MSI_L2A_TL_ESRI_20201008T220657_A017925_T19GBP_N02.12&#x27;,\n",
       "       &#x27;S2A_OPER_MSI_L2A_TL_ESRI_20201008T225603_A017968_T19GBP_N02.12&#x27;,\n",
       "       &#x27;S2B_OPER_MSI_L2A_TL_ESRI_20201008T065424_A009088_T19GBP_N02.12&#x27;,\n",
       "       &#x27;S2B_OPER_MSI_L2A_TL_ESRI_20201008T074129_A009131_T19GBP_N02.12&#x27;,\n",
       "       &#x27;S2A_OPER_MSI_L2A_TL_ESRI_20201008T080702_A018068_T19GBP_N02.12&#x27;,\n",
       "       &#x27;S2B_OPER_MSI_L2A_TL_ESRI_20201008T093555_A009231_T19GBP_N02.12&#x27;,\n",
       "       &#x27;S2A_OPER_MSI_L2A_TL_ESRI_20201008T105034_A018211_T19GBP_N02.12&#x27;,\n",
       "       &#x27;S2B_OPER_MSI_L2A_TL_ESRI_20201008T130103_A009417_T19GBP_N02.12&#x27;,\n",
       "       &#x27;S2A_OPER_MSI_L2A_TL_ESRI_20201008T132508_A018354_T19GBP_N02.12&#x27;,\n",
       "       &#x27;S2A_OPER_MSI_L2A_TL_ESRI_20201008T141401_A018397_T19GBP_N02.12&#x27;,\n",
       "       &#x27;S2B_OPER_MSI_L2A_TL_ESRI_20201007T220103_A009517_T19GBP_N02.12&#x27;],\n",
       "      dtype=&#x27;&lt;U62&#x27;)</pre></div></li><li class='xr-var-item'><div class='xr-var-name'><span>sat:orbit_state</span></div><div class='xr-var-dims'>()</div><div class='xr-var-dtype'>&lt;U10</div><div class='xr-var-preview xr-preview'>&#x27;descending&#x27;</div><input id='attrs-99eb0415-9696-47f4-bb96-32ad3c557657' class='xr-var-attrs-in' type='checkbox' disabled><label for='attrs-99eb0415-9696-47f4-bb96-32ad3c557657' title='Show/Hide attributes'><svg class='icon xr-icon-file-text2'><use xlink:href='#icon-file-text2'></use></svg></label><input id='data-337347fb-39b1-4372-a967-f187eb2fb35d' class='xr-var-data-in' type='checkbox'><label for='data-337347fb-39b1-4372-a967-f187eb2fb35d' title='Show/Hide data repr'><svg class='icon xr-icon-database'><use xlink:href='#icon-database'></use></svg></label><div class='xr-var-attrs'><dl class='xr-attrs'></dl></div><div class='xr-var-data'><pre>array(&#x27;descending&#x27;, dtype=&#x27;&lt;U10&#x27;)</pre></div></li><li class='xr-var-item'><div class='xr-var-name'><span>s2:thin_cirrus_percentage</span></div><div class='xr-var-dims'>(time)</div><div class='xr-var-dtype'>float64</div><div class='xr-var-preview xr-preview'>4.798 0.1085 ... 0.02098 1.005</div><input id='attrs-4b67b8f4-f5d0-492e-9c65-b0acf5d3327f' class='xr-var-attrs-in' type='checkbox' disabled><label for='attrs-4b67b8f4-f5d0-492e-9c65-b0acf5d3327f' title='Show/Hide attributes'><svg class='icon xr-icon-file-text2'><use xlink:href='#icon-file-text2'></use></svg></label><input id='data-52930e44-2bfa-4314-b2d3-efcb545ef3ad' class='xr-var-data-in' type='checkbox'><label for='data-52930e44-2bfa-4314-b2d3-efcb545ef3ad' title='Show/Hide data repr'><svg class='icon xr-icon-database'><use xlink:href='#icon-database'></use></svg></label><div class='xr-var-attrs'><dl class='xr-attrs'></dl></div><div class='xr-var-data'><pre>array([4.7980530e+00, 1.0851800e-01, 1.1956318e+01, 2.3651210e+00,\n",
       "       7.7395900e-01, 2.4800086e+01, 2.1527000e-02, 9.0110200e-01,\n",
       "       5.5560000e-03, 2.3600000e-04, 4.5985200e-01, 4.9036000e-01,\n",
       "       5.8223000e-02, 1.5900000e-04, 1.0493700e-01, 5.1377000e-02,\n",
       "       2.2916000e-02, 5.2726350e+00, 8.6184000e-02, 5.4524820e+00,\n",
       "       8.4470000e-03, 2.6578910e+00, 3.0932778e+01, 2.3089780e+01,\n",
       "       2.1857230e+00, 1.8716300e-01, 1.7300000e-04, 4.1232880e+00,\n",
       "       5.4949100e-01, 2.2186520e+00, 5.3713800e-01, 1.0684300e-01,\n",
       "       2.7714640e+00, 1.8235000e-01, 1.4909810e+00, 1.0963800e-01,\n",
       "       2.1056700e-01, 1.0612702e+01, 4.2489000e-01, 5.0730800e-01,\n",
       "       2.9966200e-01, 4.9304580e+00, 1.7096400e-01, 7.7094700e-01,\n",
       "       2.0903000e-01, 3.0914630e+00, 6.7103390e+00, 6.9977300e-01,\n",
       "       6.0964600e-01, 4.3291100e+00, 5.0594500e-01, 5.5711100e-01,\n",
       "       8.5239060e+00, 2.4909489e+01, 4.7667470e+00, 2.3706600e-01,\n",
       "       1.9805080e+00, 1.2014040e+01, 2.0764810e+00, 4.8819163e+01,\n",
       "       7.5540200e-01, 2.0216650e+00, 4.7879500e-01, 8.8087900e-01,\n",
       "       8.1181000e-02, 4.1493500e-01, 1.3343000e-01, 9.8711450e+00,\n",
       "       2.7891720e+00, 3.0143416e+01, 3.3207300e-01, 9.3865000e-02,\n",
       "       2.2986290e+00, 4.3532640e+00, 6.7038300e-01, 1.2240400e+00,\n",
       "       1.7745790e+00, 4.2674400e-01, 4.6508500e-01, 4.3453400e-01,\n",
       "       7.2701050e+00, 1.6394040e+00, 5.3722600e-01, 1.2340318e+01,\n",
       "       1.2831700e-01, 1.9476700e-01, 1.4005500e-01, 4.4240360e+00,\n",
       "       4.9878120e+00, 1.8352890e+00, 3.5624590e+00, 9.1131000e-02,\n",
       "       2.6527300e-01, 7.2251900e-01, 1.4847300e-01, 2.4130300e-01,\n",
       "       1.7688110e+00, 1.3446900e-01, 9.1784320e+00, 1.4300000e-04,\n",
       "       3.1790900e-01, 4.3977300e-01, 7.0254000e-02, 6.1780000e-03,\n",
       "       2.0977000e-02, 1.0049840e+00])</pre></div></li><li class='xr-var-item'><div class='xr-var-name'><span>platform</span></div><div class='xr-var-dims'>(time)</div><div class='xr-var-dtype'>&lt;U11</div><div class='xr-var-preview xr-preview'>&#x27;Sentinel-2A&#x27; ... &#x27;Sentinel-2B&#x27;</div><input id='attrs-797afc35-f016-4e15-b46c-aad700fe801f' class='xr-var-attrs-in' type='checkbox' disabled><label for='attrs-797afc35-f016-4e15-b46c-aad700fe801f' title='Show/Hide attributes'><svg class='icon xr-icon-file-text2'><use xlink:href='#icon-file-text2'></use></svg></label><input id='data-6499a82a-fc48-4cca-b5fa-09ff8211edec' class='xr-var-data-in' type='checkbox'><label for='data-6499a82a-fc48-4cca-b5fa-09ff8211edec' title='Show/Hide data repr'><svg class='icon xr-icon-database'><use xlink:href='#icon-database'></use></svg></label><div class='xr-var-attrs'><dl class='xr-attrs'></dl></div><div class='xr-var-data'><pre>array([&#x27;Sentinel-2A&#x27;, &#x27;Sentinel-2A&#x27;, &#x27;Sentinel-2B&#x27;, &#x27;Sentinel-2A&#x27;,\n",
       "       &#x27;Sentinel-2B&#x27;, &#x27;Sentinel-2B&#x27;, &#x27;Sentinel-2A&#x27;, &#x27;Sentinel-2B&#x27;,\n",
       "       &#x27;Sentinel-2B&#x27;, &#x27;Sentinel-2B&#x27;, &#x27;Sentinel-2B&#x27;, &#x27;Sentinel-2A&#x27;,\n",
       "       &#x27;Sentinel-2A&#x27;, &#x27;Sentinel-2B&#x27;, &#x27;Sentinel-2B&#x27;, &#x27;Sentinel-2A&#x27;,\n",
       "       &#x27;Sentinel-2A&#x27;, &#x27;Sentinel-2B&#x27;, &#x27;Sentinel-2A&#x27;, &#x27;Sentinel-2A&#x27;,\n",
       "       &#x27;Sentinel-2B&#x27;, &#x27;Sentinel-2B&#x27;, &#x27;Sentinel-2B&#x27;, &#x27;Sentinel-2A&#x27;,\n",
       "       &#x27;Sentinel-2B&#x27;, &#x27;Sentinel-2B&#x27;, &#x27;Sentinel-2A&#x27;, &#x27;Sentinel-2B&#x27;,\n",
       "       &#x27;Sentinel-2B&#x27;, &#x27;Sentinel-2A&#x27;, &#x27;Sentinel-2B&#x27;, &#x27;Sentinel-2B&#x27;,\n",
       "       &#x27;Sentinel-2A&#x27;, &#x27;Sentinel-2A&#x27;, &#x27;Sentinel-2B&#x27;, &#x27;Sentinel-2A&#x27;,\n",
       "       &#x27;Sentinel-2A&#x27;, &#x27;Sentinel-2B&#x27;, &#x27;Sentinel-2B&#x27;, &#x27;Sentinel-2A&#x27;,\n",
       "       &#x27;Sentinel-2A&#x27;, &#x27;Sentinel-2A&#x27;, &#x27;Sentinel-2A&#x27;, &#x27;Sentinel-2B&#x27;,\n",
       "       &#x27;Sentinel-2A&#x27;, &#x27;Sentinel-2B&#x27;, &#x27;Sentinel-2B&#x27;, &#x27;Sentinel-2A&#x27;,\n",
       "       &#x27;Sentinel-2B&#x27;, &#x27;Sentinel-2A&#x27;, &#x27;Sentinel-2A&#x27;, &#x27;Sentinel-2B&#x27;,\n",
       "       &#x27;Sentinel-2A&#x27;, &#x27;Sentinel-2B&#x27;, &#x27;Sentinel-2B&#x27;, &#x27;Sentinel-2B&#x27;,\n",
       "       &#x27;Sentinel-2B&#x27;, &#x27;Sentinel-2A&#x27;, &#x27;Sentinel-2A&#x27;, &#x27;Sentinel-2B&#x27;,\n",
       "       &#x27;Sentinel-2A&#x27;, &#x27;Sentinel-2B&#x27;, &#x27;Sentinel-2B&#x27;, &#x27;Sentinel-2A&#x27;,\n",
       "       &#x27;Sentinel-2B&#x27;, &#x27;Sentinel-2B&#x27;, &#x27;Sentinel-2A&#x27;, &#x27;Sentinel-2B&#x27;,\n",
       "       &#x27;Sentinel-2A&#x27;, &#x27;Sentinel-2B&#x27;, &#x27;Sentinel-2B&#x27;, &#x27;Sentinel-2A&#x27;,\n",
       "       &#x27;Sentinel-2A&#x27;, &#x27;Sentinel-2B&#x27;, &#x27;Sentinel-2A&#x27;, &#x27;Sentinel-2B&#x27;,\n",
       "       &#x27;Sentinel-2A&#x27;, &#x27;Sentinel-2B&#x27;, &#x27;Sentinel-2A&#x27;, &#x27;Sentinel-2A&#x27;,\n",
       "       &#x27;Sentinel-2B&#x27;, &#x27;Sentinel-2A&#x27;, &#x27;Sentinel-2A&#x27;, &#x27;Sentinel-2B&#x27;,\n",
       "       &#x27;Sentinel-2B&#x27;, &#x27;Sentinel-2A&#x27;, &#x27;Sentinel-2A&#x27;, &#x27;Sentinel-2B&#x27;,\n",
       "       &#x27;Sentinel-2A&#x27;, &#x27;Sentinel-2A&#x27;, &#x27;Sentinel-2B&#x27;, &#x27;Sentinel-2A&#x27;,\n",
       "       &#x27;Sentinel-2A&#x27;, &#x27;Sentinel-2B&#x27;, &#x27;Sentinel-2B&#x27;, &#x27;Sentinel-2A&#x27;,\n",
       "       &#x27;Sentinel-2A&#x27;, &#x27;Sentinel-2B&#x27;, &#x27;Sentinel-2B&#x27;, &#x27;Sentinel-2A&#x27;,\n",
       "       &#x27;Sentinel-2B&#x27;, &#x27;Sentinel-2A&#x27;, &#x27;Sentinel-2B&#x27;, &#x27;Sentinel-2A&#x27;,\n",
       "       &#x27;Sentinel-2A&#x27;, &#x27;Sentinel-2B&#x27;], dtype=&#x27;&lt;U11&#x27;)</pre></div></li><li class='xr-var-item'><div class='xr-var-name'><span>s2:cloud_shadow_percentage</span></div><div class='xr-var-dims'>(time)</div><div class='xr-var-dtype'>float64</div><div class='xr-var-preview xr-preview'>0.497 0.1566 2.961 ... 0.0 1.816</div><input id='attrs-03e3d575-ddd6-47b4-9e84-acbe49816e7b' class='xr-var-attrs-in' type='checkbox' disabled><label for='attrs-03e3d575-ddd6-47b4-9e84-acbe49816e7b' title='Show/Hide attributes'><svg class='icon xr-icon-file-text2'><use xlink:href='#icon-file-text2'></use></svg></label><input id='data-7902d423-71df-4ad5-9c1f-f4820fc3bba9' class='xr-var-data-in' type='checkbox'><label for='data-7902d423-71df-4ad5-9c1f-f4820fc3bba9' title='Show/Hide data repr'><svg class='icon xr-icon-database'><use xlink:href='#icon-database'></use></svg></label><div class='xr-var-attrs'><dl class='xr-attrs'></dl></div><div class='xr-var-data'><pre>array([0.496959, 0.156648, 2.961399, 0.322512, 1.086131, 0.845691,\n",
       "       0.427159, 1.336393, 0.53117 , 0.445918, 1.060471, 3.071333,\n",
       "       0.756875, 0.632931, 0.287052, 2.056224, 1.226629, 3.71079 ,\n",
       "       1.406012, 2.59126 , 0.90633 , 4.319409, 1.869064, 1.233041,\n",
       "       1.05861 , 0.841261, 1.307834, 1.943787, 0.561233, 2.415065,\n",
       "       0.674915, 0.746075, 5.640379, 1.362043, 2.442973, 0.813494,\n",
       "       1.793933, 7.094313, 3.713986, 6.204178, 1.978201, 1.788926,\n",
       "       0.260293, 1.382027, 1.608676, 0.012731, 1.785604, 3.096064,\n",
       "       0.066689, 3.822635, 2.469422, 0.266816, 1.148439, 0.516196,\n",
       "       2.474834, 1.578273, 3.915447, 1.819816, 1.169603, 1.083114,\n",
       "       3.472657, 0.641212, 4.691606, 4.073642, 3.208669, 0.637017,\n",
       "       2.421129, 0.965076, 3.623037, 0.445496, 0.      , 2.548686,\n",
       "       5.578846, 2.971506, 1.783471, 2.088281, 0.220112, 2.103125,\n",
       "       2.74652 , 1.166244, 3.041052, 0.571521, 0.010728, 1.967402,\n",
       "       0.023031, 0.667131, 0.55588 , 0.      , 0.290908, 3.979911,\n",
       "       2.902069, 1.230759, 0.      , 2.345799, 0.837449, 0.137103,\n",
       "       3.580685, 0.105046, 1.779321, 0.118454, 0.553197, 0.150182,\n",
       "       1.509267, 1.457637, 0.      , 1.815884])</pre></div></li><li class='xr-var-item'><div class='xr-var-name'><span>s2:mean_solar_zenith</span></div><div class='xr-var-dims'>(time)</div><div class='xr-var-dtype'>float64</div><div class='xr-var-preview xr-preview'>32.54 31.33 32.13 ... 30.6 32.5</div><input id='attrs-ba18f871-aa7b-4d12-b55f-79eda4ed909f' class='xr-var-attrs-in' type='checkbox' disabled><label for='attrs-ba18f871-aa7b-4d12-b55f-79eda4ed909f' title='Show/Hide attributes'><svg class='icon xr-icon-file-text2'><use xlink:href='#icon-file-text2'></use></svg></label><input id='data-00d55083-1e44-474b-881d-fab1eaecc6a8' class='xr-var-data-in' type='checkbox'><label for='data-00d55083-1e44-474b-881d-fab1eaecc6a8' title='Show/Hide data repr'><svg class='icon xr-icon-database'><use xlink:href='#icon-database'></use></svg></label><div class='xr-var-attrs'><dl class='xr-attrs'></dl></div><div class='xr-var-data'><pre>array([32.5439475 , 31.33038355, 32.13291166, 33.02495576, 35.03745651,\n",
       "       34.00317945, 35.0513922 , 37.09566148, 36.17356681, 39.39721117,\n",
       "       38.59031017, 40.62038963, 39.87227659, 41.90974896, 41.22153841,\n",
       "       43.2237287 , 42.59447144, 44.02920094, 45.98671119, 45.47534819,\n",
       "       47.43368532, 50.37473503, 50.02699556, 51.56894555, 53.38671043,\n",
       "       53.12784925, 54.89401101, 56.40946505, 56.21679024, 57.90095699,\n",
       "       59.38138034, 59.22328802, 60.81766176, 60.6625023 , 62.05666066,\n",
       "       63.55333739, 63.37507463, 64.83281684, 64.62855088, 66.02369834,\n",
       "       65.78370969, 68.13992281, 67.79626148, 68.63204819, 69.32474708,\n",
       "       70.45688814, 69.88922997, 70.30226502, 71.31750277, 71.52057385,\n",
       "       70.66673752, 70.61076004, 70.38727594, 71.1807875 , 70.00733068,\n",
       "       70.14989588, 68.76047528, 69.39274162, 67.89759781, 68.49356246,\n",
       "       67.43738319, 66.25682377, 64.47034977, 63.06108099, 63.50785587,\n",
       "       61.55518069, 61.95564199, 60.32880272, 58.59442932, 56.81658613,\n",
       "       54.61875791, 54.95779646, 52.72093981, 53.08231611, 51.1606062 ,\n",
       "       49.24253082, 47.32206048, 45.43327509, 43.58141298, 41.28040825,\n",
       "       41.79292243, 40.08078257, 37.82801859, 38.46472196, 36.2487015 ,\n",
       "       36.96545725, 34.79573133, 35.59456043, 34.37974584, 32.32542763,\n",
       "       31.33167421, 32.44520314, 30.53296072, 31.73899797, 29.90509099,\n",
       "       31.24131249, 29.48897143, 30.91034499, 29.24305395, 30.78467929,\n",
       "       30.8217142 , 31.03410428, 30.02597874, 31.88579198, 30.60118514,\n",
       "       32.49604863])</pre></div></li><li class='xr-var-item'><div class='xr-var-name'><span>s2:datatake_id</span></div><div class='xr-var-dims'>(time)</div><div class='xr-var-dtype'>&lt;U34</div><div class='xr-var-preview xr-preview'>&#x27;GS2A_20180101T142751_013206_N02...</div><input id='attrs-b208bd8b-3cfc-4a7d-babf-611953739323' class='xr-var-attrs-in' type='checkbox' disabled><label for='attrs-b208bd8b-3cfc-4a7d-babf-611953739323' title='Show/Hide attributes'><svg class='icon xr-icon-file-text2'><use xlink:href='#icon-file-text2'></use></svg></label><input id='data-82b0dc22-5538-4990-be2e-d025bfb10787' class='xr-var-data-in' type='checkbox'><label for='data-82b0dc22-5538-4990-be2e-d025bfb10787' title='Show/Hide data repr'><svg class='icon xr-icon-database'><use xlink:href='#icon-database'></use></svg></label><div class='xr-var-attrs'><dl class='xr-attrs'></dl></div><div class='xr-var-data'><pre>array([&#x27;GS2A_20180101T142751_013206_N02.12&#x27;,\n",
       "       &#x27;GS2A_20180104T145401_013249_N02.12&#x27;,\n",
       "       &#x27;GS2B_20180109T143749_004412_N02.12&#x27;,\n",
       "       &#x27;GS2A_20180114T143741_013392_N02.12&#x27;,\n",
       "       &#x27;GS2B_20180116T142849_004512_N02.12&#x27;,\n",
       "       &#x27;GS2B_20180119T143749_004555_N02.12&#x27;,\n",
       "       &#x27;GS2A_20180124T145401_013535_N02.12&#x27;,\n",
       "       &#x27;GS2B_20180126T142849_004655_N02.12&#x27;,\n",
       "       &#x27;GS2B_20180129T143749_004698_N02.12&#x27;,\n",
       "       &#x27;GS2B_20180205T142849_004798_N02.12&#x27;,\n",
       "       &#x27;GS2B_20180208T143749_004841_N02.12&#x27;,\n",
       "       &#x27;GS2A_20180210T142851_013778_N02.12&#x27;,\n",
       "       &#x27;GS2A_20180213T143751_013821_N02.12&#x27;,\n",
       "       &#x27;GS2B_20180215T142849_004941_N02.12&#x27;,\n",
       "       &#x27;GS2B_20180218T143749_004984_N02.12&#x27;,\n",
       "       &#x27;GS2A_20180220T142851_013921_N02.12&#x27;,\n",
       "       &#x27;GS2A_20180223T143751_013964_N02.12&#x27;,\n",
       "       &#x27;GS2B_20180228T143749_005127_N02.12&#x27;,\n",
       "       &#x27;GS2A_20180302T142851_014064_N02.12&#x27;,\n",
       "       &#x27;GS2A_20180305T143751_014107_N02.12&#x27;,\n",
       "...\n",
       "       &#x27;GS2A_20181031T143751_017539_N02.12&#x27;,\n",
       "       &#x27;GS2B_20181102T142849_008659_N02.12&#x27;,\n",
       "       &#x27;GS2A_20181107T142751_017639_N02.12&#x27;,\n",
       "       &#x27;GS2A_20181110T143751_017682_N02.12&#x27;,\n",
       "       &#x27;GS2B_20181115T143749_008845_N02.12&#x27;,\n",
       "       &#x27;GS2A_20181117T142751_017782_N02.12&#x27;,\n",
       "       &#x27;GS2A_20181120T143751_017825_N02.12&#x27;,\n",
       "       &#x27;GS2B_20181122T142749_008945_N02.12&#x27;,\n",
       "       &#x27;GS2B_20181125T143749_008988_N02.12&#x27;,\n",
       "       &#x27;GS2A_20181127T142741_017925_N02.12&#x27;,\n",
       "       &#x27;GS2A_20181130T143741_017968_N02.12&#x27;,\n",
       "       &#x27;GS2B_20181202T142749_009088_N02.12&#x27;,\n",
       "       &#x27;GS2B_20181205T143749_009131_N02.12&#x27;,\n",
       "       &#x27;GS2A_20181207T142741_018068_N02.12&#x27;,\n",
       "       &#x27;GS2B_20181212T142749_009231_N02.12&#x27;,\n",
       "       &#x27;GS2A_20181217T142741_018211_N02.12&#x27;,\n",
       "       &#x27;GS2B_20181225T143749_009417_N02.12&#x27;,\n",
       "       &#x27;GS2A_20181227T142751_018354_N02.12&#x27;,\n",
       "       &#x27;GS2A_20181230T143751_018397_N02.12&#x27;,\n",
       "       &#x27;GS2B_20190101T142749_009517_N02.12&#x27;], dtype=&#x27;&lt;U34&#x27;)</pre></div></li><li class='xr-var-item'><div class='xr-var-name'><span>s2:high_proba_clouds_percentage</span></div><div class='xr-var-dims'>(time)</div><div class='xr-var-dtype'>float64</div><div class='xr-var-preview xr-preview'>33.7 65.6 25.92 ... 64.94 28.1</div><input id='attrs-87bedf24-2221-4c0c-8abf-196d485aa059' class='xr-var-attrs-in' type='checkbox' disabled><label for='attrs-87bedf24-2221-4c0c-8abf-196d485aa059' title='Show/Hide attributes'><svg class='icon xr-icon-file-text2'><use xlink:href='#icon-file-text2'></use></svg></label><input id='data-745db117-3b10-4e6a-92b6-43ba478dc81a' class='xr-var-data-in' type='checkbox'><label for='data-745db117-3b10-4e6a-92b6-43ba478dc81a' title='Show/Hide data repr'><svg class='icon xr-icon-database'><use xlink:href='#icon-database'></use></svg></label><div class='xr-var-attrs'><dl class='xr-attrs'></dl></div><div class='xr-var-data'><pre>array([3.3701167e+01, 6.5598238e+01, 2.5924671e+01, 4.3991200e-01,\n",
       "       1.7398947e+01, 1.0125560e+00, 1.9369400e-01, 3.2977211e+01,\n",
       "       2.1606400e-01, 4.6776200e-01, 7.7357996e+01, 5.0659126e+01,\n",
       "       7.6787100e-01, 5.5325040e+00, 8.1931645e+01, 3.1617850e+00,\n",
       "       7.8210700e-01, 4.4052800e+00, 2.0151550e+01, 9.7652000e-01,\n",
       "       5.2114100e-01, 4.2613643e+01, 3.0726970e+00, 3.6751795e+01,\n",
       "       7.4017066e+01, 5.8792204e+01, 2.8429010e+00, 3.7260360e+00,\n",
       "       7.3877794e+01, 3.1695187e+01, 3.4322539e+01, 8.2997334e+01,\n",
       "       5.7236946e+01, 1.1140510e+00, 4.7278660e+00, 6.0214603e+01,\n",
       "       3.0266950e+00, 3.1642294e+01, 4.6324676e+01, 1.7155081e+01,\n",
       "       3.9501020e+01, 5.5029434e+01, 6.5019834e+01, 4.2992324e+01,\n",
       "       4.5786000e-01, 1.7570958e+01, 2.4219188e+01, 1.1801467e+01,\n",
       "       7.8574383e+01, 3.9387736e+01, 5.0749000e+00, 5.2710551e+01,\n",
       "       1.0914927e+01, 2.0701073e+01, 1.0739059e+01, 5.2235228e+01,\n",
       "       3.7840149e+01, 5.5008388e+01, 2.9269200e+00, 7.7760490e+00,\n",
       "       1.9972581e+01, 1.5281610e+01, 1.3730951e+01, 5.3750372e+01,\n",
       "       3.8412371e+01, 3.8924468e+01, 7.5667700e-01, 4.1549727e+01,\n",
       "       2.1318704e+01, 3.2265356e+01, 6.2033641e+01, 3.7953100e-01,\n",
       "       4.3364972e+01, 4.6052340e+00, 6.3421476e+01, 3.7413737e+01,\n",
       "       2.4361187e+01, 2.4513684e+01, 4.7505400e+01, 5.9745800e-01,\n",
       "       2.8979924e+01, 4.9824336e+01, 2.9355410e+01, 1.2782094e+01,\n",
       "       7.8458297e+01, 5.7275456e+01, 2.6110800e-01, 4.6984246e+01,\n",
       "       6.3795000e-02, 7.1581470e+00, 3.6001229e+01, 7.1626753e+01,\n",
       "       9.0021690e+00, 3.5057530e+01, 3.5731790e+00, 1.6205740e+00,\n",
       "       2.3751481e+01, 1.8036500e-01, 1.3107957e+01, 2.0543700e-01,\n",
       "       3.5776865e+01, 4.4370200e-01, 5.9146547e+01, 2.2188801e+01,\n",
       "       6.4943624e+01, 2.8099337e+01])</pre></div></li><li class='xr-var-item'><div class='xr-var-name'><span>proj:epsg</span></div><div class='xr-var-dims'>()</div><div class='xr-var-dtype'>int64</div><div class='xr-var-preview xr-preview'>32719</div><input id='attrs-b78c92bb-b8ec-4a58-a156-46b2cd7bd304' class='xr-var-attrs-in' type='checkbox' disabled><label for='attrs-b78c92bb-b8ec-4a58-a156-46b2cd7bd304' title='Show/Hide attributes'><svg class='icon xr-icon-file-text2'><use xlink:href='#icon-file-text2'></use></svg></label><input id='data-78d11336-980b-47fe-8a55-e8a9f130037f' class='xr-var-data-in' type='checkbox'><label for='data-78d11336-980b-47fe-8a55-e8a9f130037f' title='Show/Hide data repr'><svg class='icon xr-icon-database'><use xlink:href='#icon-database'></use></svg></label><div class='xr-var-attrs'><dl class='xr-attrs'></dl></div><div class='xr-var-data'><pre>array(32719)</pre></div></li><li class='xr-var-item'><div class='xr-var-name'><span>eo:cloud_cover</span></div><div class='xr-var-dims'>(time)</div><div class='xr-var-dtype'>float64</div><div class='xr-var-preview xr-preview'>45.89 87.53 49.98 ... 66.47 33.71</div><input id='attrs-32f5e271-5af0-45a3-bfbd-b09ccae5f7c4' class='xr-var-attrs-in' type='checkbox' disabled><label for='attrs-32f5e271-5af0-45a3-bfbd-b09ccae5f7c4' title='Show/Hide attributes'><svg class='icon xr-icon-file-text2'><use xlink:href='#icon-file-text2'></use></svg></label><input id='data-de005a58-0c8b-4922-965d-e7e4f05e7043' class='xr-var-data-in' type='checkbox'><label for='data-de005a58-0c8b-4922-965d-e7e4f05e7043' title='Show/Hide data repr'><svg class='icon xr-icon-database'><use xlink:href='#icon-database'></use></svg></label><div class='xr-var-attrs'><dl class='xr-attrs'></dl></div><div class='xr-var-data'><pre>array([45.894524, 87.528291, 49.980081,  3.243366, 22.49272 , 27.083124,\n",
       "        0.539115, 35.603315,  0.507967,  0.841477, 85.806063, 59.298702,\n",
       "        1.296533,  6.321383, 87.641501,  4.797128,  1.356385, 11.220748,\n",
       "       24.32313 ,  7.213505,  0.892903, 64.135297, 37.183885, 85.339679,\n",
       "       85.397817, 62.754348,  3.704077, 14.004268, 79.58139 , 52.185332,\n",
       "       86.045261, 86.640768, 67.403936,  1.718753, 12.642581, 63.667647,\n",
       "        5.17662 , 56.44342 , 49.997668, 22.205115, 47.553684, 82.377972,\n",
       "       69.396724, 52.123474,  1.637694, 39.420005, 61.242268, 20.49172 ,\n",
       "       84.151282, 72.104586, 11.044596, 56.025601, 50.01747 , 70.102146,\n",
       "       18.012791, 62.80352 , 48.55976 , 82.457579,  7.074416, 75.17041 ,\n",
       "       25.511461, 88.493245, 20.201455, 62.190397, 48.50112 , 45.776545,\n",
       "        3.099289, 84.244072, 42.425484, 79.774679, 88.6987  ,  1.575948,\n",
       "       53.927211, 11.891689, 70.738283, 57.416471, 68.569768, 30.199239,\n",
       "       53.023062,  3.61202 , 49.0493  , 87.233522, 77.017415, 38.420221,\n",
       "       80.754024, 76.751252,  0.832683, 55.654546,  5.628188, 11.378047,\n",
       "       48.50634 , 77.759018, 84.109031, 41.453058,  5.465321,  2.604298,\n",
       "       31.078497,  0.665898, 30.557494,  0.623084, 39.752401,  1.406904,\n",
       "       66.457808, 27.460039, 66.467947, 33.708325])</pre></div></li><li class='xr-var-item'><div class='xr-var-name'><span>s2:vegetation_percentage</span></div><div class='xr-var-dims'>(time)</div><div class='xr-var-dtype'>float64</div><div class='xr-var-preview xr-preview'>34.84 0.5439 ... 0.000963 43.88</div><input id='attrs-64183f31-a82a-4b9b-87dd-ca017685a1ba' class='xr-var-attrs-in' type='checkbox' disabled><label for='attrs-64183f31-a82a-4b9b-87dd-ca017685a1ba' title='Show/Hide attributes'><svg class='icon xr-icon-file-text2'><use xlink:href='#icon-file-text2'></use></svg></label><input id='data-2c912252-a5a1-4b1a-932c-a74f00744099' class='xr-var-data-in' type='checkbox'><label for='data-2c912252-a5a1-4b1a-932c-a74f00744099' title='Show/Hide data repr'><svg class='icon xr-icon-database'><use xlink:href='#icon-database'></use></svg></label><div class='xr-var-attrs'><dl class='xr-attrs'></dl></div><div class='xr-var-data'><pre>array([3.4842888e+01, 5.4388600e-01, 2.4537510e+01, 6.7124718e+01,\n",
       "       5.3833109e+01, 4.6844161e+01, 6.9273031e+01, 4.2217302e+01,\n",
       "       6.9360977e+01, 6.9631720e+01, 3.9638880e+00, 1.9925392e+01,\n",
       "       6.8360525e+01, 6.5548509e+01, 1.0081460e+00, 6.3606918e+01,\n",
       "       6.7297614e+01, 5.3857541e+01, 4.8466858e+01, 6.0565031e+01,\n",
       "       6.7099404e+01, 1.0594935e+01, 4.2106238e+01, 8.1350450e+00,\n",
       "       4.0964790e+00, 2.8248430e+00, 6.0993302e+01, 4.6457207e+01,\n",
       "       2.5476600e-01, 2.5921380e+00, 9.6292000e-01, 3.4011700e-01,\n",
       "       8.4285720e+00, 5.2770400e+01, 4.1068512e+01, 1.3864900e-01,\n",
       "       4.5064345e+01, 1.0742347e+01, 1.2888816e+01, 2.5669417e+01,\n",
       "       1.5479250e+00, 5.8928340e+00, 1.5708000e-02, 3.5707100e-01,\n",
       "       3.7122402e+01, 1.7000000e-05, 9.2336000e-01, 1.4039458e+01,\n",
       "       1.7520000e-03, 1.9696620e+00, 2.1646857e+01, 2.6686100e-01,\n",
       "       9.9195620e+00, 9.8838400e-01, 2.4415734e+01, 6.7496800e-01,\n",
       "       8.1578830e+00, 2.6810520e+00, 1.7861846e+01, 4.0886850e+00,\n",
       "       1.1721399e+01, 1.7370600e-01, 1.8632521e+01, 6.6346010e+00,\n",
       "       8.9313540e+00, 3.3694500e-01, 2.7493563e+01, 1.9589450e+00,\n",
       "       6.8844110e+00, 2.3701580e+00, 0.0000000e+00, 3.8411093e+01,\n",
       "       1.0579304e+01, 3.4181032e+01, 1.9666030e+00, 1.8383810e+00,\n",
       "       3.2049300e-01, 1.6525844e+01, 1.0861168e+01, 5.1434815e+01,\n",
       "       1.8777655e+01, 1.5953400e+00, 1.4387000e-02, 2.6145560e+01,\n",
       "       1.6761500e-01, 1.5031930e+00, 6.0766965e+01, 0.0000000e+00,\n",
       "       5.2956158e+01, 4.9584058e+01, 2.4567018e+01, 6.0827800e+00,\n",
       "       9.6000000e-05, 3.0752271e+01, 5.9630829e+01, 6.2769628e+01,\n",
       "       3.7904045e+01, 6.6905284e+01, 4.3807986e+01, 6.8702251e+01,\n",
       "       3.8483852e+01, 6.9014180e+01, 1.7952225e+01, 4.5811287e+01,\n",
       "       9.6300000e-04, 4.3878862e+01])</pre></div></li><li class='xr-var-item'><div class='xr-var-name'><span>proj:transform</span></div><div class='xr-var-dims'>()</div><div class='xr-var-dtype'>object</div><div class='xr-var-preview xr-preview'>{0.0, 5400040.0, -20.0, 199980.0...</div><input id='attrs-ff2f8fcb-23e9-45d7-ad51-98519c3dfd33' class='xr-var-attrs-in' type='checkbox' disabled><label for='attrs-ff2f8fcb-23e9-45d7-ad51-98519c3dfd33' title='Show/Hide attributes'><svg class='icon xr-icon-file-text2'><use xlink:href='#icon-file-text2'></use></svg></label><input id='data-f94a682b-6a42-43ba-8615-11f6b8d8ed5f' class='xr-var-data-in' type='checkbox'><label for='data-f94a682b-6a42-43ba-8615-11f6b8d8ed5f' title='Show/Hide data repr'><svg class='icon xr-icon-database'><use xlink:href='#icon-database'></use></svg></label><div class='xr-var-attrs'><dl class='xr-attrs'></dl></div><div class='xr-var-data'><pre>array({0.0, 5400040.0, -20.0, 199980.0, 20.0}, dtype=object)</pre></div></li><li class='xr-var-item'><div class='xr-var-name'><span>gsd</span></div><div class='xr-var-dims'>()</div><div class='xr-var-dtype'>float64</div><div class='xr-var-preview xr-preview'>20.0</div><input id='attrs-948aa987-c444-4a07-a7be-5ec8d1317b90' class='xr-var-attrs-in' type='checkbox' disabled><label for='attrs-948aa987-c444-4a07-a7be-5ec8d1317b90' title='Show/Hide attributes'><svg class='icon xr-icon-file-text2'><use xlink:href='#icon-file-text2'></use></svg></label><input id='data-9eb94006-c43a-482b-847f-b4c783b04fe1' class='xr-var-data-in' type='checkbox'><label for='data-9eb94006-c43a-482b-847f-b4c783b04fe1' title='Show/Hide data repr'><svg class='icon xr-icon-database'><use xlink:href='#icon-database'></use></svg></label><div class='xr-var-attrs'><dl class='xr-attrs'></dl></div><div class='xr-var-data'><pre>array(20.)</pre></div></li><li class='xr-var-item'><div class='xr-var-name'><span>title</span></div><div class='xr-var-dims'>()</div><div class='xr-var-dtype'>&lt;U29</div><div class='xr-var-preview xr-preview'>&#x27;Scene classfication map (SCL)&#x27;</div><input id='attrs-cd505539-a63f-4a1b-9467-56b53739154f' class='xr-var-attrs-in' type='checkbox' disabled><label for='attrs-cd505539-a63f-4a1b-9467-56b53739154f' title='Show/Hide attributes'><svg class='icon xr-icon-file-text2'><use xlink:href='#icon-file-text2'></use></svg></label><input id='data-7c95eaaa-3193-4a51-a9ad-7c56e02a72a6' class='xr-var-data-in' type='checkbox'><label for='data-7c95eaaa-3193-4a51-a9ad-7c56e02a72a6' title='Show/Hide data repr'><svg class='icon xr-icon-database'><use xlink:href='#icon-database'></use></svg></label><div class='xr-var-attrs'><dl class='xr-attrs'></dl></div><div class='xr-var-data'><pre>array(&#x27;Scene classfication map (SCL)&#x27;, dtype=&#x27;&lt;U29&#x27;)</pre></div></li><li class='xr-var-item'><div class='xr-var-name'><span>proj:bbox</span></div><div class='xr-var-dims'>()</div><div class='xr-var-dtype'>object</div><div class='xr-var-preview xr-preview'>{5290240.0, 5400040.0, 199980.0,...</div><input id='attrs-63fd4df0-a6bc-4c41-8c4b-ece2872e9f1a' class='xr-var-attrs-in' type='checkbox' disabled><label for='attrs-63fd4df0-a6bc-4c41-8c4b-ece2872e9f1a' title='Show/Hide attributes'><svg class='icon xr-icon-file-text2'><use xlink:href='#icon-file-text2'></use></svg></label><input id='data-873e6c08-988b-49b5-a2d9-6cf6c3a4bcfa' class='xr-var-data-in' type='checkbox'><label for='data-873e6c08-988b-49b5-a2d9-6cf6c3a4bcfa' title='Show/Hide data repr'><svg class='icon xr-icon-database'><use xlink:href='#icon-database'></use></svg></label><div class='xr-var-attrs'><dl class='xr-attrs'></dl></div><div class='xr-var-data'><pre>array({5290240.0, 5400040.0, 199980.0, 309780.0}, dtype=object)</pre></div></li><li class='xr-var-item'><div class='xr-var-name'><span>proj:shape</span></div><div class='xr-var-dims'>()</div><div class='xr-var-dtype'>object</div><div class='xr-var-preview xr-preview'>{5490}</div><input id='attrs-09608f93-6af7-46bb-b1a6-6bdf44fb31ac' class='xr-var-attrs-in' type='checkbox' disabled><label for='attrs-09608f93-6af7-46bb-b1a6-6bdf44fb31ac' title='Show/Hide attributes'><svg class='icon xr-icon-file-text2'><use xlink:href='#icon-file-text2'></use></svg></label><input id='data-d56ed631-f1b8-49e3-8c4c-d378ebd2a459' class='xr-var-data-in' type='checkbox'><label for='data-d56ed631-f1b8-49e3-8c4c-d378ebd2a459' title='Show/Hide data repr'><svg class='icon xr-icon-database'><use xlink:href='#icon-database'></use></svg></label><div class='xr-var-attrs'><dl class='xr-attrs'></dl></div><div class='xr-var-data'><pre>array({5490}, dtype=object)</pre></div></li><li class='xr-var-item'><div class='xr-var-name'><span>epsg</span></div><div class='xr-var-dims'>()</div><div class='xr-var-dtype'>&lt;U10</div><div class='xr-var-preview xr-preview'>&#x27;EPSG:32719&#x27;</div><input id='attrs-3bd1f434-20f3-4fd7-af04-60ad81b0dd7e' class='xr-var-attrs-in' type='checkbox' disabled><label for='attrs-3bd1f434-20f3-4fd7-af04-60ad81b0dd7e' title='Show/Hide attributes'><svg class='icon xr-icon-file-text2'><use xlink:href='#icon-file-text2'></use></svg></label><input id='data-2721ed8f-7774-4798-8f67-c4ee0b0411bc' class='xr-var-data-in' type='checkbox'><label for='data-2721ed8f-7774-4798-8f67-c4ee0b0411bc' title='Show/Hide data repr'><svg class='icon xr-icon-database'><use xlink:href='#icon-database'></use></svg></label><div class='xr-var-attrs'><dl class='xr-attrs'></dl></div><div class='xr-var-data'><pre>array(&#x27;EPSG:32719&#x27;, dtype=&#x27;&lt;U10&#x27;)</pre></div></li></ul></div></li><li class='xr-section-item'><input id='section-7e8a5689-a073-41fd-9174-1aa887037add' class='xr-section-summary-in' type='checkbox'  ><label for='section-7e8a5689-a073-41fd-9174-1aa887037add' class='xr-section-summary' >Indexes: <span>(4)</span></label><div class='xr-section-inline-details'></div><div class='xr-section-details'><ul class='xr-var-list'><li class='xr-var-item'><div class='xr-index-name'><div>time</div></div><div class='xr-index-preview'>PandasIndex</div><div></div><input id='index-a5cf4ac2-284b-4586-a34d-3c014232a7f9' class='xr-index-data-in' type='checkbox'/><label for='index-a5cf4ac2-284b-4586-a34d-3c014232a7f9' title='Show/Hide index repr'><svg class='icon xr-icon-database'><use xlink:href='#icon-database'></use></svg></label><div class='xr-index-data'><pre>PandasIndex(DatetimeIndex([&#x27;2018-01-01 14:27:51.026000&#x27;, &#x27;2018-01-04 14:54:01.026000&#x27;,\n",
       "               &#x27;2018-01-09 14:37:49.027000&#x27;, &#x27;2018-01-14 14:37:41.026000&#x27;,\n",
       "               &#x27;2018-01-16 14:28:49.027000&#x27;, &#x27;2018-01-19 14:37:49.027000&#x27;,\n",
       "               &#x27;2018-01-24 14:54:01.026000&#x27;, &#x27;2018-01-26 14:28:49.027000&#x27;,\n",
       "               &#x27;2018-01-29 14:37:49.027000&#x27;, &#x27;2018-02-05 14:28:49.027000&#x27;,\n",
       "               ...\n",
       "               &#x27;2018-11-30 14:37:41.024000&#x27;, &#x27;2018-12-02 14:27:49.024000&#x27;,\n",
       "               &#x27;2018-12-05 14:37:49.024000&#x27;, &#x27;2018-12-07 14:27:41.024000&#x27;,\n",
       "               &#x27;2018-12-12 14:27:49.024000&#x27;, &#x27;2018-12-17 14:27:41.024000&#x27;,\n",
       "               &#x27;2018-12-25 14:37:49.024000&#x27;, &#x27;2018-12-27 14:27:51.024000&#x27;,\n",
       "               &#x27;2018-12-30 14:37:51.024000&#x27;, &#x27;2019-01-01 14:27:49.024000&#x27;],\n",
       "              dtype=&#x27;datetime64[ns]&#x27;, name=&#x27;time&#x27;, length=106, freq=None))</pre></div></li><li class='xr-var-item'><div class='xr-index-name'><div>band</div></div><div class='xr-index-preview'>PandasIndex</div><div></div><input id='index-40052fb6-2cd0-40df-9b8b-12c28b67f3be' class='xr-index-data-in' type='checkbox'/><label for='index-40052fb6-2cd0-40df-9b8b-12c28b67f3be' title='Show/Hide index repr'><svg class='icon xr-icon-database'><use xlink:href='#icon-database'></use></svg></label><div class='xr-index-data'><pre>PandasIndex(Index([&#x27;SCL&#x27;], dtype=&#x27;object&#x27;, name=&#x27;band&#x27;))</pre></div></li><li class='xr-var-item'><div class='xr-index-name'><div>x</div></div><div class='xr-index-preview'>PandasIndex</div><div></div><input id='index-03e68907-57c5-423b-892f-2b311f44883a' class='xr-index-data-in' type='checkbox'/><label for='index-03e68907-57c5-423b-892f-2b311f44883a' title='Show/Hide index repr'><svg class='icon xr-icon-database'><use xlink:href='#icon-database'></use></svg></label><div class='xr-index-data'><pre>PandasIndex(Index([270390.0, 270410.0, 270430.0, 270450.0, 270470.0, 270490.0, 270510.0,\n",
       "       270530.0, 270550.0, 270570.0, 270590.0, 270610.0, 270630.0, 270650.0,\n",
       "       270670.0, 270690.0, 270710.0, 270730.0, 270750.0, 270770.0, 270790.0,\n",
       "       270810.0, 270830.0, 270850.0, 270870.0, 270890.0, 270910.0, 270930.0,\n",
       "       270950.0, 270970.0, 270990.0, 271010.0, 271030.0, 271050.0, 271070.0,\n",
       "       271090.0, 271110.0, 271130.0, 271150.0, 271170.0, 271190.0, 271210.0,\n",
       "       271230.0, 271250.0, 271270.0, 271290.0, 271310.0, 271330.0, 271350.0,\n",
       "       271370.0, 271390.0, 271410.0, 271430.0, 271450.0, 271470.0, 271490.0,\n",
       "       271510.0, 271530.0, 271550.0, 271570.0, 271590.0, 271610.0, 271630.0,\n",
       "       271650.0],\n",
       "      dtype=&#x27;float64&#x27;, name=&#x27;x&#x27;))</pre></div></li><li class='xr-var-item'><div class='xr-index-name'><div>y</div></div><div class='xr-index-preview'>PandasIndex</div><div></div><input id='index-a7e2cd66-e195-4a90-b4e9-e5c728396bc3' class='xr-index-data-in' type='checkbox'/><label for='index-a7e2cd66-e195-4a90-b4e9-e5c728396bc3' title='Show/Hide index repr'><svg class='icon xr-icon-database'><use xlink:href='#icon-database'></use></svg></label><div class='xr-index-data'><pre>PandasIndex(Index([5291230.0, 5291210.0, 5291190.0, 5291170.0, 5291150.0, 5291130.0,\n",
       "       5291110.0, 5291090.0, 5291070.0, 5291050.0, 5291030.0, 5291010.0,\n",
       "       5290990.0, 5290970.0, 5290950.0, 5290930.0, 5290910.0, 5290890.0,\n",
       "       5290870.0, 5290850.0, 5290830.0, 5290810.0, 5290790.0, 5290770.0,\n",
       "       5290750.0, 5290730.0, 5290710.0, 5290690.0, 5290670.0, 5290650.0,\n",
       "       5290630.0, 5290610.0, 5290590.0, 5290570.0, 5290550.0, 5290530.0,\n",
       "       5290510.0, 5290490.0, 5290470.0, 5290450.0, 5290430.0, 5290410.0,\n",
       "       5290390.0, 5290370.0, 5290350.0, 5290330.0, 5290310.0, 5290290.0,\n",
       "       5290270.0, 5290250.0],\n",
       "      dtype=&#x27;float64&#x27;, name=&#x27;y&#x27;))</pre></div></li></ul></div></li><li class='xr-section-item'><input id='section-f0e497ea-4eb1-41a3-b65c-2f0b0a9ec3e3' class='xr-section-summary-in' type='checkbox'  checked><label for='section-f0e497ea-4eb1-41a3-b65c-2f0b0a9ec3e3' class='xr-section-summary' >Attributes: <span>(4)</span></label><div class='xr-section-inline-details'></div><div class='xr-section-details'><dl class='xr-attrs'><dt><span>spec :</span></dt><dd>RasterSpec(epsg=&#x27;EPSG:32719&#x27;, bounds=(270380, 5290240, 271660, 5291240), resolutions_xy=(20, 20))</dd><dt><span>crs :</span></dt><dd>epsg:EPSG:32719</dd><dt><span>transform :</span></dt><dd>| 20.00, 0.00, 270380.00|\n",
       "| 0.00,-20.00, 5291240.00|\n",
       "| 0.00, 0.00, 1.00|</dd><dt><span>resolution :</span></dt><dd>20</dd></dl></div></li></ul></div></div>"
      ],
      "text/plain": [
       "<xarray.DataArray 'stac-data' (time: 106, band: 1, y: 50, x: 64)>\n",
       "array([[[[ 4,  4,  4, ...,  4,  5,  5],\n",
       "         [ 4,  4,  4, ...,  4,  4,  4],\n",
       "         [ 4,  5,  5, ...,  4,  4,  4],\n",
       "         ...,\n",
       "         [ 7,  2,  2, ...,  7,  7, 11],\n",
       "         [ 4,  4,  7, ...,  5,  7, 11],\n",
       "         [ 4,  4,  2, ...,  7,  7, 11]]],\n",
       "\n",
       "\n",
       "       [[[ 0,  0,  0, ...,  0,  0,  0],\n",
       "         [ 0,  0,  0, ...,  0,  0,  0],\n",
       "         [ 0,  0,  0, ...,  0,  0,  0],\n",
       "         ...,\n",
       "         [ 0,  0,  0, ...,  0,  0,  0],\n",
       "         [ 0,  0,  0, ...,  0,  0,  0],\n",
       "         [ 0,  0,  0, ...,  0,  0,  0]]],\n",
       "\n",
       "\n",
       "       [[[ 0,  0,  0, ...,  0,  0,  0],\n",
       "         [ 0,  0,  0, ...,  0,  0,  0],\n",
       "...\n",
       "         [ 4,  4,  2, ...,  5,  7, 11],\n",
       "         [ 4,  4,  7, ...,  7,  7, 11]]],\n",
       "\n",
       "\n",
       "       [[[ 0,  0,  0, ...,  0,  0,  0],\n",
       "         [ 0,  0,  0, ...,  0,  0,  0],\n",
       "         [ 0,  0,  0, ...,  0,  0,  0],\n",
       "         ...,\n",
       "         [ 0,  0,  0, ...,  0,  0,  0],\n",
       "         [ 0,  0,  0, ...,  0,  0,  0],\n",
       "         [ 0,  0,  0, ...,  0,  0,  0]]],\n",
       "\n",
       "\n",
       "       [[[ 4,  4,  4, ...,  4,  5,  5],\n",
       "         [ 4,  4,  4, ...,  4,  5,  5],\n",
       "         [ 4,  4,  4, ...,  4,  4,  4],\n",
       "         ...,\n",
       "         [ 7,  2,  2, ...,  5,  7, 11],\n",
       "         [ 4,  4,  2, ...,  5, 11, 11],\n",
       "         [ 4,  4,  2, ...,  5, 11, 11]]]], dtype=uint8)\n",
       "Coordinates: (12/43)\n",
       "  * time                                     (time) datetime64[ns] 2018-01-01...\n",
       "    id                                       (time) <U54 'S2A_MSIL2A_20180101...\n",
       "  * band                                     (band) <U3 'SCL'\n",
       "  * x                                        (x) float64 2.704e+05 ... 2.716e+05\n",
       "  * y                                        (y) float64 5.291e+06 ... 5.29e+06\n",
       "    s2:reflectance_conversion_factor         (time) float64 1.034 ... 1.034\n",
       "    ...                                       ...\n",
       "    proj:transform                           object {0.0, 5400040.0, -20.0, 1...\n",
       "    gsd                                      float64 20.0\n",
       "    title                                    <U29 'Scene classfication map (S...\n",
       "    proj:bbox                                object {5290240.0, 5400040.0, 19...\n",
       "    proj:shape                               object {5490}\n",
       "    epsg                                     <U10 'EPSG:32719'\n",
       "Attributes:\n",
       "    spec:        RasterSpec(epsg='EPSG:32719', bounds=(270380, 5290240, 27166...\n",
       "    crs:         epsg:EPSG:32719\n",
       "    transform:   | 20.00, 0.00, 270380.00|\\n| 0.00,-20.00, 5291240.00|\\n| 0.0...\n",
       "    resolution:  20"
      ]
     },
     "execution_count": 66,
     "metadata": {},
     "output_type": "execute_result"
    }
   ],
   "source": [
    "reader.read(bounds, epsg, ['SCL'])"
   ]
  },
  {
   "cell_type": "code",
   "execution_count": null,
   "id": "c82f9708-7d53-4600-9bc2-6710b7c715f0",
   "metadata": {},
   "outputs": [],
   "source": []
  }
 ],
 "metadata": {
  "kernelspec": {
   "display_name": "Python 3 (ipykernel)",
   "language": "python",
   "name": "python3"
  },
  "language_info": {
   "codemirror_mode": {
    "name": "ipython",
    "version": 3
   },
   "file_extension": ".py",
   "mimetype": "text/x-python",
   "name": "python",
   "nbconvert_exporter": "python",
   "pygments_lexer": "ipython3",
   "version": "3.11.4"
  }
 },
 "nbformat": 4,
 "nbformat_minor": 5
}
