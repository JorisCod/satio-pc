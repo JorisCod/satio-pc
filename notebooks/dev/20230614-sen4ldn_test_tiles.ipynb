{
 "cells": [
  {
   "cell_type": "code",
   "execution_count": 1,
   "id": "d0280066-a346-44f1-911d-49895d07a6c3",
   "metadata": {
    "tags": []
   },
   "outputs": [],
   "source": [
    "# Jupyter notebook related\n",
    "%reload_ext autoreload\n",
    "%autoreload 2"
   ]
  },
  {
   "cell_type": "code",
   "execution_count": 2,
   "id": "62d1c3b3-5fc7-477c-9e06-9e63f0a15b19",
   "metadata": {},
   "outputs": [],
   "source": [
    "import geopandas as gpd\n",
    "from satio_pc.grid import get_blocks_gdf\n",
    "from dask import delayed\n",
    "\n",
    "# from elogs import Elogs, ElogsTask\n",
    "\n",
    "with open('../../../connstr_vegteam') as f:\n",
    "    connect_str = f.read()\n",
    "container_name = 'sen4ldn'\n",
    "\n",
    "# Test tiles for SEN4LDN\n",
    "\n",
    "# Uganda: 36NUG\n",
    "# Portugal: 29TNE\n",
    "# Colombia: 18NUJ"
   ]
  },
  {
   "cell_type": "code",
   "execution_count": 13,
   "id": "bbc69b2d-d3b3-4011-8700-5276f0792e7c",
   "metadata": {
    "tags": []
   },
   "outputs": [],
   "source": [
    "from satio_pc.utils.azure import AzureBlobReader\n",
    "\n",
    "azure = AzureBlobReader(connect_str,\n",
    "                        container_name)\n",
    "azure.list_files()\n",
    "for fn in azure.list_files():\n",
    "    azure.delete_file(fn)"
   ]
  },
  {
   "cell_type": "code",
   "execution_count": 4,
   "id": "0c91742a-fee9-493c-b42e-8a53cbbd0fbd",
   "metadata": {
    "tags": []
   },
   "outputs": [
    {
     "data": {
      "text/plain": [
       "['features/2018/s2/18NUJ/satio-features-s2_18NUJ_000_2018.tif',\n",
       " 'logs/done/2018/s2/done_18NUJ_000_2018.log',\n",
       " 'logs/proc/2018/s2/proc_18NUJ_000_2018.log']"
      ]
     },
     "execution_count": 4,
     "metadata": {},
     "output_type": "execute_result"
    }
   ],
   "source": [
    "azure.list_files()"
   ]
  },
  {
   "cell_type": "code",
   "execution_count": 4,
   "id": "00e5e442-e731-4663-a949-c5b287cbaabf",
   "metadata": {
    "tags": []
   },
   "outputs": [],
   "source": [
    "# azure.download_file('features/2018/s2/18NUJ/satio-features-s2_18NUJ_000_2018.tif', 'satio-features-s2_18NUJ_000_2018.tif')"
   ]
  },
  {
   "cell_type": "code",
   "execution_count": 5,
   "id": "2800bc84-e2ab-48c4-abae-477b71bde90a",
   "metadata": {},
   "outputs": [],
   "source": [
    "from satio_pc.sentinel2 import load_l2a\n",
    "from satio_pc.extraction import S2BlockExtractor\n",
    "\n",
    "\n",
    "settings = {\n",
    "\n",
    "    \"l2a\": {\n",
    "        \"max_cloud_cover\": 90,\n",
    "        \"composite\": {\"freq\": 10, \"window\": 20},\n",
    "        \"mask\": {\"erode_r\": 3,\n",
    "                 \"dilate_r\": 13,\n",
    "                 \"max_invalid_ratio\": 1}},\n",
    "\n",
    "    \"gamma0\": {\n",
    "        \"composite\": {\"freq\": 10, \"window\": 10}},\n",
    "}\n",
    "\n",
    "\n",
    "tiles = '18NUJ 29TNE 36NUG'.split()\n",
    "\n",
    "blocks_gdf = get_blocks_gdf(tiles)\n",
    "blocks_gdf = blocks_gdf[blocks_gdf['area'] == 104857600]  # only squares, bug on others\n",
    "blocks_gdf = blocks_gdf.sort_values('block_id')"
   ]
  },
  {
   "cell_type": "code",
   "execution_count": 6,
   "id": "a4aa3fd0-a2c0-4383-8bdc-063468ee5ad8",
   "metadata": {
    "tags": []
   },
   "outputs": [
    {
     "data": {
      "text/plain": [
       "area\n",
       "104857600.0    300\n",
       "Name: count, dtype: int64"
      ]
     },
     "execution_count": 6,
     "metadata": {},
     "output_type": "execute_result"
    }
   ],
   "source": [
    "blocks_gdf['area'].value_counts()"
   ]
  },
  {
   "cell_type": "code",
   "execution_count": 7,
   "id": "f9b86495-ef17-49e8-9028-d526696f6cbc",
   "metadata": {
    "tags": []
   },
   "outputs": [],
   "source": [
    "block = next(blocks_gdf.iloc[[10]].itertuples())"
   ]
  },
  {
   "cell_type": "code",
   "execution_count": 8,
   "id": "a89c5e09-26a9-49a5-9d06-82ed48740243",
   "metadata": {
    "tags": []
   },
   "outputs": [],
   "source": [
    "bands = [f'B{b:02d}' for b in (2, 3, 4, 8, 11, 12)]\n",
    "indices = ['ndvi']\n",
    "\n",
    "def extract_s2(block, year):\n",
    "    print(block.tile, block.block_id, year)\n",
    "    extractor = S2BlockExtractor(block.tile,\n",
    "                                 block.block_id,\n",
    "                                 year,\n",
    "                                 bands=bands,\n",
    "                                 indices=indices,\n",
    "                                 output_folder='/tmp',\n",
    "                                 connection_str=connect_str,\n",
    "                                 container_name=container_name)\n",
    "    \n",
    "    log_fn = f'logs/done/{year}/s2/done_{block.tile}_{block.block_id}_{year}.log'\n",
    "    done_logs = extractor._azure_client.list_files(prefix='logs/done/')\n",
    "    if log_fn in done_logs:\n",
    "        print(f'{block.tile} {block.block_id} {year} already extracted')\n",
    "        return None\n",
    "    else:\n",
    "        extractor.extract()\n",
    "\n",
    "args = [(b, y) for b in blocks_gdf.itertuples()\n",
    "        for y in range(2018, 2023)]\n",
    " "
   ]
  },
  {
   "cell_type": "code",
   "execution_count": 9,
   "id": "9c9cc12d-b452-45a9-ac26-881cb57790de",
   "metadata": {},
   "outputs": [],
   "source": [
    "import multiprocessing"
   ]
  },
  {
   "cell_type": "code",
   "execution_count": null,
   "id": "1d5e6f82-ff94-416c-8356-578bbf9efdd6",
   "metadata": {
    "tags": []
   },
   "outputs": [],
   "source": [
    "for a in args:\n",
    "    p = multiprocessing.Process(target=extract_s2,\n",
    "                                args=a)\n",
    "    p.start()\n",
    "    p.join()\n"
   ]
  },
  {
   "cell_type": "markdown",
   "id": "396ed3f7-963d-4ff7-9795-0995aa12c210",
   "metadata": {},
   "source": [
    "bugs to fix:\n",
    "- weird line patterns\n",
    "- weird bands descriptions.\n",
    "- save as bytes with min max scaling and offset"
   ]
  },
  {
   "cell_type": "code",
   "execution_count": 14,
   "id": "68b479d2-78c0-4078-8776-2e7a28322d2f",
   "metadata": {},
   "outputs": [
    {
     "name": "stdout",
     "output_type": "stream",
     "text": [
      "18NUJ 0 2018\n"
     ]
    },
    {
     "name": "stderr",
     "output_type": "stream",
     "text": [
      "/srv/conda/envs/notebook/lib/python3.11/site-packages/pystac_client/item_search.py:841: FutureWarning: get_all_items() is deprecated, use item_collection() instead.\n",
      "  warnings.warn(\n",
      "\u001b[32m2023-06-27 09:52:45.903\u001b[0m | \u001b[33m\u001b[1mWARNING \u001b[0m | \u001b[36msatio_pc.sentinel2\u001b[0m:\u001b[36mfilter_corrupted_items\u001b[0m:\u001b[36m57\u001b[0m - \u001b[33m\u001b[1mDiscarding 2 / 111 corrupted products: ['S2A_MSIL2A_20180711T153621_R068_T18NUJ_20201011T143244', 'S2B_MSIL2A_20180226T153609_R068_T18NUJ_20201104T161136']\u001b[0m\n",
      "/srv/conda/envs/notebook/lib/python3.11/site-packages/stackstac/prepare.py:363: UserWarning: The argument 'infer_datetime_format' is deprecated and will be removed in a future version. A strict version of it is now the default, see https://pandas.pydata.org/pdeps/0004-consistent-to-datetime-parsing.html. You can safely remove this argument.\n",
      "  times = pd.to_datetime(\n",
      "/srv/conda/envs/notebook/lib/python3.11/site-packages/stackstac/prepare.py:363: UserWarning: The argument 'infer_datetime_format' is deprecated and will be removed in a future version. A strict version of it is now the default, see https://pandas.pydata.org/pdeps/0004-consistent-to-datetime-parsing.html. You can safely remove this argument.\n",
      "  times = pd.to_datetime(\n",
      "/srv/conda/envs/notebook/lib/python3.11/site-packages/stackstac/prepare.py:363: UserWarning: The argument 'infer_datetime_format' is deprecated and will be removed in a future version. A strict version of it is now the default, see https://pandas.pydata.org/pdeps/0004-consistent-to-datetime-parsing.html. You can safely remove this argument.\n",
      "  times = pd.to_datetime(\n",
      "/srv/conda/envs/notebook/lib/python3.11/site-packages/stackstac/prepare.py:363: UserWarning: The argument 'infer_datetime_format' is deprecated and will be removed in a future version. A strict version of it is now the default, see https://pandas.pydata.org/pdeps/0004-consistent-to-datetime-parsing.html. You can safely remove this argument.\n",
      "  times = pd.to_datetime(\n",
      "\u001b[32m2023-06-27 09:52:47.680\u001b[0m | \u001b[1mINFO    \u001b[0m | \u001b[36msatio_pc.sentinel2\u001b[0m:\u001b[36mpreprocess_l2a\u001b[0m:\u001b[36m398\u001b[0m - \u001b[1mLoading block data\u001b[0m\n",
      "\u001b[32m2023-06-27 09:53:43.783\u001b[0m | \u001b[1mINFO    \u001b[0m | \u001b[36msatio_pc.sentinel2\u001b[0m:\u001b[36mpreprocess_l2a\u001b[0m:\u001b[36m417\u001b[0m - \u001b[1mCompositing 10m block data\u001b[0m\n",
      "\u001b[32m2023-06-27 09:55:21.396\u001b[0m | \u001b[1mINFO    \u001b[0m | \u001b[36msatio_pc.sentinel2\u001b[0m:\u001b[36mpreprocess_l2a\u001b[0m:\u001b[36m426\u001b[0m - \u001b[1mInterpolating 10m block data\u001b[0m\n",
      "\u001b[32m2023-06-27 09:56:44.037\u001b[0m | \u001b[1mINFO    \u001b[0m | \u001b[36msatio_pc.sentinel2\u001b[0m:\u001b[36mpreprocess_l2a\u001b[0m:\u001b[36m439\u001b[0m - \u001b[1mCompositing 20m block data\u001b[0m\n",
      "\u001b[32m2023-06-27 09:57:24.313\u001b[0m | \u001b[1mINFO    \u001b[0m | \u001b[36msatio_pc.sentinel2\u001b[0m:\u001b[36mpreprocess_l2a\u001b[0m:\u001b[36m448\u001b[0m - \u001b[1mInterpolating 20m block data\u001b[0m\n",
      "\u001b[32m2023-06-27 09:57:54.797\u001b[0m | \u001b[1mINFO    \u001b[0m | \u001b[36msatio_pc.sentinel2\u001b[0m:\u001b[36mpreprocess_l2a\u001b[0m:\u001b[36m455\u001b[0m - \u001b[1mMerging 10m and 20m series\u001b[0m\n",
      "\u001b[32m2023-06-27 09:57:54.811\u001b[0m | \u001b[1mINFO    \u001b[0m | \u001b[36msatio_pc.preprocessing.timer\u001b[0m:\u001b[36mlog\u001b[0m:\u001b[36m57\u001b[0m - \u001b[1ml2a 10m loading took 0.42 minutes\u001b[0m\n",
      "\u001b[32m2023-06-27 09:57:54.812\u001b[0m | \u001b[1mINFO    \u001b[0m | \u001b[36msatio_pc.preprocessing.timer\u001b[0m:\u001b[36mlog\u001b[0m:\u001b[36m57\u001b[0m - \u001b[1ml2a 10m compositing took 1.64 minutes\u001b[0m\n",
      "\u001b[32m2023-06-27 09:57:54.812\u001b[0m | \u001b[1mINFO    \u001b[0m | \u001b[36msatio_pc.preprocessing.timer\u001b[0m:\u001b[36mlog\u001b[0m:\u001b[36m57\u001b[0m - \u001b[1ml2a 10m interpolation took 1.37 minutes\u001b[0m\n",
      "\u001b[32m2023-06-27 09:57:54.814\u001b[0m | \u001b[1mINFO    \u001b[0m | \u001b[36msatio_pc.preprocessing.timer\u001b[0m:\u001b[36mlog\u001b[0m:\u001b[36m57\u001b[0m - \u001b[1ml2a 20m loading took 0.50 minutes\u001b[0m\n",
      "\u001b[32m2023-06-27 09:57:54.815\u001b[0m | \u001b[1mINFO    \u001b[0m | \u001b[36msatio_pc.preprocessing.timer\u001b[0m:\u001b[36mlog\u001b[0m:\u001b[36m57\u001b[0m - \u001b[1ml2a 20m compositing took 0.68 minutes\u001b[0m\n",
      "\u001b[32m2023-06-27 09:57:54.816\u001b[0m | \u001b[1mINFO    \u001b[0m | \u001b[36msatio_pc.preprocessing.timer\u001b[0m:\u001b[36mlog\u001b[0m:\u001b[36m57\u001b[0m - \u001b[1ml2a 20m interpolation took 0.51 minutes\u001b[0m\n",
      "\u001b[32m2023-06-27 09:57:54.816\u001b[0m | \u001b[1mINFO    \u001b[0m | \u001b[36msatio_pc.preprocessing.timer\u001b[0m:\u001b[36mlog\u001b[0m:\u001b[36m89\u001b[0m - \u001b[1ml2a 10m processing took: 3.43 minutes\u001b[0m\n",
      "\u001b[32m2023-06-27 09:57:54.817\u001b[0m | \u001b[1mINFO    \u001b[0m | \u001b[36msatio_pc.preprocessing.timer\u001b[0m:\u001b[36mlog\u001b[0m:\u001b[36m89\u001b[0m - \u001b[1ml2a 20m processing took: 1.69 minutes\u001b[0m\n",
      "\u001b[32m2023-06-27 09:58:02.680\u001b[0m | \u001b[31m\u001b[1mERROR   \u001b[0m | \u001b[36msatio_pc.extraction\u001b[0m:\u001b[36m_extract_s2_wrapper\u001b[0m:\u001b[36m138\u001b[0m - \u001b[31m\u001b[1mFeatures extraction failed: conflicting sizes for dimension 'band': length 10 on the data but length 1 on coordinate 'band'\u001b[0m\n",
      "\u001b[33m\u001b[1mTraceback (most recent call last):\u001b[0m\n",
      "\n",
      "  File \"<frozen runpy>\", line 198, in _run_module_as_main\n",
      "  File \"<frozen runpy>\", line 88, in _run_code\n",
      "  File \"/srv/conda/envs/notebook/lib/python3.11/site-packages/ipykernel_launcher.py\", line 17, in <module>\n",
      "    app.launch_new_instance()\n",
      "    │   └ <bound method Application.launch_instance of <class 'ipykernel.kernelapp.IPKernelApp'>>\n",
      "    └ <module 'ipykernel.kernelapp' from '/srv/conda/envs/notebook/lib/python3.11/site-packages/ipykernel/kernelapp.py'>\n",
      "  File \"/srv/conda/envs/notebook/lib/python3.11/site-packages/traitlets/config/application.py\", line 1043, in launch_instance\n",
      "    app.start()\n",
      "    │   └ <function IPKernelApp.start at 0x7f3b8b1ed4e0>\n",
      "    └ <ipykernel.kernelapp.IPKernelApp object at 0x7f3b8e122d10>\n",
      "  File \"/srv/conda/envs/notebook/lib/python3.11/site-packages/ipykernel/kernelapp.py\", line 725, in start\n",
      "    self.io_loop.start()\n",
      "    │    │       └ <function BaseAsyncIOLoop.start at 0x7f3b8b21d300>\n",
      "    │    └ <tornado.platform.asyncio.AsyncIOMainLoop object at 0x7f3b8b1fe090>\n",
      "    └ <ipykernel.kernelapp.IPKernelApp object at 0x7f3b8e122d10>\n",
      "  File \"/srv/conda/envs/notebook/lib/python3.11/site-packages/tornado/platform/asyncio.py\", line 195, in start\n",
      "    self.asyncio_loop.run_forever()\n",
      "    │    │            └ <function BaseEventLoop.run_forever at 0x7f3b8d4cd1c0>\n",
      "    │    └ <_UnixSelectorEventLoop running=True closed=False debug=False>\n",
      "    └ <tornado.platform.asyncio.AsyncIOMainLoop object at 0x7f3b8b1fe090>\n",
      "  File \"/srv/conda/envs/notebook/lib/python3.11/asyncio/base_events.py\", line 607, in run_forever\n",
      "    self._run_once()\n",
      "    │    └ <function BaseEventLoop._run_once at 0x7f3b8d4cefc0>\n",
      "    └ <_UnixSelectorEventLoop running=True closed=False debug=False>\n",
      "  File \"/srv/conda/envs/notebook/lib/python3.11/asyncio/base_events.py\", line 1922, in _run_once\n",
      "    handle._run()\n",
      "    │      └ <function Handle._run at 0x7f3b8dc8bce0>\n",
      "    └ <Handle Task.task_wakeup(<Future finis...150>, ...],))>)>\n",
      "  File \"/srv/conda/envs/notebook/lib/python3.11/asyncio/events.py\", line 80, in _run\n",
      "    self._context.run(self._callback, *self._args)\n",
      "    │    │            │    │           │    └ <member '_args' of 'Handle' objects>\n",
      "    │    │            │    │           └ <Handle Task.task_wakeup(<Future finis...150>, ...],))>)>\n",
      "    │    │            │    └ <member '_callback' of 'Handle' objects>\n",
      "    │    │            └ <Handle Task.task_wakeup(<Future finis...150>, ...],))>)>\n",
      "    │    └ <member '_context' of 'Handle' objects>\n",
      "    └ <Handle Task.task_wakeup(<Future finis...150>, ...],))>)>\n",
      "  File \"/srv/conda/envs/notebook/lib/python3.11/site-packages/ipykernel/kernelbase.py\", line 513, in dispatch_queue\n",
      "    await self.process_one()\n",
      "          │    └ <function Kernel.process_one at 0x7f3b8b8dc5e0>\n",
      "          └ <ipykernel.ipkernel.IPythonKernel object at 0x7f3b8b1ff290>\n",
      "  File \"/srv/conda/envs/notebook/lib/python3.11/site-packages/ipykernel/kernelbase.py\", line 502, in process_one\n",
      "    await dispatch(*args)\n",
      "          │         └ ([<zmq.sugar.frame.Frame object at 0x7f3b8b1d04d0>, <zmq.sugar.frame.Frame object at 0x7f3b8b1d0590>, <zmq.sugar.frame.Frame ...\n",
      "          └ <bound method Kernel.dispatch_shell of <ipykernel.ipkernel.IPythonKernel object at 0x7f3b8b1ff290>>\n",
      "  File \"/srv/conda/envs/notebook/lib/python3.11/site-packages/ipykernel/kernelbase.py\", line 409, in dispatch_shell\n",
      "    await result\n",
      "          └ <coroutine object Kernel.execute_request at 0x7f3af99841a0>\n",
      "  File \"/srv/conda/envs/notebook/lib/python3.11/site-packages/ipykernel/kernelbase.py\", line 729, in execute_request\n",
      "    reply_content = await reply_content\n",
      "                          └ <coroutine object IPythonKernel.do_execute at 0x7f3af9c54040>\n",
      "  File \"/srv/conda/envs/notebook/lib/python3.11/site-packages/ipykernel/ipkernel.py\", line 422, in do_execute\n",
      "    res = shell.run_cell(\n",
      "          │     └ <function ZMQInteractiveShell.run_cell at 0x7f3b8b1c2840>\n",
      "          └ <ipykernel.zmqshell.ZMQInteractiveShell object at 0x7f3b8b040c50>\n",
      "  File \"/srv/conda/envs/notebook/lib/python3.11/site-packages/ipykernel/zmqshell.py\", line 540, in run_cell\n",
      "    return super().run_cell(*args, **kwargs)\n",
      "                             │       └ {'store_history': True, 'silent': False, 'cell_id': '68b479d2-78c0-4078-8776-2e7a28322d2f'}\n",
      "                             └ ('extract_s2(*args[0])',)\n",
      "  File \"/srv/conda/envs/notebook/lib/python3.11/site-packages/IPython/core/interactiveshell.py\", line 3009, in run_cell\n",
      "    result = self._run_cell(\n",
      "             │    └ <function InteractiveShell._run_cell at 0x7f3b8c57cfe0>\n",
      "             └ <ipykernel.zmqshell.ZMQInteractiveShell object at 0x7f3b8b040c50>\n",
      "  File \"/srv/conda/envs/notebook/lib/python3.11/site-packages/IPython/core/interactiveshell.py\", line 3064, in _run_cell\n",
      "    result = runner(coro)\n",
      "             │      └ <coroutine object InteractiveShell.run_cell_async at 0x7f3afb05bac0>\n",
      "             └ <function _pseudo_sync_runner at 0x7f3b8c570180>\n",
      "  File \"/srv/conda/envs/notebook/lib/python3.11/site-packages/IPython/core/async_helpers.py\", line 129, in _pseudo_sync_runner\n",
      "    coro.send(None)\n",
      "    │    └ <method 'send' of 'coroutine' objects>\n",
      "    └ <coroutine object InteractiveShell.run_cell_async at 0x7f3afb05bac0>\n",
      "  File \"/srv/conda/envs/notebook/lib/python3.11/site-packages/IPython/core/interactiveshell.py\", line 3269, in run_cell_async\n",
      "    has_raised = await self.run_ast_nodes(code_ast.body, cell_name,\n",
      "                       │    │             │        │     └ '/tmp/ipykernel_5514/495019932.py'\n",
      "                       │    │             │        └ [<ast.Expr object at 0x7f3afa0742b0>]\n",
      "                       │    │             └ <ast.Module object at 0x7f3afa0f3fa0>\n",
      "                       │    └ <function InteractiveShell.run_ast_nodes at 0x7f3b8c57d300>\n",
      "                       └ <ipykernel.zmqshell.ZMQInteractiveShell object at 0x7f3b8b040c50>\n",
      "  File \"/srv/conda/envs/notebook/lib/python3.11/site-packages/IPython/core/interactiveshell.py\", line 3448, in run_ast_nodes\n",
      "    if await self.run_code(code, result, async_=asy):\n",
      "             │    │        │     │              └ False\n",
      "             │    │        │     └ <ExecutionResult object at 7f3af9f79690, execution_count=14 error_before_exec=None error_in_exec=None info=<ExecutionInfo obj...\n",
      "             │    │        └ <code object <module> at 0x7f3afaf2fc90, file \"/tmp/ipykernel_5514/495019932.py\", line 1>\n",
      "             │    └ <function InteractiveShell.run_code at 0x7f3b8c57d3a0>\n",
      "             └ <ipykernel.zmqshell.ZMQInteractiveShell object at 0x7f3b8b040c50>\n",
      "  File \"/srv/conda/envs/notebook/lib/python3.11/site-packages/IPython/core/interactiveshell.py\", line 3508, in run_code\n",
      "    exec(code_obj, self.user_global_ns, self.user_ns)\n",
      "         │         │    │               │    └ {'__name__': '__main__', '__doc__': 'Automatically created module for IPython interactive environment', '__package__': None, ...\n",
      "         │         │    │               └ <ipykernel.zmqshell.ZMQInteractiveShell object at 0x7f3b8b040c50>\n",
      "         │         │    └ <property object at 0x7f3b8c56a2f0>\n",
      "         │         └ <ipykernel.zmqshell.ZMQInteractiveShell object at 0x7f3b8b040c50>\n",
      "         └ <code object <module> at 0x7f3afaf2fc90, file \"/tmp/ipykernel_5514/495019932.py\", line 1>\n",
      "\n",
      "  File \"\u001b[32m/tmp/ipykernel_5514/\u001b[0m\u001b[32m\u001b[1m495019932.py\u001b[0m\", line \u001b[33m1\u001b[0m, in \u001b[35m<module>\u001b[0m\n",
      "    \u001b[1mextract_s2\u001b[0m\u001b[1m(\u001b[0m\u001b[35m\u001b[1m*\u001b[0m\u001b[1margs\u001b[0m\u001b[1m[\u001b[0m\u001b[34m\u001b[1m0\u001b[0m\u001b[1m]\u001b[0m\u001b[1m)\u001b[0m\n",
      "    \u001b[36m│           └ \u001b[0m\u001b[36m\u001b[1m[(Pandas(Index=0, tile='18NUJ', bounds=(300000, 389780, 310240, 400020), geometry=<POLYGON ((-76.8 3.525, -76.801 3.617, -76....\u001b[0m\n",
      "    \u001b[36m└ \u001b[0m\u001b[36m\u001b[1m<function extract_s2 at 0x7f3af6705580>\u001b[0m\n",
      "\n",
      "  File \"\u001b[32m/tmp/ipykernel_5514/\u001b[0m\u001b[32m\u001b[1m3462874453.py\u001b[0m\", line \u001b[33m21\u001b[0m, in \u001b[35mextract_s2\u001b[0m\n",
      "    \u001b[1mextractor\u001b[0m\u001b[35m\u001b[1m.\u001b[0m\u001b[1mextract\u001b[0m\u001b[1m(\u001b[0m\u001b[1m)\u001b[0m\n",
      "    \u001b[36m│         └ \u001b[0m\u001b[36m\u001b[1m<function S2BlockExtractor.extract at 0x7f3afad5e020>\u001b[0m\n",
      "    \u001b[36m└ \u001b[0m\u001b[36m\u001b[1m<satio_pc.extraction.S2BlockExtractor object at 0x7f3af9f80e10>\u001b[0m\n",
      "\n",
      "  File \"\u001b[32m/home/jovyan/PlanetaryComputerExamples/personal/satio-pc/satio_pc/\u001b[0m\u001b[32m\u001b[1mextraction.py\u001b[0m\", line \u001b[33m118\u001b[0m, in \u001b[35mextract\u001b[0m\n",
      "    \u001b[1mfn\u001b[0m \u001b[35m\u001b[1m=\u001b[0m \u001b[1mself\u001b[0m\u001b[35m\u001b[1m.\u001b[0m\u001b[1m_extract_s2_wrapper\u001b[0m\u001b[1m(\u001b[0m\u001b[1m)\u001b[0m\n",
      "    \u001b[36m     │    └ \u001b[0m\u001b[36m\u001b[1m<function S2BlockExtractor._extract_s2_wrapper at 0x7f3afad5e0c0>\u001b[0m\n",
      "    \u001b[36m     └ \u001b[0m\u001b[36m\u001b[1m<satio_pc.extraction.S2BlockExtractor object at 0x7f3af9f80e10>\u001b[0m\n",
      "\n",
      "> File \"\u001b[32m/home/jovyan/PlanetaryComputerExamples/personal/satio-pc/satio_pc/\u001b[0m\u001b[32m\u001b[1mextraction.py\u001b[0m\", line \u001b[33m134\u001b[0m, in \u001b[35m_extract_s2_wrapper\u001b[0m\n",
      "    \u001b[1mfn\u001b[0m \u001b[35m\u001b[1m=\u001b[0m \u001b[1mself\u001b[0m\u001b[35m\u001b[1m.\u001b[0m\u001b[1m_extract_s2\u001b[0m\u001b[1m(\u001b[0m\u001b[1m)\u001b[0m\n",
      "    \u001b[36m     │    └ \u001b[0m\u001b[36m\u001b[1m<function S2BlockExtractor._extract_s2 at 0x7f3afad5e160>\u001b[0m\n",
      "    \u001b[36m     └ \u001b[0m\u001b[36m\u001b[1m<satio_pc.extraction.S2BlockExtractor object at 0x7f3af9f80e10>\u001b[0m\n",
      "\n",
      "  File \"\u001b[32m/home/jovyan/PlanetaryComputerExamples/personal/satio-pc/satio_pc/\u001b[0m\u001b[32m\u001b[1mextraction.py\u001b[0m\", line \u001b[33m194\u001b[0m, in \u001b[35m_extract_s2\u001b[0m\n",
      "    \u001b[1ms2_vi\u001b[0m \u001b[35m\u001b[1m=\u001b[0m \u001b[1ms2\u001b[0m\u001b[35m\u001b[1m.\u001b[0m\u001b[1mewc\u001b[0m\u001b[35m\u001b[1m.\u001b[0m\u001b[1mindices\u001b[0m\u001b[1m(\u001b[0m\u001b[1ms2_indices\u001b[0m\u001b[1m)\u001b[0m\n",
      "    \u001b[36m        │  │           └ \u001b[0m\u001b[36m\u001b[1m['ndvi']\u001b[0m\n",
      "    \u001b[36m        │  └ \u001b[0m\u001b[36m\u001b[1m<xarray.core.extensions._CachedAccessor object at 0x7f3af56d1a50>\u001b[0m\n",
      "    \u001b[36m        └ \u001b[0m\u001b[36m\u001b[1m<xarray.DataArray 'setitem-8b5bbf384e962a0f14fc74e53739f786' (time: 35,\u001b[0m\n",
      "    \u001b[36m          \u001b[0m\u001b[36m\u001b[1m                                                     ...\u001b[0m\n",
      "\n",
      "  File \"\u001b[32m/home/jovyan/PlanetaryComputerExamples/personal/satio-pc/satio_pc/\u001b[0m\u001b[32m\u001b[1mextension.py\u001b[0m\", line \u001b[33m68\u001b[0m, in \u001b[35mindices\u001b[0m\n",
      "    \u001b[35m\u001b[1mreturn\u001b[0m \u001b[1mrsi_ts\u001b[0m\u001b[1m(\u001b[0m\u001b[1mself\u001b[0m\u001b[35m\u001b[1m.\u001b[0m\u001b[1m_obj\u001b[0m\u001b[1m,\u001b[0m \u001b[1mindices\u001b[0m\u001b[1m,\u001b[0m \u001b[1mclip\u001b[0m\u001b[1m,\u001b[0m \u001b[1mrsi_meta\u001b[0m\u001b[35m\u001b[1m=\u001b[0m\u001b[1mrsi_meta\u001b[0m\u001b[1m)\u001b[0m\n",
      "    \u001b[36m       │      │    │     │        │              └ \u001b[0m\u001b[36m\u001b[1mNone\u001b[0m\n",
      "    \u001b[36m       │      │    │     │        └ \u001b[0m\u001b[36m\u001b[1mTrue\u001b[0m\n",
      "    \u001b[36m       │      │    │     └ \u001b[0m\u001b[36m\u001b[1m['ndvi']\u001b[0m\n",
      "    \u001b[36m       │      │    └ \u001b[0m\u001b[36m\u001b[1m<xarray.DataArray 'setitem-8b5bbf384e962a0f14fc74e53739f786' (time: 35,\u001b[0m\n",
      "    \u001b[36m       │      │      \u001b[0m\u001b[36m\u001b[1m                                                     ...\u001b[0m\n",
      "    \u001b[36m       │      └ \u001b[0m\u001b[36m\u001b[1m<satio_pc.extension.ESAWorldCoverTimeSeries object at 0x7f3aef750dd0>\u001b[0m\n",
      "    \u001b[36m       └ \u001b[0m\u001b[36m\u001b[1m<function rsi_ts at 0x7f3b05beee80>\u001b[0m\n",
      "\n",
      "  File \"\u001b[32m/home/jovyan/PlanetaryComputerExamples/personal/satio-pc/satio_pc/indices/\u001b[0m\u001b[32m\u001b[1m__init__.py\u001b[0m\", line \u001b[33m401\u001b[0m, in \u001b[35mrsi_ts\u001b[0m\n",
      "    \u001b[1mnew_darr\u001b[0m \u001b[35m\u001b[1m=\u001b[0m \u001b[1mxr\u001b[0m\u001b[35m\u001b[1m.\u001b[0m\u001b[1mDataArray\u001b[0m\u001b[1m(\u001b[0m\u001b[1mnew_ts\u001b[0m\u001b[1m,\u001b[0m\n",
      "    \u001b[36m           │  │         └ \u001b[0m\u001b[36m\u001b[1mdask.array<_rsi_chunk, shape=(35, 10, 1024, 1024), dtype=float32, chunksize=(1, 1, 1024, 1024), chunktype=numpy.ndarray>\u001b[0m\n",
      "    \u001b[36m           │  └ \u001b[0m\u001b[36m\u001b[1m<class 'xarray.core.dataarray.DataArray'>\u001b[0m\n",
      "    \u001b[36m           └ \u001b[0m\u001b[36m\u001b[1m<module 'xarray' from '/srv/conda/envs/notebook/lib/python3.11/site-packages/xarray/__init__.py'>\u001b[0m\n",
      "\n",
      "  File \"/srv/conda/envs/notebook/lib/python3.11/site-packages/xarray/core/dataarray.py\", line 422, in __init__\n",
      "    coords, dims = _infer_coords_and_dims(data.shape, coords, dims)\n",
      "    │              │                      │    │      │       └ ('time', 'band', 'y', 'x')\n",
      "    │              │                      │    │      └ {'time': <xarray.DataArray 'time' (time: 35)>\n",
      "    │              │                      │    │        array(['2018-01-11T00:00:00.000000000', '2018-01-21T00:00:00.000000000',\n",
      "    │              │                      │    │              ...\n",
      "    │              │                      │    └ <dask.utils.cached_property object at 0x7f3b0ed54210>\n",
      "    │              │                      └ dask.array<_rsi_chunk, shape=(35, 10, 1024, 1024), dtype=float32, chunksize=(1, 1, 1024, 1024), chunktype=numpy.ndarray>\n",
      "    │              └ <function _infer_coords_and_dims at 0x7f3b180ca980>\n",
      "    └ {'time': <xarray.DataArray 'time' (time: 35)>\n",
      "      array(['2018-01-11T00:00:00.000000000', '2018-01-21T00:00:00.000000000',\n",
      "            ...\n",
      "  File \"/srv/conda/envs/notebook/lib/python3.11/site-packages/xarray/core/dataarray.py\", line 168, in _infer_coords_and_dims\n",
      "    raise ValueError(\n",
      "\n",
      "\u001b[31m\u001b[1mValueError\u001b[0m:\u001b[1m conflicting sizes for dimension 'band': length 10 on the data but length 1 on coordinate 'band'\u001b[0m\n",
      "\u001b[32m2023-06-27 09:58:02.962\u001b[0m | \u001b[1mINFO    \u001b[0m | \u001b[36msatio_pc.extraction\u001b[0m:\u001b[36mextract\u001b[0m:\u001b[36m121\u001b[0m - \u001b[1mCleaning up...\u001b[0m\n",
      "\u001b[32m2023-06-27 09:58:02.964\u001b[0m | \u001b[32m\u001b[1mSUCCESS \u001b[0m | \u001b[36msatio_pc.extraction\u001b[0m:\u001b[36mextract\u001b[0m:\u001b[36m124\u001b[0m - \u001b[32m\u001b[1mDone\u001b[0m\n"
     ]
    }
   ],
   "source": [
    "extract_s2(*args[0])"
   ]
  },
  {
   "cell_type": "code",
   "execution_count": null,
   "id": "efabbcad-3ec0-4233-9fbd-fd418d4f27d9",
   "metadata": {},
   "outputs": [],
   "source": []
  }
 ],
 "metadata": {
  "kernelspec": {
   "display_name": "Python 3 (ipykernel)",
   "language": "python",
   "name": "python3"
  },
  "language_info": {
   "codemirror_mode": {
    "name": "ipython",
    "version": 3
   },
   "file_extension": ".py",
   "mimetype": "text/x-python",
   "name": "python",
   "nbconvert_exporter": "python",
   "pygments_lexer": "ipython3",
   "version": "3.11.4"
  }
 },
 "nbformat": 4,
 "nbformat_minor": 5
}
