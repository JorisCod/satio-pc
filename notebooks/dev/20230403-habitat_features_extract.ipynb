{
 "cells": [
  {
   "cell_type": "code",
   "execution_count": null,
   "id": "b75cfff0-bcd4-4875-8395-bf8ad4c1236b",
   "metadata": {},
   "outputs": [],
   "source": []
  },
  {
   "cell_type": "code",
   "execution_count": 1,
   "id": "8e494475-6160-49f8-af6f-b56d06688ba0",
   "metadata": {},
   "outputs": [],
   "source": [
    "import geopandas as gpd\n",
    "from satio_pc.grid import get_blocks_gdf\n",
    "from dask import delayed\n",
    "\n",
    "# from elogs import Elogs, ElogsTask\n",
    "\n",
    "\n",
    "with open('../../../connstr') as f:\n",
    "    connect_str = f.read()\n",
    "\n",
    "# with open('../../../tap') as f:\n",
    "#     aws_access_key_id, aws_secret_access_key = f.read().split('\\n')\n",
    "\n",
    "\n",
    "tiles = '29TPJ, 29TQJ, 30TUP, 30TVP, 29TPH, 29TQH, 30TUN, 30TVN, 29TPG'.split(', ')\n",
    "\n",
    "aoi_fn = '../../../habitat_mapping_aoi.gpkg'\n",
    "aoi = gpd.read_file(aoi_fn).to_crs(epsg=4326)\n",
    "\n",
    "blocks_gdf = get_blocks_gdf(tiles)\n",
    "blocks_gdf = gpd.sjoin(blocks_gdf, aoi[['geometry']])\n"
   ]
  },
  {
   "cell_type": "code",
   "execution_count": 2,
   "id": "30579a66-8d32-4e55-b80f-5dad15ba683b",
   "metadata": {},
   "outputs": [],
   "source": [
    "from satio_pc.utils.azure import AzureBlobReader"
   ]
  },
  {
   "cell_type": "code",
   "execution_count": 3,
   "id": "48fae482-da4f-48d3-a100-e2bf18f6caff",
   "metadata": {},
   "outputs": [],
   "source": [
    "az = AzureBlobReader(connect_str, 'habitat')"
   ]
  },
  {
   "cell_type": "code",
   "execution_count": 4,
   "id": "417602a6-3b54-49e9-989c-7781ad3c9c5e",
   "metadata": {},
   "outputs": [
    {
     "data": {
      "text/plain": [
       "[]"
      ]
     },
     "execution_count": 4,
     "metadata": {},
     "output_type": "execute_result"
    }
   ],
   "source": [
    "az.list_files()"
   ]
  },
  {
   "cell_type": "code",
   "execution_count": null,
   "id": "c166a0f8-6fde-4cff-8cb3-8bd7730ea1f6",
   "metadata": {},
   "outputs": [],
   "source": []
  },
  {
   "cell_type": "code",
   "execution_count": 2,
   "id": "482b4ab0-8ba7-4209-904a-2879c50f68bf",
   "metadata": {},
   "outputs": [
    {
     "data": {
      "text/html": [
       "<div>\n",
       "<style scoped>\n",
       "    .dataframe tbody tr th:only-of-type {\n",
       "        vertical-align: middle;\n",
       "    }\n",
       "\n",
       "    .dataframe tbody tr th {\n",
       "        vertical-align: top;\n",
       "    }\n",
       "\n",
       "    .dataframe thead th {\n",
       "        text-align: right;\n",
       "    }\n",
       "</style>\n",
       "<table border=\"1\" class=\"dataframe\">\n",
       "  <thead>\n",
       "    <tr style=\"text-align: right;\">\n",
       "      <th></th>\n",
       "      <th>tile</th>\n",
       "      <th>bounds</th>\n",
       "      <th>geometry</th>\n",
       "      <th>area</th>\n",
       "      <th>epsg</th>\n",
       "      <th>block_id</th>\n",
       "      <th>index_right</th>\n",
       "    </tr>\n",
       "  </thead>\n",
       "  <tbody>\n",
       "    <tr>\n",
       "      <th>71</th>\n",
       "      <td>29TPJ</td>\n",
       "      <td>(651200, 4828340, 661440, 4838580)</td>\n",
       "      <td>POLYGON ((-7.12689 43.59269, -7.12402 43.68484...</td>\n",
       "      <td>104857600.0</td>\n",
       "      <td>32629</td>\n",
       "      <td>71</td>\n",
       "      <td>0</td>\n",
       "    </tr>\n",
       "    <tr>\n",
       "      <th>72</th>\n",
       "      <td>29TPJ</td>\n",
       "      <td>(661440, 4828340, 671680, 4838580)</td>\n",
       "      <td>POLYGON ((-7.00011 43.59054, -6.99705 43.68269...</td>\n",
       "      <td>104857600.0</td>\n",
       "      <td>32629</td>\n",
       "      <td>72</td>\n",
       "      <td>0</td>\n",
       "    </tr>\n",
       "    <tr>\n",
       "      <th>73</th>\n",
       "      <td>29TPJ</td>\n",
       "      <td>(671680, 4828340, 681920, 4838580)</td>\n",
       "      <td>POLYGON ((-6.87334 43.58825, -6.87008 43.68039...</td>\n",
       "      <td>104857600.0</td>\n",
       "      <td>32629</td>\n",
       "      <td>73</td>\n",
       "      <td>0</td>\n",
       "    </tr>\n",
       "    <tr>\n",
       "      <th>74</th>\n",
       "      <td>29TPJ</td>\n",
       "      <td>(681920, 4828340, 692160, 4838580)</td>\n",
       "      <td>POLYGON ((-6.74658 43.58582, -6.74314 43.67795...</td>\n",
       "      <td>104857600.0</td>\n",
       "      <td>32629</td>\n",
       "      <td>74</td>\n",
       "      <td>0</td>\n",
       "    </tr>\n",
       "    <tr>\n",
       "      <th>75</th>\n",
       "      <td>29TPJ</td>\n",
       "      <td>(692160, 4828340, 702400, 4838580)</td>\n",
       "      <td>POLYGON ((-6.61985 43.58325, -6.61621 43.67538...</td>\n",
       "      <td>104857600.0</td>\n",
       "      <td>32629</td>\n",
       "      <td>75</td>\n",
       "      <td>0</td>\n",
       "    </tr>\n",
       "    <tr>\n",
       "      <th>...</th>\n",
       "      <td>...</td>\n",
       "      <td>...</td>\n",
       "      <td>...</td>\n",
       "      <td>...</td>\n",
       "      <td>...</td>\n",
       "      <td>...</td>\n",
       "      <td>...</td>\n",
       "    </tr>\n",
       "    <tr>\n",
       "      <th>1015</th>\n",
       "      <td>29TPG</td>\n",
       "      <td>(630720, 4648840, 640960, 4659080)</td>\n",
       "      <td>POLYGON ((-7.42209 41.98072, -7.41981 42.07292...</td>\n",
       "      <td>104857600.0</td>\n",
       "      <td>32629</td>\n",
       "      <td>47</td>\n",
       "      <td>0</td>\n",
       "    </tr>\n",
       "    <tr>\n",
       "      <th>1016</th>\n",
       "      <td>29TPG</td>\n",
       "      <td>(640960, 4648840, 651200, 4659080)</td>\n",
       "      <td>POLYGON ((-7.29853 41.97896, -7.29607 42.07114...</td>\n",
       "      <td>104857600.0</td>\n",
       "      <td>32629</td>\n",
       "      <td>48</td>\n",
       "      <td>0</td>\n",
       "    </tr>\n",
       "    <tr>\n",
       "      <th>1017</th>\n",
       "      <td>29TPG</td>\n",
       "      <td>(651200, 4648840, 661440, 4659080)</td>\n",
       "      <td>POLYGON ((-7.17499 41.97706, -7.17235 42.06924...</td>\n",
       "      <td>104857600.0</td>\n",
       "      <td>32629</td>\n",
       "      <td>49</td>\n",
       "      <td>0</td>\n",
       "    </tr>\n",
       "    <tr>\n",
       "      <th>1018</th>\n",
       "      <td>29TPG</td>\n",
       "      <td>(661440, 4648840, 671680, 4659080)</td>\n",
       "      <td>POLYGON ((-7.05146 41.97503, -7.04864 42.06720...</td>\n",
       "      <td>104857600.0</td>\n",
       "      <td>32629</td>\n",
       "      <td>50</td>\n",
       "      <td>0</td>\n",
       "    </tr>\n",
       "    <tr>\n",
       "      <th>1019</th>\n",
       "      <td>29TPG</td>\n",
       "      <td>(671680, 4648840, 681920, 4659080)</td>\n",
       "      <td>POLYGON ((-6.92794 41.97286, -6.92494 42.06503...</td>\n",
       "      <td>104857600.0</td>\n",
       "      <td>32629</td>\n",
       "      <td>51</td>\n",
       "      <td>0</td>\n",
       "    </tr>\n",
       "  </tbody>\n",
       "</table>\n",
       "<p>597 rows × 7 columns</p>\n",
       "</div>"
      ],
      "text/plain": [
       "       tile                              bounds  \\\n",
       "71    29TPJ  (651200, 4828340, 661440, 4838580)   \n",
       "72    29TPJ  (661440, 4828340, 671680, 4838580)   \n",
       "73    29TPJ  (671680, 4828340, 681920, 4838580)   \n",
       "74    29TPJ  (681920, 4828340, 692160, 4838580)   \n",
       "75    29TPJ  (692160, 4828340, 702400, 4838580)   \n",
       "...     ...                                 ...   \n",
       "1015  29TPG  (630720, 4648840, 640960, 4659080)   \n",
       "1016  29TPG  (640960, 4648840, 651200, 4659080)   \n",
       "1017  29TPG  (651200, 4648840, 661440, 4659080)   \n",
       "1018  29TPG  (661440, 4648840, 671680, 4659080)   \n",
       "1019  29TPG  (671680, 4648840, 681920, 4659080)   \n",
       "\n",
       "                                               geometry         area   epsg  \\\n",
       "71    POLYGON ((-7.12689 43.59269, -7.12402 43.68484...  104857600.0  32629   \n",
       "72    POLYGON ((-7.00011 43.59054, -6.99705 43.68269...  104857600.0  32629   \n",
       "73    POLYGON ((-6.87334 43.58825, -6.87008 43.68039...  104857600.0  32629   \n",
       "74    POLYGON ((-6.74658 43.58582, -6.74314 43.67795...  104857600.0  32629   \n",
       "75    POLYGON ((-6.61985 43.58325, -6.61621 43.67538...  104857600.0  32629   \n",
       "...                                                 ...          ...    ...   \n",
       "1015  POLYGON ((-7.42209 41.98072, -7.41981 42.07292...  104857600.0  32629   \n",
       "1016  POLYGON ((-7.29853 41.97896, -7.29607 42.07114...  104857600.0  32629   \n",
       "1017  POLYGON ((-7.17499 41.97706, -7.17235 42.06924...  104857600.0  32629   \n",
       "1018  POLYGON ((-7.05146 41.97503, -7.04864 42.06720...  104857600.0  32629   \n",
       "1019  POLYGON ((-6.92794 41.97286, -6.92494 42.06503...  104857600.0  32629   \n",
       "\n",
       "      block_id  index_right  \n",
       "71          71            0  \n",
       "72          72            0  \n",
       "73          73            0  \n",
       "74          74            0  \n",
       "75          75            0  \n",
       "...        ...          ...  \n",
       "1015        47            0  \n",
       "1016        48            0  \n",
       "1017        49            0  \n",
       "1018        50            0  \n",
       "1019        51            0  \n",
       "\n",
       "[597 rows x 7 columns]"
      ]
     },
     "execution_count": 2,
     "metadata": {},
     "output_type": "execute_result"
    }
   ],
   "source": [
    "blocks_gdf"
   ]
  },
  {
   "cell_type": "markdown",
   "id": "a291bb75-e988-4020-9fe2-ce7be737be1f",
   "metadata": {},
   "source": [
    "# Cluster setup"
   ]
  },
  {
   "cell_type": "code",
   "execution_count": 13,
   "id": "00a03365-2e12-483d-b9f7-8691169ab73d",
   "metadata": {},
   "outputs": [
    {
     "name": "stdout",
     "output_type": "stream",
     "text": [
      "https://pccompute.westeurope.cloudapp.azure.com/compute/services/dask-gateway/clusters/prod.9db104eecc814d1b84db56d23958acbc/status\n"
     ]
    }
   ],
   "source": [
    "from dask.distributed import PipInstall\n",
    "import dask_gateway\n",
    "\n",
    "cluster = dask_gateway.GatewayCluster()\n",
    "client = cluster.get_client()\n",
    "# cluster.adapt(minimum=1, maximum=100)\n",
    "cluster.scale(10)\n",
    "\n",
    "# plugin = PipInstall(packages=[\"git+https://github.com/dzanaga/satio-pc/tree/main/satio_pc\"], pip_options=[\"--upgrade\"])\n",
    "# client.register_worker_plugin(plugin)\n",
    "satio_pc_url = \"git+https://github.com/dzanaga/satio-pc.git@main\"\n",
    "elogs_url = \"http://s3-eu-central-1.amazonaws.com/vito-worldcover-public/wheels/elogs-0.1.5-py3-none-any.whl\"\n",
    "plugin = PipInstall(packages=[satio_pc_url,\n",
    "                              elogs_url])\n",
    "client.register_worker_plugin(plugin)\n",
    "\n",
    "print(client.dashboard_link)"
   ]
  },
  {
   "cell_type": "code",
   "execution_count": 15,
   "id": "837e89ea-9d6f-490f-a4f6-80d28485340b",
   "metadata": {},
   "outputs": [
    {
     "data": {
      "text/plain": [
       "{'tls://10.244.120.22:33973': {'status': 'OK'},\n",
       " 'tls://10.244.135.169:46471': {'status': 'OK'},\n",
       " 'tls://10.244.211.204:40663': {'status': 'OK'},\n",
       " 'tls://10.244.237.22:37921': {'status': 'OK'},\n",
       " 'tls://10.244.30.23:34981': {'status': 'OK'},\n",
       " 'tls://10.244.69.51:36711': {'status': 'OK'},\n",
       " 'tls://10.244.69.52:43757': {'status': 'OK'},\n",
       " 'tls://10.244.69.53:40323': {'status': 'OK'},\n",
       " 'tls://10.244.69.54:39871': {'status': 'OK'},\n",
       " 'tls://10.244.73.47:43783': {'status': 'OK'}}"
      ]
     },
     "execution_count": 15,
     "metadata": {},
     "output_type": "execute_result"
    }
   ],
   "source": [
    "client.upload_file('s2feats.py')"
   ]
  },
  {
   "cell_type": "code",
   "execution_count": 3,
   "id": "2ab1e0d8-f5f9-45c5-908c-0d11cfd7f5be",
   "metadata": {},
   "outputs": [],
   "source": [
    "# !pip uninstall elogs -y"
   ]
  },
  {
   "cell_type": "code",
   "execution_count": 4,
   "id": "5abe0c4b-1113-46e5-b570-f52275c1a0c7",
   "metadata": {},
   "outputs": [],
   "source": [
    "!pip install \"http://s3-eu-central-1.amazonaws.com/vito-worldcover-public/wheels/elogs-0.1.5-py3-none-any.whl\""
   ]
  },
  {
   "cell_type": "markdown",
   "id": "5d001eed-5d3f-41aa-a622-bfcef1b3dec4",
   "metadata": {
    "tags": []
   },
   "source": [
    "# L2A Features"
   ]
  },
  {
   "cell_type": "code",
   "execution_count": 4,
   "id": "7029ad5d-bce8-42e7-ad58-b5fa865de9c0",
   "metadata": {},
   "outputs": [
    {
     "ename": "NameError",
     "evalue": "name 'Elogs' is not defined",
     "output_type": "error",
     "traceback": [
      "\u001b[0;31m---------------------------------------------------------------------------\u001b[0m",
      "\u001b[0;31mNameError\u001b[0m                                 Traceback (most recent call last)",
      "Cell \u001b[0;32mIn [4], line 5\u001b[0m\n\u001b[1;32m      2\u001b[0m os\u001b[38;5;241m.\u001b[39menviron[\u001b[38;5;124m'\u001b[39m\u001b[38;5;124mAWS_DEFAULT_REGION\u001b[39m\u001b[38;5;124m'\u001b[39m] \u001b[38;5;241m=\u001b[39m \u001b[38;5;124m'\u001b[39m\u001b[38;5;124meu-central-1\u001b[39m\u001b[38;5;124m'\u001b[39m\n\u001b[1;32m      4\u001b[0m app_id \u001b[38;5;241m=\u001b[39m (\u001b[38;5;124mf\u001b[39m\u001b[38;5;124m'\u001b[39m\u001b[38;5;124mhabitat_s2\u001b[39m\u001b[38;5;124m'\u001b[39m)\n\u001b[0;32m----> 5\u001b[0m elogs \u001b[38;5;241m=\u001b[39m \u001b[43mElogs\u001b[49m(app_id,\n\u001b[1;32m      6\u001b[0m               aws_access_key_id,\n\u001b[1;32m      7\u001b[0m               aws_secret_access_key,\n\u001b[1;32m      8\u001b[0m               logs_bucket\u001b[38;5;241m=\u001b[39m\u001b[38;5;124m'\u001b[39m\u001b[38;5;124mvito-worldcover\u001b[39m\u001b[38;5;124m'\u001b[39m,\n\u001b[1;32m      9\u001b[0m               overwrite_table\u001b[38;5;241m=\u001b[39m\u001b[38;5;28;01mTrue\u001b[39;00m)\n",
      "\u001b[0;31mNameError\u001b[0m: name 'Elogs' is not defined"
     ]
    }
   ],
   "source": [
    "import os\n",
    "os.environ['AWS_DEFAULT_REGION'] = 'eu-central-1'\n",
    "\n",
    "app_id = (f'habitat_s2')\n",
    "elogs = Elogs(app_id,\n",
    "              aws_access_key_id,\n",
    "              aws_secret_access_key,\n",
    "              logs_bucket='vito-worldcover',\n",
    "              overwrite_table=True)"
   ]
  },
  {
   "cell_type": "code",
   "execution_count": 10,
   "id": "c3ef42d0-1ed6-4f68-80d2-779575d4e915",
   "metadata": {},
   "outputs": [],
   "source": [
    "import dask\n",
    "\n",
    "blocks_gdf['cid'] = blocks_gdf.tile + '_' + blocks_gdf.block_id.astype(str)\n",
    "\n",
    "sensor = 'l2a'\n",
    "container_name = 'habitattest'\n",
    "\n",
    "tasks = [ElogsTask(block.cid, block, year)\n",
    "         for block in blocks_gdf.iloc[:3].itertuples()\n",
    "         for year in (2017, 2018, 2019, 2020, 2021, 2022)]\n",
    "\n",
    "with elogs.start(tasks) as filtered_tasks:\n",
    "    futures = client.map(extract_s2_features, tasks,\n",
    "                         resources={'processes': 4})\n",
    "    results = dask.compute(*futures)"
   ]
  },
  {
   "cell_type": "code",
   "execution_count": 4,
   "id": "6d50dccf-af72-4ae7-99ab-e034c3f4bfe1",
   "metadata": {},
   "outputs": [],
   "source": [
    "blocks = list(blocks_gdf.iloc[:3].itertuples())"
   ]
  },
  {
   "cell_type": "code",
   "execution_count": 16,
   "id": "ff5bd387-eeca-479f-9138-d676c19c1dbe",
   "metadata": {},
   "outputs": [],
   "source": [
    "import dask\n",
    "import subprocess\n",
    "\n",
    "# @delayed\n",
    "def process(block):\n",
    "    year = 2022\n",
    "    cmd = f\"python s2feats.py {block.tile} {block.block_id} {year}\"\n",
    "    p = subprocess.run(cmd.split())\n",
    "    return p.returncode\n",
    "\n",
    "blocks = list(blocks_gdf.iloc[:3].itertuples())\n",
    "\n",
    "futures = client.map(process, blocks, resources={'process': 1})\n",
    "# futures = [process(block) for block in blocks]\n",
    "# results = dask.compute(*futures)\n"
   ]
  },
  {
   "cell_type": "code",
   "execution_count": 18,
   "id": "57f72ee4-1df9-464b-becd-dc44e96e6c1e",
   "metadata": {},
   "outputs": [
    {
     "ename": "KeyboardInterrupt",
     "evalue": "",
     "output_type": "error",
     "traceback": [
      "\u001b[0;31m---------------------------------------------------------------------------\u001b[0m",
      "\u001b[0;31mKeyboardInterrupt\u001b[0m                         Traceback (most recent call last)",
      "Cell \u001b[0;32mIn [18], line 1\u001b[0m\n\u001b[0;32m----> 1\u001b[0m results \u001b[38;5;241m=\u001b[39m \u001b[43mclient\u001b[49m\u001b[38;5;241;43m.\u001b[39;49m\u001b[43mgather\u001b[49m\u001b[43m(\u001b[49m\u001b[38;5;241;43m*\u001b[39;49m\u001b[43mfutures\u001b[49m\u001b[43m)\u001b[49m\n",
      "File \u001b[0;32m/srv/conda/envs/notebook/lib/python3.10/site-packages/distributed/client.py:2210\u001b[0m, in \u001b[0;36mClient.gather\u001b[0;34m(self, futures, errors, direct, asynchronous)\u001b[0m\n\u001b[1;32m   2208\u001b[0m \u001b[38;5;28;01melse\u001b[39;00m:\n\u001b[1;32m   2209\u001b[0m     local_worker \u001b[38;5;241m=\u001b[39m \u001b[38;5;28;01mNone\u001b[39;00m\n\u001b[0;32m-> 2210\u001b[0m \u001b[38;5;28;01mreturn\u001b[39;00m \u001b[38;5;28;43mself\u001b[39;49m\u001b[38;5;241;43m.\u001b[39;49m\u001b[43msync\u001b[49m\u001b[43m(\u001b[49m\n\u001b[1;32m   2211\u001b[0m \u001b[43m    \u001b[49m\u001b[38;5;28;43mself\u001b[39;49m\u001b[38;5;241;43m.\u001b[39;49m\u001b[43m_gather\u001b[49m\u001b[43m,\u001b[49m\n\u001b[1;32m   2212\u001b[0m \u001b[43m    \u001b[49m\u001b[43mfutures\u001b[49m\u001b[43m,\u001b[49m\n\u001b[1;32m   2213\u001b[0m \u001b[43m    \u001b[49m\u001b[43merrors\u001b[49m\u001b[38;5;241;43m=\u001b[39;49m\u001b[43merrors\u001b[49m\u001b[43m,\u001b[49m\n\u001b[1;32m   2214\u001b[0m \u001b[43m    \u001b[49m\u001b[43mdirect\u001b[49m\u001b[38;5;241;43m=\u001b[39;49m\u001b[43mdirect\u001b[49m\u001b[43m,\u001b[49m\n\u001b[1;32m   2215\u001b[0m \u001b[43m    \u001b[49m\u001b[43mlocal_worker\u001b[49m\u001b[38;5;241;43m=\u001b[39;49m\u001b[43mlocal_worker\u001b[49m\u001b[43m,\u001b[49m\n\u001b[1;32m   2216\u001b[0m \u001b[43m    \u001b[49m\u001b[43masynchronous\u001b[49m\u001b[38;5;241;43m=\u001b[39;49m\u001b[43masynchronous\u001b[49m\u001b[43m,\u001b[49m\n\u001b[1;32m   2217\u001b[0m \u001b[43m\u001b[49m\u001b[43m)\u001b[49m\n",
      "File \u001b[0;32m/srv/conda/envs/notebook/lib/python3.10/site-packages/distributed/utils.py:338\u001b[0m, in \u001b[0;36mSyncMethodMixin.sync\u001b[0;34m(self, func, asynchronous, callback_timeout, *args, **kwargs)\u001b[0m\n\u001b[1;32m    336\u001b[0m     \u001b[38;5;28;01mreturn\u001b[39;00m future\n\u001b[1;32m    337\u001b[0m \u001b[38;5;28;01melse\u001b[39;00m:\n\u001b[0;32m--> 338\u001b[0m     \u001b[38;5;28;01mreturn\u001b[39;00m \u001b[43msync\u001b[49m\u001b[43m(\u001b[49m\n\u001b[1;32m    339\u001b[0m \u001b[43m        \u001b[49m\u001b[38;5;28;43mself\u001b[39;49m\u001b[38;5;241;43m.\u001b[39;49m\u001b[43mloop\u001b[49m\u001b[43m,\u001b[49m\u001b[43m \u001b[49m\u001b[43mfunc\u001b[49m\u001b[43m,\u001b[49m\u001b[43m \u001b[49m\u001b[38;5;241;43m*\u001b[39;49m\u001b[43margs\u001b[49m\u001b[43m,\u001b[49m\u001b[43m \u001b[49m\u001b[43mcallback_timeout\u001b[49m\u001b[38;5;241;43m=\u001b[39;49m\u001b[43mcallback_timeout\u001b[49m\u001b[43m,\u001b[49m\u001b[43m \u001b[49m\u001b[38;5;241;43m*\u001b[39;49m\u001b[38;5;241;43m*\u001b[39;49m\u001b[43mkwargs\u001b[49m\n\u001b[1;32m    340\u001b[0m \u001b[43m    \u001b[49m\u001b[43m)\u001b[49m\n",
      "File \u001b[0;32m/srv/conda/envs/notebook/lib/python3.10/site-packages/distributed/utils.py:401\u001b[0m, in \u001b[0;36msync\u001b[0;34m(loop, func, callback_timeout, *args, **kwargs)\u001b[0m\n\u001b[1;32m    399\u001b[0m \u001b[38;5;28;01melse\u001b[39;00m:\n\u001b[1;32m    400\u001b[0m     \u001b[38;5;28;01mwhile\u001b[39;00m \u001b[38;5;129;01mnot\u001b[39;00m e\u001b[38;5;241m.\u001b[39mis_set():\n\u001b[0;32m--> 401\u001b[0m         \u001b[43mwait\u001b[49m\u001b[43m(\u001b[49m\u001b[38;5;241;43m10\u001b[39;49m\u001b[43m)\u001b[49m\n\u001b[1;32m    403\u001b[0m \u001b[38;5;28;01mif\u001b[39;00m error:\n\u001b[1;32m    404\u001b[0m     typ, exc, tb \u001b[38;5;241m=\u001b[39m error\n",
      "File \u001b[0;32m/srv/conda/envs/notebook/lib/python3.10/site-packages/distributed/utils.py:390\u001b[0m, in \u001b[0;36msync.<locals>.wait\u001b[0;34m(timeout)\u001b[0m\n\u001b[1;32m    388\u001b[0m \u001b[38;5;28;01mdef\u001b[39;00m \u001b[38;5;21mwait\u001b[39m(timeout):\n\u001b[1;32m    389\u001b[0m     \u001b[38;5;28;01mtry\u001b[39;00m:\n\u001b[0;32m--> 390\u001b[0m         \u001b[38;5;28;01mreturn\u001b[39;00m \u001b[43me\u001b[49m\u001b[38;5;241;43m.\u001b[39;49m\u001b[43mwait\u001b[49m\u001b[43m(\u001b[49m\u001b[43mtimeout\u001b[49m\u001b[43m)\u001b[49m\n\u001b[1;32m    391\u001b[0m     \u001b[38;5;28;01mexcept\u001b[39;00m \u001b[38;5;167;01mKeyboardInterrupt\u001b[39;00m:\n\u001b[1;32m    392\u001b[0m         loop\u001b[38;5;241m.\u001b[39madd_callback(cancel)\n",
      "File \u001b[0;32m/srv/conda/envs/notebook/lib/python3.10/threading.py:607\u001b[0m, in \u001b[0;36mEvent.wait\u001b[0;34m(self, timeout)\u001b[0m\n\u001b[1;32m    605\u001b[0m signaled \u001b[38;5;241m=\u001b[39m \u001b[38;5;28mself\u001b[39m\u001b[38;5;241m.\u001b[39m_flag\n\u001b[1;32m    606\u001b[0m \u001b[38;5;28;01mif\u001b[39;00m \u001b[38;5;129;01mnot\u001b[39;00m signaled:\n\u001b[0;32m--> 607\u001b[0m     signaled \u001b[38;5;241m=\u001b[39m \u001b[38;5;28;43mself\u001b[39;49m\u001b[38;5;241;43m.\u001b[39;49m\u001b[43m_cond\u001b[49m\u001b[38;5;241;43m.\u001b[39;49m\u001b[43mwait\u001b[49m\u001b[43m(\u001b[49m\u001b[43mtimeout\u001b[49m\u001b[43m)\u001b[49m\n\u001b[1;32m    608\u001b[0m \u001b[38;5;28;01mreturn\u001b[39;00m signaled\n",
      "File \u001b[0;32m/srv/conda/envs/notebook/lib/python3.10/threading.py:324\u001b[0m, in \u001b[0;36mCondition.wait\u001b[0;34m(self, timeout)\u001b[0m\n\u001b[1;32m    322\u001b[0m \u001b[38;5;28;01melse\u001b[39;00m:\n\u001b[1;32m    323\u001b[0m     \u001b[38;5;28;01mif\u001b[39;00m timeout \u001b[38;5;241m>\u001b[39m \u001b[38;5;241m0\u001b[39m:\n\u001b[0;32m--> 324\u001b[0m         gotit \u001b[38;5;241m=\u001b[39m \u001b[43mwaiter\u001b[49m\u001b[38;5;241;43m.\u001b[39;49m\u001b[43macquire\u001b[49m\u001b[43m(\u001b[49m\u001b[38;5;28;43;01mTrue\u001b[39;49;00m\u001b[43m,\u001b[49m\u001b[43m \u001b[49m\u001b[43mtimeout\u001b[49m\u001b[43m)\u001b[49m\n\u001b[1;32m    325\u001b[0m     \u001b[38;5;28;01melse\u001b[39;00m:\n\u001b[1;32m    326\u001b[0m         gotit \u001b[38;5;241m=\u001b[39m waiter\u001b[38;5;241m.\u001b[39macquire(\u001b[38;5;28;01mFalse\u001b[39;00m)\n",
      "\u001b[0;31mKeyboardInterrupt\u001b[0m: "
     ]
    }
   ],
   "source": [
    "results = client.gather(*futures)"
   ]
  },
  {
   "cell_type": "code",
   "execution_count": null,
   "id": "49c0c408-6fab-4337-8aee-7482067e3f31",
   "metadata": {},
   "outputs": [],
   "source": []
  },
  {
   "cell_type": "code",
   "execution_count": 10,
   "id": "84e95983-17a9-4c58-b1be-c01cac2ed15f",
   "metadata": {},
   "outputs": [
    {
     "data": {
      "text/html": [
       "<strong>Future: process</strong>\n",
       "<span style=\"color: var(--jp-ui-font-color2, gray)\"> status: </span>\n",
       "\n",
       "\n",
       "<span style=\"color: var(--jp-error-color0, black)\">pending</span>,\n",
       "\n",
       "\n",
       "\n",
       "<span style=\"color: var(--jp-ui-font-color2, gray)\"> type:</span> NoneType,\n",
       "\n",
       "\n",
       "<span style=\"color: var(--jp-ui-font-color2, gray)\"> key:</span> process-0f0dc53777fc7586b3bedb43c369bf2e"
      ],
      "text/plain": [
       "<Future: pending, key: process-0f0dc53777fc7586b3bedb43c369bf2e>"
      ]
     },
     "execution_count": 10,
     "metadata": {},
     "output_type": "execute_result"
    }
   ],
   "source": [
    "results[0]"
   ]
  },
  {
   "cell_type": "code",
   "execution_count": 10,
   "id": "a59993ef-7f4a-4e2d-b383-4b25b9cf17af",
   "metadata": {},
   "outputs": [
    {
     "data": {
      "text/html": [
       "<strong>Future: process</strong>\n",
       "<span style=\"color: var(--jp-ui-font-color2, gray)\"> status: </span>\n",
       "\n",
       "\n",
       "<span style=\"color: var(--jp-error-color0, black)\">pending</span>,\n",
       "\n",
       "\n",
       "\n",
       "<span style=\"color: var(--jp-ui-font-color2, gray)\"> type:</span> NoneType,\n",
       "\n",
       "\n",
       "<span style=\"color: var(--jp-ui-font-color2, gray)\"> key:</span> process-b3836ba7-1b85-43db-b226-63e736aeb5d9"
      ],
      "text/plain": [
       "<Future: pending, key: process-b3836ba7-1b85-43db-b226-63e736aeb5d9>"
      ]
     },
     "execution_count": 10,
     "metadata": {},
     "output_type": "execute_result"
    }
   ],
   "source": [
    "client.compute(results[0])"
   ]
  },
  {
   "cell_type": "code",
   "execution_count": 11,
   "id": "2140ed8d-4f09-4383-9958-5f7b650eddd9",
   "metadata": {},
   "outputs": [
    {
     "data": {
      "text/plain": [
       "dict_items([('tls://10.244.125.10:40821', ('process-6c1b0516-3cac-4b16-922b-48901fe1c7e8',)), ('tls://10.244.125.7:41765', ()), ('tls://10.244.125.8:40949', ('process-75a5eb70-3a61-499e-82dd-28399d86bb62',)), ('tls://10.244.125.9:34319', ('process-b3836ba7-1b85-43db-b226-63e736aeb5d9',)), ('tls://10.244.66.98:33573', ('process-d09fa4c6-6201-4925-9df7-b394dc5792e2',)), ('tls://10.244.70.89:33237', ())])"
      ]
     },
     "execution_count": 11,
     "metadata": {},
     "output_type": "execute_result"
    }
   ],
   "source": [
    "client.has_what().items()"
   ]
  },
  {
   "cell_type": "code",
   "execution_count": 10,
   "id": "f24e2218-2b2b-4533-874b-733d30be436c",
   "metadata": {},
   "outputs": [],
   "source": [
    "results = dask.compute(*futures)"
   ]
  },
  {
   "cell_type": "code",
   "execution_count": 19,
   "id": "1c5bd773-9b3f-49ab-bdfc-38086ea0ebc1",
   "metadata": {},
   "outputs": [
    {
     "name": "stderr",
     "output_type": "stream",
     "text": [
      "/srv/conda/envs/notebook/lib/python3.10/site-packages/dask_gateway/client.py:1014: RuntimeWarning: coroutine 'rpc.close_rpc' was never awaited\n",
      "  self.scheduler_comm.close_rpc()\n",
      "RuntimeWarning: Enable tracemalloc to get the object allocation traceback\n"
     ]
    }
   ],
   "source": [
    "cluster.shutdown()"
   ]
  },
  {
   "cell_type": "code",
   "execution_count": 9,
   "id": "d6e02f20-b571-4a06-b8ce-633a090377e2",
   "metadata": {},
   "outputs": [
    {
     "name": "stdout",
     "output_type": "stream",
     "text": [
      "Deleting blob: ewc_29TPJ_071/satio-features-s2_29TPJ_071.tif\n",
      "Deleting blob: ewc_29TPJ_072/satio-features-s2_29TPJ_072_2021.tif\n",
      "Deleting blob: ewc_29TPJ_073/PROC_29TPJ_073.log\n",
      "Deleting blob: ewc_29TPJ_073/satio-features-s2_29TPJ_073_2021.tif\n",
      "Deleting blob: ewc_29TPJ_074/PROC_29TPJ_074.log\n",
      "Deleting blob: ewc_29TPJ_074/satio-features-s2_29TPJ_074_2021.tif\n",
      "Deleting blob: satio-features-s2_29TPJ_071.tif\n",
      "Deleting blob: satio-s2-features_29TQH_004.tif\n"
     ]
    }
   ],
   "source": [
    "from azure.storage.blob import BlobServiceClient\n",
    "\n",
    "# Replace with your connection string\n",
    "\n",
    "\n",
    "# Replace with your container name\n",
    "container_name = \"habitattest\"\n",
    "\n",
    "# Initialize the BlobServiceClient\n",
    "blob_service_client = BlobServiceClient.from_connection_string(connect_str)\n",
    "\n",
    "# Get a reference to the container\n",
    "container_client = blob_service_client.get_container_client(container_name)\n",
    "\n",
    "# List blobs in the container\n",
    "blobs = container_client.list_blobs()\n",
    "\n",
    "# Iterate through the blobs and print their names, then delete them\n",
    "for blob in blobs:\n",
    "    print(f\"Deleting blob: {blob.name}\")\n",
    "    container_client.delete_blob(blob.name)"
   ]
  },
  {
   "cell_type": "markdown",
   "id": "6811e1ba-bfd6-4a12-a6e5-2f4ab0d0ff56",
   "metadata": {},
   "source": [
    "# GAMMA0"
   ]
  },
  {
   "cell_type": "code",
   "execution_count": null,
   "id": "9b957cd1-14f7-48bb-9749-9b422b122608",
   "metadata": {},
   "outputs": [],
   "source": [
    "# S1 features\n",
    "s1 = load_gamma0(block.bounds,\n",
    "                 block.epsg,\n",
    "                 start_date,\n",
    "                 end_date)\n",
    "\n",
    "# preprocess s1\n",
    "s1, obs_gamma0 = preprocess_gamma0(s1,\n",
    "                                   start_date,\n",
    "                                   end_date,\n",
    "                                   composite_freq=settings['gamma0']['composite']['freq'], \n",
    "                                   composite_window=settings['gamma0']['composite']['window'],\n",
    "                                   tmpdir=tmpdir.name)\n",
    "\n",
    "s1_indices = [\"vh_vv\", \"rvi\"]\n",
    "\n",
    "s1_vi = s1.ewc.indices(s1_indices)\n",
    "\n",
    "ps = [s.ewc.percentile(q, name_prefix='s1') for s in (s1, s1_vi)]\n",
    "\n",
    "# fix time to same timestamp (only 1) to avoid concat issues (different compositing settings for s2 and s1)\n",
    "for p in ps:\n",
    "    p['time'] = ps[0].time\n",
    "    \n",
    "obs_gamma0 = np.expand_dims(np.squeeze(obs_gamma0), (0, 1))\n",
    "obs_gamma0 = ps[0].isel(band=0).copy(data=obs_gamma0)\n",
    "obs_gamma0['band'] = ['obs_gamma0']\n",
    "\n",
    "final = xr.concat(ps + [obs_gamma0], dim='band')\n",
    "final.name = 'satio-features-s1'\n",
    "\n",
    "final = final.ewc.cache('.', (1, 1, 512, 512))\n",
    "final = final.squeeze()\n",
    "\n",
    "crs = CRS.from_epsg(block.epsg)\n",
    "final = final.rio.write_crs(crs)\n",
    "final_ds = final.to_dataset('band')\n",
    "\n",
    "fn = f'{final.name}_{block.tile}_{block.block_id:03d}.tif'\n",
    "final_ds.rio.to_raster(fn,\n",
    "                       windowed=False,\n",
    "                       tiled=True,\n",
    "                       compress='deflate',\n",
    "                       predictor=3,\n",
    "                       zlevel=4)"
   ]
  },
  {
   "cell_type": "markdown",
   "id": "1a60ec27-120f-4c65-bed5-55bc18e1b9c4",
   "metadata": {},
   "source": []
  },
  {
   "cell_type": "code",
   "execution_count": 7,
   "id": "9c9cc12d-b452-45a9-ac26-881cb57790de",
   "metadata": {},
   "outputs": [],
   "source": []
  }
 ],
 "metadata": {
  "kernelspec": {
   "display_name": "Python [conda env:notebook] *",
   "language": "python",
   "name": "conda-env-notebook-py"
  },
  "language_info": {
   "codemirror_mode": {
    "name": "ipython",
    "version": 3
   },
   "file_extension": ".py",
   "mimetype": "text/x-python",
   "name": "python",
   "nbconvert_exporter": "python",
   "pygments_lexer": "ipython3",
   "version": "3.10.6"
  }
 },
 "nbformat": 4,
 "nbformat_minor": 5
}
