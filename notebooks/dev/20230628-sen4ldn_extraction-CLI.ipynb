{
 "cells": [
  {
   "cell_type": "code",
   "execution_count": 1,
   "id": "d0280066-a346-44f1-911d-49895d07a6c3",
   "metadata": {
    "tags": []
   },
   "outputs": [],
   "source": [
    "# Jupyter notebook related\n",
    "%reload_ext autoreload\n",
    "%autoreload 2"
   ]
  },
  {
   "cell_type": "code",
   "execution_count": 2,
   "id": "62d1c3b3-5fc7-477c-9e06-9e63f0a15b19",
   "metadata": {},
   "outputs": [],
   "source": [
    "import geopandas as gpd\n",
    "from satio_pc.grid import get_blocks_gdf\n",
    "from dask import delayed\n",
    "\n",
    "# from elogs import Elogs, ElogsTask\n",
    "\n",
    "with open('../../../connstr_vegteam') as f:\n",
    "    connect_str = f.read()\n",
    "container_name = 'sen4ldn'\n",
    "\n",
    "# Test tiles for SEN4LDN\n",
    "\n",
    "# Uganda: 36NUG\n",
    "# Portugal: 29TNE\n",
    "# Colombia: 18NUJ"
   ]
  },
  {
   "cell_type": "code",
   "execution_count": 12,
   "id": "bbc69b2d-d3b3-4011-8700-5276f0792e7c",
   "metadata": {
    "tags": []
   },
   "outputs": [],
   "source": [
    "from satio_pc.utils.azure import AzureBlobReader\n",
    "\n",
    "azure = AzureBlobReader(connect_str,\n",
    "                        container_name)\n",
    "done_logs = azure.list_files('logs/done')\n"
   ]
  },
  {
   "cell_type": "code",
   "execution_count": 13,
   "id": "631790e9-f296-449b-ae6d-8a684e9bfcfc",
   "metadata": {
    "tags": []
   },
   "outputs": [],
   "source": [
    "done_ids = set(map(lambda d: d.split('done_')[-1].split('.')[0], done_logs))"
   ]
  },
  {
   "cell_type": "code",
   "execution_count": 14,
   "id": "65b3efeb-4600-4d1f-bc49-ddff77bdaf48",
   "metadata": {
    "tags": []
   },
   "outputs": [
    {
     "data": {
      "text/plain": [
       "1496"
      ]
     },
     "execution_count": 14,
     "metadata": {},
     "output_type": "execute_result"
    }
   ],
   "source": [
    "len(done_ids)"
   ]
  },
  {
   "cell_type": "code",
   "execution_count": null,
   "id": "9327bad0-3465-4625-891c-1cc555a9656b",
   "metadata": {
    "tags": []
   },
   "outputs": [],
   "source": [
    "key = 'logs/error/2022/s2/error_36NUG_000_2022.log'\n",
    "azure.download_file(key, key.split('/')[-1])"
   ]
  },
  {
   "cell_type": "code",
   "execution_count": null,
   "id": "616b1a2d-2a30-4f6c-b5bd-4eccdf4afb60",
   "metadata": {
    "tags": []
   },
   "outputs": [],
   "source": [
    "# for fn in azure.list_files():\n",
    "#     azure.delete_file(fn)"
   ]
  },
  {
   "cell_type": "code",
   "execution_count": null,
   "id": "0c91742a-fee9-493c-b42e-8a53cbbd0fbd",
   "metadata": {
    "tags": []
   },
   "outputs": [],
   "source": [
    "azure.list_files()"
   ]
  },
  {
   "cell_type": "code",
   "execution_count": 15,
   "id": "2800bc84-e2ab-48c4-abae-477b71bde90a",
   "metadata": {},
   "outputs": [],
   "source": [
    "\n",
    "settings = {\n",
    "\n",
    "    \"l2a\": {\n",
    "        \"max_cloud_cover\": 90,\n",
    "        \"composite\": {\"freq\": 10,\n",
    "                      \"window\": 20,\n",
    "                      \"mode\": \"median\"},\n",
    "        \"mask\": {\"erode_r\": 3,\n",
    "                 \"dilate_r\": 13,\n",
    "                 \"max_invalid_ratio\": 1},\n",
    "        \"bands\": ['B02', 'B03', 'B04', 'B08', 'B11', 'B12'],\n",
    "        \"indices\": [\"ndvi\"],\n",
    "        \"percentiles\": [10, 25, 50, 75, 90],\n",
    "    },\n",
    "\n",
    "    \"gamma0\": {\n",
    "        \"composite\": {\"freq\": 10,\n",
    "                      \"window\": 10,\n",
    "                      \"mode\": \"median\"}},\n",
    "}\n",
    "\n",
    "\n",
    "tiles = '18NUJ 29TNE 36NUG'.split()\n",
    "\n",
    "blocks_gdf = get_blocks_gdf(tiles)\n",
    "blocks_gdf = blocks_gdf[blocks_gdf['area'] == 104857600]  # only squares, bug on others\n",
    "blocks_gdf = blocks_gdf.sort_values('block_id')\n"
   ]
  },
  {
   "cell_type": "code",
   "execution_count": 16,
   "id": "ed08c5ea-a583-47fc-9043-1fe1f8bed0ea",
   "metadata": {
    "tags": []
   },
   "outputs": [
    {
     "data": {
      "text/plain": [
       "4"
      ]
     },
     "execution_count": 16,
     "metadata": {},
     "output_type": "execute_result"
    }
   ],
   "source": [
    "def extract_s2(arg):\n",
    "    tile, block_id, year = arg\n",
    "    from satio_pc.extraction import S2BlockExtractor\n",
    "    extractor = S2BlockExtractor(tile,\n",
    "                                 block_id,\n",
    "                                 year,\n",
    "                                 settings,\n",
    "                                 output_folder='/tmp',\n",
    "                                 connection_str=connect_str,\n",
    "                                 container_name=container_name)\n",
    "    \n",
    "    extractor.extract()\n",
    "\n",
    "args = [(b.tile, b.block_id, y) for b in blocks_gdf.itertuples()\n",
    "        for y in range(2018, 2023) if f\"{b.tile}_{b.block_id:03d}_{y}\" not in done_ids]\n",
    "\n",
    "len(args)"
   ]
  },
  {
   "cell_type": "markdown",
   "id": "f97cb29c-e793-4497-88ed-1a36d48b7c7f",
   "metadata": {},
   "source": [
    "### Run locally with multiprocessing"
   ]
  },
  {
   "cell_type": "code",
   "execution_count": null,
   "id": "7794bcfe-2b09-4da8-b896-3f5c30b35a77",
   "metadata": {},
   "outputs": [],
   "source": [
    "# import multiprocessing\n",
    "\n",
    "# for a in args:\n",
    "#     p = multiprocessing.Process(target=extract_s2,\n",
    "#                                 args=a)\n",
    "#     p.start()\n",
    "#     p.join()"
   ]
  },
  {
   "cell_type": "code",
   "execution_count": 17,
   "id": "34aa135e-b40d-4ce6-bfb0-3c0ccd26da39",
   "metadata": {
    "tags": []
   },
   "outputs": [],
   "source": [
    "from satio_pc.utils import parallelize"
   ]
  },
  {
   "cell_type": "code",
   "execution_count": 9,
   "id": "8177795a-9ab3-4bb3-a235-ab8318068418",
   "metadata": {
    "tags": []
   },
   "outputs": [],
   "source": [
    "from loguru import logger\n",
    "logger.remove()"
   ]
  },
  {
   "cell_type": "code",
   "execution_count": 18,
   "id": "02f409af-f76b-4440-92f3-052d6852c399",
   "metadata": {
    "tags": []
   },
   "outputs": [],
   "source": [
    "from tqdm.auto import tqdm"
   ]
  },
  {
   "cell_type": "code",
   "execution_count": 19,
   "id": "a125b8de-fb9d-4935-985a-5da47a5739a0",
   "metadata": {
    "tags": []
   },
   "outputs": [
    {
     "name": "stderr",
     "output_type": "stream",
     "text": [
      "/srv/conda/envs/notebook/lib/python3.11/site-packages/pystac_client/item_search.py:841: FutureWarning: get_all_items() is deprecated, use item_collection() instead.\n",
      "  warnings.warn(\n",
      "/srv/conda/envs/notebook/lib/python3.11/site-packages/pystac_client/item_search.py:841: FutureWarning: get_all_items() is deprecated, use item_collection() instead.\n",
      "  warnings.warn(\n",
      "/srv/conda/envs/notebook/lib/python3.11/site-packages/stackstac/prepare.py:363: UserWarning: The argument 'infer_datetime_format' is deprecated and will be removed in a future version. A strict version of it is now the default, see https://pandas.pydata.org/pdeps/0004-consistent-to-datetime-parsing.html. You can safely remove this argument.\n",
      "  times = pd.to_datetime(\n",
      "/srv/conda/envs/notebook/lib/python3.11/site-packages/stackstac/prepare.py:363: UserWarning: The argument 'infer_datetime_format' is deprecated and will be removed in a future version. A strict version of it is now the default, see https://pandas.pydata.org/pdeps/0004-consistent-to-datetime-parsing.html. You can safely remove this argument.\n",
      "  times = pd.to_datetime(\n",
      "/srv/conda/envs/notebook/lib/python3.11/site-packages/stackstac/prepare.py:363: UserWarning: The argument 'infer_datetime_format' is deprecated and will be removed in a future version. A strict version of it is now the default, see https://pandas.pydata.org/pdeps/0004-consistent-to-datetime-parsing.html. You can safely remove this argument.\n",
      "  times = pd.to_datetime(\n",
      "/srv/conda/envs/notebook/lib/python3.11/site-packages/stackstac/prepare.py:363: UserWarning: The argument 'infer_datetime_format' is deprecated and will be removed in a future version. A strict version of it is now the default, see https://pandas.pydata.org/pdeps/0004-consistent-to-datetime-parsing.html. You can safely remove this argument.\n",
      "  times = pd.to_datetime(\n",
      "/srv/conda/envs/notebook/lib/python3.11/site-packages/stackstac/prepare.py:363: UserWarning: The argument 'infer_datetime_format' is deprecated and will be removed in a future version. A strict version of it is now the default, see https://pandas.pydata.org/pdeps/0004-consistent-to-datetime-parsing.html. You can safely remove this argument.\n",
      "  times = pd.to_datetime(\n",
      "/srv/conda/envs/notebook/lib/python3.11/site-packages/stackstac/prepare.py:363: UserWarning: The argument 'infer_datetime_format' is deprecated and will be removed in a future version. A strict version of it is now the default, see https://pandas.pydata.org/pdeps/0004-consistent-to-datetime-parsing.html. You can safely remove this argument.\n",
      "  times = pd.to_datetime(\n"
     ]
    },
    {
     "ename": "TypeError",
     "evalue": "'module' object is not callable",
     "output_type": "error",
     "traceback": [
      "\u001b[0;31m---------------------------------------------------------------------------\u001b[0m",
      "\u001b[0;31mTypeError\u001b[0m                                 Traceback (most recent call last)",
      "Cell \u001b[0;32mIn[19], line 1\u001b[0m\n\u001b[0;32m----> 1\u001b[0m _ \u001b[38;5;241m=\u001b[39m \u001b[43mparallelize\u001b[49m\u001b[43m(\u001b[49m\u001b[43mextract_s2\u001b[49m\u001b[43m,\u001b[49m\u001b[43m \u001b[49m\u001b[43margs\u001b[49m\u001b[43m,\u001b[49m\u001b[43m \u001b[49m\u001b[43mmax_workers\u001b[49m\u001b[38;5;241;43m=\u001b[39;49m\u001b[38;5;241;43m2\u001b[39;49m\u001b[43m,\u001b[49m\u001b[43m \u001b[49m\u001b[43muse_process_pool\u001b[49m\u001b[38;5;241;43m=\u001b[39;49m\u001b[38;5;28;43;01mTrue\u001b[39;49;00m\u001b[43m)\u001b[49m\n",
      "File \u001b[0;32m~/PlanetaryComputerExamples/personal/satio-pc/satio_pc/utils/__init__.py:18\u001b[0m, in \u001b[0;36mparallelize\u001b[0;34m(f, my_iter, max_workers, progressbar, use_process_pool)\u001b[0m\n\u001b[1;32m     16\u001b[0m \u001b[38;5;28;01mwith\u001b[39;00m Pool(max_workers\u001b[38;5;241m=\u001b[39mmax_workers) \u001b[38;5;28;01mas\u001b[39;00m ex:\n\u001b[1;32m     17\u001b[0m     \u001b[38;5;28;01mif\u001b[39;00m progressbar:\n\u001b[0;32m---> 18\u001b[0m         results \u001b[38;5;241m=\u001b[39m \u001b[38;5;28mlist\u001b[39m(\u001b[43mtqdm\u001b[49m\u001b[43m(\u001b[49m\u001b[43mex\u001b[49m\u001b[38;5;241;43m.\u001b[39;49m\u001b[43mmap\u001b[49m\u001b[43m(\u001b[49m\u001b[43mf\u001b[49m\u001b[43m,\u001b[49m\u001b[43m \u001b[49m\u001b[43mmy_iter\u001b[49m\u001b[43m)\u001b[49m\u001b[43m,\u001b[49m\u001b[43m \u001b[49m\u001b[43mtotal\u001b[49m\u001b[38;5;241;43m=\u001b[39;49m\u001b[38;5;28;43mlen\u001b[39;49m\u001b[43m(\u001b[49m\u001b[43mmy_iter\u001b[49m\u001b[43m)\u001b[49m\u001b[43m)\u001b[49m)\n\u001b[1;32m     19\u001b[0m     \u001b[38;5;28;01melse\u001b[39;00m:\n\u001b[1;32m     20\u001b[0m         results \u001b[38;5;241m=\u001b[39m \u001b[38;5;28mlist\u001b[39m(ex\u001b[38;5;241m.\u001b[39mmap(f, my_iter))\n",
      "\u001b[0;31mTypeError\u001b[0m: 'module' object is not callable"
     ]
    }
   ],
   "source": [
    "_ = parallelize(extract_s2, args, max_workers=2, use_process_pool=True)"
   ]
  },
  {
   "cell_type": "markdown",
   "id": "ff9958d8-52b5-4ee7-a680-42ff839309a8",
   "metadata": {},
   "source": [
    "# Cluster setup"
   ]
  },
  {
   "cell_type": "code",
   "execution_count": null,
   "id": "4961cfd3-95f3-4757-8a29-18512f816323",
   "metadata": {
    "tags": []
   },
   "outputs": [],
   "source": [
    "from dask.distributed import PipInstall, Client\n",
    "import dask_gateway\n",
    "\n",
    "cluster = dask_gateway.GatewayCluster()\n",
    "client = cluster.get_client()\n",
    "cluster.scale(10)\n",
    "print(client.dashboard_link)"
   ]
  },
  {
   "cell_type": "code",
   "execution_count": null,
   "id": "1b191667-8ba8-4cae-961c-4c9ef8c8c317",
   "metadata": {
    "tags": []
   },
   "outputs": [],
   "source": [
    "satio_pc_url = \"git+https://github.com/dzanaga/satio-pc.git@main\"\n",
    "# elogs_url = \"http://s3-eu-central-1.amazonaws.com/vito-worldcover-public/wheels/elogs-0.1.5-py3-none-any.whl\"\n",
    "plugin = PipInstall(packages=[satio_pc_url],\n",
    "                    pip_options=[\"--upgrade\"])\n",
    "client.register_worker_plugin(plugin)"
   ]
  },
  {
   "cell_type": "code",
   "execution_count": null,
   "id": "0bda3494-de30-4989-91bf-e0dfa033b8b8",
   "metadata": {
    "tags": []
   },
   "outputs": [],
   "source": [
    "# check logs\n",
    "logs = client.get_worker_logs()\n",
    "for worker, worker_logs in logs.items():\n",
    "    print(f\"Logs for worker {worker}:\")\n",
    "    for log in worker_logs:\n",
    "        print(log)\n",
    "    print()\n",
    "    print('*'*100)"
   ]
  },
  {
   "cell_type": "code",
   "execution_count": null,
   "id": "3393a739-bd23-47df-b85d-01c2a873bb1e",
   "metadata": {
    "tags": []
   },
   "outputs": [],
   "source": [
    "import dask\n",
    "import subprocess\n",
    "\n",
    "@dask.delayed\n",
    "def extract_s2_cli(cmd):\n",
    "    p = subprocess.run(cmd.split())\n",
    "    return p.returncode\n",
    "\n",
    "cmds = [f'ewc l2a -o \"/tmp\" -k \"{connect_str}\" -r \"{container_name}\" -c -t {arg[0]} {arg[1]} {arg[2]}'\n",
    "        for arg in args]\n",
    "\n",
    "tasks = [extract_s2_cli(cmd) for cmd in cmds[:20]]"
   ]
  },
  {
   "cell_type": "code",
   "execution_count": null,
   "id": "1dd80342-fe45-4250-a7d5-a26ca3a4e4c5",
   "metadata": {
    "tags": []
   },
   "outputs": [],
   "source": [
    "results = dask.compute(*tasks)"
   ]
  },
  {
   "cell_type": "code",
   "execution_count": null,
   "id": "2dc700b9-c0d5-4409-a16d-8709c0dcd032",
   "metadata": {
    "tags": []
   },
   "outputs": [],
   "source": [
    "results"
   ]
  },
  {
   "cell_type": "code",
   "execution_count": null,
   "id": "bdc96f16-b5dc-40fc-8b3e-601bf971def8",
   "metadata": {
    "tags": []
   },
   "outputs": [],
   "source": [
    "cluster.shutdown()"
   ]
  },
  {
   "cell_type": "code",
   "execution_count": null,
   "id": "83e8a893-b23d-40c4-b839-cf28f8de5537",
   "metadata": {
    "tags": []
   },
   "outputs": [],
   "source": [
    "# def install():\n",
    "#     import os\n",
    "#     os.system(\"pip install git+https://github.com/dzanaga/satio-pc -y\")  # or pip\n",
    "\n",
    "# client.run(install)  # Run on all workers"
   ]
  },
  {
   "cell_type": "code",
   "execution_count": null,
   "id": "baf4a78f-29b3-4e97-a710-0d3e1af3293d",
   "metadata": {
    "tags": []
   },
   "outputs": [],
   "source": [
    "import dask"
   ]
  },
  {
   "cell_type": "code",
   "execution_count": null,
   "id": "ea664137-9d13-4c86-891e-336f3314cad1",
   "metadata": {
    "tags": []
   },
   "outputs": [],
   "source": [
    "extract_delayed = dask.delayed(extract_s2)"
   ]
  },
  {
   "cell_type": "code",
   "execution_count": null,
   "id": "fe8b85f2-d8d2-446e-87e7-def0d9c6e6e8",
   "metadata": {
    "tags": []
   },
   "outputs": [],
   "source": [
    "import dask\n",
    "lazy_results = []\n",
    "\n",
    "for ag in args[:20]:\n",
    "    lazy_result = extract_delayed(*ag)\n",
    "    lazy_results.append(lazy_result)\n",
    "\n",
    "# futures = dask.persist(*lazy_results)  # trigger computation in the background"
   ]
  },
  {
   "cell_type": "code",
   "execution_count": null,
   "id": "97444caf-c8a4-4f71-ad98-6d93b5b3bc5c",
   "metadata": {
    "tags": []
   },
   "outputs": [],
   "source": [
    "f = lazy_results[1].compute()"
   ]
  },
  {
   "cell_type": "code",
   "execution_count": null,
   "id": "50112c1f-0271-4f46-bb1d-3cf76babe463",
   "metadata": {
    "tags": []
   },
   "outputs": [],
   "source": [
    "futures = client.map(extract_s2, args[:6])"
   ]
  },
  {
   "cell_type": "code",
   "execution_count": null,
   "id": "2f727071-0311-4b50-8318-6c9faa84b0e7",
   "metadata": {
    "tags": []
   },
   "outputs": [],
   "source": [
    "f = futures[5]\n",
    "f"
   ]
  },
  {
   "cell_type": "code",
   "execution_count": null,
   "id": "9225ba1d-3b0d-4f7b-a911-df125f337897",
   "metadata": {
    "tags": []
   },
   "outputs": [],
   "source": [
    "f.result()"
   ]
  },
  {
   "cell_type": "code",
   "execution_count": null,
   "id": "7d79b5a1-d3b1-404f-9d16-0c688021ba58",
   "metadata": {
    "tags": []
   },
   "outputs": [],
   "source": [
    "@dask.delayed\n",
    "def test(n):\n",
    "    try:\n",
    "        import satio_pc\n",
    "        s2grid = satio_pc.layers.load('s2grid')\n",
    "        return s2grid.shape[0]\n",
    "    except:\n",
    "        return 0"
   ]
  },
  {
   "cell_type": "code",
   "execution_count": null,
   "id": "50f40693-fe5e-4f6e-8598-b2266eb076ca",
   "metadata": {
    "tags": []
   },
   "outputs": [],
   "source": [
    "nn = list(range(30))"
   ]
  },
  {
   "cell_type": "code",
   "execution_count": null,
   "id": "e955908a-0aaf-448b-a38e-1a9904220da5",
   "metadata": {
    "tags": []
   },
   "outputs": [],
   "source": [
    "futures = client.map(test, nn)"
   ]
  },
  {
   "cell_type": "code",
   "execution_count": null,
   "id": "df645719-ba24-4c34-9e97-a9966048850f",
   "metadata": {
    "tags": []
   },
   "outputs": [],
   "source": [
    "f = futures[10]"
   ]
  },
  {
   "cell_type": "code",
   "execution_count": null,
   "id": "83b2874b-9ee7-4953-bd25-bf938b525fdb",
   "metadata": {
    "tags": []
   },
   "outputs": [],
   "source": [
    "f.result().compute()"
   ]
  },
  {
   "cell_type": "code",
   "execution_count": null,
   "id": "2f3d35d6-2b8a-4f60-97f3-165e75f87945",
   "metadata": {
    "tags": []
   },
   "outputs": [],
   "source": [
    "client."
   ]
  },
  {
   "cell_type": "code",
   "execution_count": null,
   "id": "00d29403-f17d-4672-8b1a-093df0bbacd4",
   "metadata": {
    "tags": []
   },
   "outputs": [],
   "source": []
  },
  {
   "cell_type": "code",
   "execution_count": null,
   "id": "95fa4ebc-b9df-4e5e-9bc7-37c0a2058ee0",
   "metadata": {
    "tags": []
   },
   "outputs": [],
   "source": [
    "client"
   ]
  },
  {
   "cell_type": "code",
   "execution_count": null,
   "id": "133c71bd-13ef-47b1-b6dd-28f0a3511549",
   "metadata": {
    "tags": []
   },
   "outputs": [],
   "source": [
    "# list clusters\n",
    "from dask_gateway import Gateway\n",
    "gateway = Gateway()\n",
    "gateway.list_clusters()"
   ]
  },
  {
   "cell_type": "code",
   "execution_count": null,
   "id": "2ded9f95-db02-4331-8f4f-6dd75051bede",
   "metadata": {
    "tags": []
   },
   "outputs": [],
   "source": []
  },
  {
   "cell_type": "code",
   "execution_count": null,
   "id": "a54f2d4f-52b7-4757-a683-a2c2faef9249",
   "metadata": {
    "tags": []
   },
   "outputs": [],
   "source": [
    "# # plugin = PipInstall(packages=[\"git+https://github.com/dzanaga/satio-pc/tree/main/satio_pc\"], pip_options=[\"--upgrade\"])\n",
    "# # client.register_worker_plugin(plugin)\n",
    "# satio_pc_url = \"git+https://github.com/dzanaga/satio-pc.git@main\"\n",
    "# elogs_url = \"http://s3-eu-central-1.amazonaws.com/vito-worldcover-public/wheels/elogs-0.1.5-py3-none-any.whl\"\n",
    "# plugin = PipInstall(packages=[satio_pc_url,\n",
    "#                               elogs_url],\n",
    "#                     pip_options=[\"--upgrade\"])\n",
    "# client.register_worker_plugin(plugin)\n",
    "\n",
    "# print(client.dashboard_link)"
   ]
  },
  {
   "cell_type": "code",
   "execution_count": null,
   "id": "b5cccf00-5b04-48f9-899b-ab665914b364",
   "metadata": {},
   "outputs": [],
   "source": [
    "# plugin = PipInstall(packages=[\"git+https://github.com/dzanaga/satio-pc/tree/main/satio_pc\"], pip_options=[\"--upgrade\"])\n",
    "# client.register_worker_plugin(plugin)\n",
    "satio_pc_url = \"git+https://github.com/dzanaga/satio-pc.git@main\"\n",
    "elogs_url = \"http://s3-eu-central-1.amazonaws.com/vito-worldcover-public/wheels/elogs-0.1.5-py3-none-any.whl\"\n",
    "plugin = PipInstall(packages=[satio_pc_url],\n",
    "                    pip_options=[\"--upgrade\"])\n",
    "client.register_worker_plugin(plugin)\n",
    "\n",
    "print(client.dashboard_link)"
   ]
  },
  {
   "cell_type": "code",
   "execution_count": null,
   "id": "4433a215-61dc-4310-afb2-f812f96c0f9b",
   "metadata": {
    "tags": []
   },
   "outputs": [],
   "source": []
  },
  {
   "cell_type": "code",
   "execution_count": null,
   "id": "f83a6277-8464-4cd1-ad15-414d51687115",
   "metadata": {
    "tags": []
   },
   "outputs": [],
   "source": [
    "import dask\n",
    "lazy_results = []\n",
    "\n",
    "for ag in args[:20]:\n",
    "    lazy_result = dask.delayed(extract_s2)(ag)\n",
    "    lazy_results.append(lazy_result)\n",
    "\n",
    "futures = dask.persist(*lazy_results)  # trigger computation in the background"
   ]
  },
  {
   "cell_type": "code",
   "execution_count": null,
   "id": "22f60c53-f9f3-4963-9840-73dda4d13552",
   "metadata": {
    "tags": []
   },
   "outputs": [],
   "source": [
    "futures[0].compute()"
   ]
  },
  {
   "cell_type": "code",
   "execution_count": null,
   "id": "07ab3a1d-a504-462b-ae85-3fb54e47ca1c",
   "metadata": {},
   "outputs": [],
   "source": []
  },
  {
   "cell_type": "code",
   "execution_count": null,
   "id": "73e52fa1-9f15-4be7-9f49-2988eca5e59e",
   "metadata": {
    "tags": []
   },
   "outputs": [],
   "source": [
    "workers = client.scheduler_info()['workers']\n",
    "tasks = [client.submit(extract_s2, arg, workers=worker)\n",
    "         for arg, worker in zip(args[:16], workers)]"
   ]
  },
  {
   "cell_type": "code",
   "execution_count": null,
   "id": "47190eba-9b0b-4518-8014-00db3a9849c3",
   "metadata": {
    "tags": []
   },
   "outputs": [],
   "source": [
    "tasks[0]"
   ]
  },
  {
   "cell_type": "code",
   "execution_count": null,
   "id": "f9b86495-ef17-49e8-9028-d526696f6cbc",
   "metadata": {
    "tags": []
   },
   "outputs": [],
   "source": [
    "# test first block\n",
    "\n",
    "block = next(blocks_gdf.iloc[[10]].itertuples())\n",
    "year = 2021"
   ]
  },
  {
   "cell_type": "code",
   "execution_count": null,
   "id": "26677ee6-8029-44de-9cba-3f6073fa0b2d",
   "metadata": {
    "tags": []
   },
   "outputs": [],
   "source": [
    "extractor = S2BlockExtractor(block.tile,\n",
    "                             block.block_id,\n",
    "                             year,\n",
    "                             settings,\n",
    "                             bands=bands,\n",
    "                             indices=indices,\n",
    "                             percentiles=percentiles,\n",
    "                             output_folder='.',\n",
    "                             connection_str=connect_str,\n",
    "                             container_name=container_name)"
   ]
  },
  {
   "cell_type": "code",
   "execution_count": null,
   "id": "7614839d-3c5e-430e-819f-4488251e2341",
   "metadata": {
    "tags": []
   },
   "outputs": [],
   "source": [
    "data, fn, bounds, epsg = extractor._extract_s2()"
   ]
  },
  {
   "cell_type": "code",
   "execution_count": null,
   "id": "cc4086c2-664b-411b-b276-ad2e4e9ab308",
   "metadata": {
    "tags": []
   },
   "outputs": [],
   "source": [
    "fn"
   ]
  },
  {
   "cell_type": "code",
   "execution_count": null,
   "id": "07b4a01f-c6a3-497a-8351-adac5e2c4d6e",
   "metadata": {
    "tags": []
   },
   "outputs": [],
   "source": [
    "data.ewc.save_features(fn, bounds, epsg)"
   ]
  },
  {
   "cell_type": "markdown",
   "id": "f05adda7-1996-4b89-b27f-1cc5983f2e4f",
   "metadata": {},
   "source": [
    "# debug extract function"
   ]
  },
  {
   "cell_type": "code",
   "execution_count": null,
   "id": "bdccea3d-d07c-4a50-9166-6930db8e7e44",
   "metadata": {
    "tags": []
   },
   "outputs": [],
   "source": [
    "import xarray as xr\n",
    "from loguru import logger\n",
    "\n",
    "from satio_pc.sentinel2 import load_l2a, preprocess_l2a\n",
    "from satio_pc.preprocessing.clouds import preprocess_scl\n",
    "from satio_pc.grid import get_blocks_gdf\n",
    "\n",
    "# year = self.year\n",
    "# tile = self.tile\n",
    "# block_id = self.block_id\n",
    "self = extractor\n",
    "\n",
    "start_date = f'{year}-01-01'\n",
    "end_date = f'{year + 1}-01-01'\n",
    "max_cloud_cover = self._settings['l2a']['max_cloud_cover']\n",
    "\n",
    "# blocks = get_blocks_gdf([tile])\n",
    "# block = blocks[blocks.block_id == block_id].iloc[0]\n",
    "\n",
    "s2_dict = load_l2a(block.bounds,\n",
    "                   block.epsg,\n",
    "                   block.tile,\n",
    "                   start_date,\n",
    "                   end_date,\n",
    "                   bands=self._bands,\n",
    "                   max_cloud_cover=max_cloud_cover)\n",
    "\n",
    "# mask preparation\n",
    "mask_settings = self._settings['l2a']['mask']\n",
    "scl = preprocess_scl(s2_dict['scl'],\n",
    "                     **mask_settings)\n",
    "\n",
    "scl20_mask = scl.mask\n",
    "scl20_aux = scl.aux\n",
    "\n",
    "s2 = preprocess_l2a(s2_dict,\n",
    "                    scl20_mask,\n",
    "                    start_date,\n",
    "                    end_date,\n",
    "                    composite_freq=self._settings[\n",
    "                        'l2a']['composite']['freq'],\n",
    "                    composite_window=self._settings[\n",
    "                        'l2a']['composite']['window'],\n",
    "                    composite_mode=self._settings[\n",
    "                        'l2a']['composite']['mode'])\n",
    "\n",
    "s2_indices = self._indices\n",
    "\n",
    "# compute indices\n",
    "s2_vi = s2.ewc.indices(s2_indices)"
   ]
  },
  {
   "cell_type": "code",
   "execution_count": null,
   "id": "51e6ae86-585c-4676-88ef-6e43464fae9e",
   "metadata": {
    "tags": []
   },
   "outputs": [],
   "source": [
    "s2_vi.ewc.show(band='ndvi')"
   ]
  },
  {
   "cell_type": "code",
   "execution_count": null,
   "id": "16f95901-77a8-45a5-a724-81ae2bb0e193",
   "metadata": {},
   "outputs": [],
   "source": []
  },
  {
   "cell_type": "code",
   "execution_count": null,
   "id": "de8ef895-c72c-430c-bacf-1f99bfa895a7",
   "metadata": {},
   "outputs": [],
   "source": [
    "# percentiles sensors and vis\n",
    "q = self._percentiles\n",
    "ps = [s.ewc.percentile(q, name_prefix='s2') for s in (s2, s2_vi)]\n",
    "\n",
    "# fix time to same timestamp (only 1) to avoid concat issues\n",
    "# (different compositing settings for s2 and s1)\n",
    "for p in ps:\n",
    "    p['time'] = ps[0].time\n",
    "\n",
    "# scl aux 10m\n",
    "scl10_aux = scl20_aux.ewc.rescale(scale=2, order=1)\n",
    "scl10_aux['time'] = ps[0].time\n",
    "\n",
    "final = xr.concat(ps + [scl10_aux], dim='band')\n",
    "final.name = 'satio-features-s2'\n",
    "\n",
    "logger.info(\"Computing features stack\")\n",
    "final = final.persist()\n",
    "final = final.squeeze()\n",
    "\n",
    "output_folder = Path(self.block_folder)\n",
    "fn = output_folder / \\\n",
    "    f'{final.name}_{tile}_{block.block_id:03d}_{year}.tif'"
   ]
  },
  {
   "cell_type": "code",
   "execution_count": null,
   "id": "78e53b49-57c1-4af7-acc6-02baf6ad985a",
   "metadata": {
    "tags": []
   },
   "outputs": [],
   "source": [
    "s2 = preprocess_l2a(s2_dict,\n",
    "                    scl20_mask,\n",
    "                    start_date,\n",
    "                    end_date,\n",
    "                    composite_freq=settings['l2a']['composite']['freq'],\n",
    "                    composite_window=settings['l2a']['composite'][\n",
    "                        'window'],\n",
    "                    tmpdir=tmpdir.name)\n",
    "\n",
    "s2_indices = indices\n",
    "\n",
    "# compute indices\n",
    "s2_vi = s2.ewc.indices(s2_indices)"
   ]
  },
  {
   "cell_type": "code",
   "execution_count": null,
   "id": "af819dc4-5f63-48a6-a256-31c702a1b2a3",
   "metadata": {
    "tags": []
   },
   "outputs": [],
   "source": [
    "s2_vi.ewc.plot(band='ndvi', vmin=-1, vmax=1)"
   ]
  },
  {
   "cell_type": "code",
   "execution_count": null,
   "id": "fed11adf-505f-4044-bb36-35060afcfd3c",
   "metadata": {
    "tags": []
   },
   "outputs": [],
   "source": [
    "import hvplot.xarray  # noqa\n",
    "import hvplot.pandas  # noqa\n",
    "import panel as pn  # noqa\n",
    "import panel.widgets as pnw\n",
    "\n",
    "im = s2\n",
    "band = im.band[0]\n",
    "im = im.sel(band=band)\n",
    "\n",
    "im.interactive.sel(time=pnw.DiscreteSlider).hvplot(\n",
    "    clim=(0, 0.2), colormap='plasma', aspect=1)"
   ]
  },
  {
   "cell_type": "markdown",
   "id": "a512acaf-5c34-437c-9761-07513a512d8b",
   "metadata": {},
   "source": [
    "bug in the interpolate function? there are 0s in the s2 ts and nans in the ndvi ts\n",
    "ndvi is saved as mostly nan?"
   ]
  },
  {
   "cell_type": "markdown",
   "id": "aa1e53ae-f446-4b60-a911-a94d54934156",
   "metadata": {},
   "source": [
    "### debug preprocess l2a"
   ]
  },
  {
   "cell_type": "code",
   "execution_count": null,
   "id": "aec82fd5-4bb7-4b47-8e28-4cfb3d6b7724",
   "metadata": {
    "tags": []
   },
   "outputs": [],
   "source": [
    "import xarray as xr\n",
    "import dask.array as da\n",
    "from pyproj.crs import CRS\n",
    "from loguru import logger\n",
    "import tempfile\n",
    "from satio_pc.sentinel2 import load_l2a, preprocess_l2a\n",
    "from satio_pc.preprocessing.clouds import preprocess_scl\n",
    "from satio_pc.grid import get_blocks_gdf, tile_to_epsg\n",
    "\n",
    "\n",
    "year = 2021\n",
    "tile = block.tile\n",
    "block_id = block.block_id\n",
    "\n",
    "start_date = f'{year}-01-01'\n",
    "end_date = f'{year + 1}-01-01'\n",
    "max_cloud_cover = settings['l2a']['max_cloud_cover']\n",
    "\n",
    "s2_dict = load_l2a(block.bounds,\n",
    "                   block.epsg,\n",
    "                   block.tile,\n",
    "                   start_date,\n",
    "                   end_date,\n",
    "                   bands=bands,\n",
    "                   max_cloud_cover=max_cloud_cover)\n",
    "\n",
    "# preprocess s2\n",
    "tmpdir = tempfile.TemporaryDirectory(prefix='ewc_tmp-',\n",
    "                                     dir='.')\n",
    "\n",
    "# mask preparation\n",
    "mask_settings = settings['l2a']['mask']\n",
    "scl = preprocess_scl(s2_dict['scl'],\n",
    "                     **mask_settings)\n",
    "\n",
    "scl20_mask = scl.mask\n",
    "scl20_aux = scl.aux"
   ]
  },
  {
   "cell_type": "code",
   "execution_count": null,
   "id": "59d54a97-925f-4246-b88a-476b22cd6625",
   "metadata": {},
   "outputs": [],
   "source": [
    "# s2 = preprocess_l2a(s2_dict,\n",
    "#                     scl20_mask,\n",
    "#                     start_date,\n",
    "#                     end_date,\n",
    "#                     composite_freq=settings['l2a']['composite']['freq'],\n",
    "#                     composite_window=settings['l2a']['composite'][\n",
    "#                         'window'],\n",
    "#                     tmpdir=tmpdir.name)\n",
    "\n",
    "ds_dict = s2_dict\n",
    "clouds_mask = scl20_mask\n",
    "composite_freq=settings['l2a']['composite']['freq']\n",
    "composite_window=settings['l2a']['composite']['window']\n",
    "\n",
    "ds10_block = ds_dict[10]\n",
    "ds20_block = ds_dict[20]\n",
    "scl20_block = clouds_mask"
   ]
  },
  {
   "cell_type": "code",
   "execution_count": null,
   "id": "85c196f0-0b20-4058-9509-95961258ec19",
   "metadata": {
    "tags": []
   },
   "outputs": [],
   "source": [
    "ds10_block.ewc.rgb(vmax=2000)"
   ]
  },
  {
   "cell_type": "code",
   "execution_count": null,
   "id": "92572ccb-8db3-404c-a208-93498bbca622",
   "metadata": {
    "tags": []
   },
   "outputs": [],
   "source": [
    "from satio_pc.preprocessing.timer import FeaturesTimer"
   ]
  },
  {
   "cell_type": "code",
   "execution_count": null,
   "id": "ae7b0278-9873-4019-bfa6-c1bcc1547bef",
   "metadata": {
    "tags": []
   },
   "outputs": [],
   "source": [
    "ds10_block = ds_dict[10].sel(band=['B04', 'B08'])\n",
    "# ds20_block = ds_dict[20]\n",
    "scl20_block = clouds_mask\n",
    "\n",
    "timer10 = FeaturesTimer(10, 'l2a')\n",
    "timer20 = FeaturesTimer(20, 'l2a')\n",
    "\n",
    "# download\n",
    "logger.info(\"Loading block data\")\n",
    "timer10.load.start()\n",
    "ds10_block = ds10_block.ewc.persist_chunk()\n",
    "timer10.load.stop()\n",
    "\n",
    "timer20.load.start()\n",
    "# ds20_block = ds20_block.ewc.persist_chunk()\n",
    "scl20_block = scl20_block.ewc.persist_chunk()\n",
    "scl10_block = scl20_block.ewc.rescale(scale=2,\n",
    "                                      order=0)\n",
    "scl10_block = scl10_block.ewc.persist_chunk()\n",
    "timer20.load.stop()\n",
    "\n",
    "# 10m\n",
    "# mask clouds\n",
    "timer10.composite.start()\n",
    "ds10_block_masked = ds10_block.ewc.mask(\n",
    "    scl10_block).ewc.persist_chunk()\n",
    "\n",
    "logger.info(\"Compositing 10m block data\")\n",
    "# composite\n",
    "ds10_block_comp = ds10_block_masked.ewc.composite(\n",
    "    freq=composite_freq,\n",
    "    window=composite_window,\n",
    "    start=start_date,\n",
    "    end=end_date).ewc.persist_chunk()\n",
    "timer10.composite.stop()\n",
    "\n",
    "logger.info(\"Interpolating 10m block data\")\n",
    "# interpolation\n",
    "timer10.interpolate.start()\n",
    "ds10_block_interp = ds10_block_comp.ewc.interpolate(\n",
    ").ewc.persist_chunk()\n",
    "timer10.interpolate.stop()\n",
    "\n",
    "# 20m\n",
    "# mask\n",
    "# timer20.composite.start()\n",
    "# ds20_block_masked = ds20_block.ewc.mask(\n",
    "#     scl20_block).ewc.persist_chunk()\n",
    "\n",
    "# logger.info(\"Compositing 20m block data\")\n",
    "# # composite\n",
    "# ds20_block_comp = ds20_block_masked.ewc.composite(\n",
    "#     freq=composite_freq,\n",
    "#     window=composite_window,\n",
    "#     start=start_date,\n",
    "#     end=end_date).ewc.persist_chunk()\n",
    "# timer20.composite.stop()\n",
    "\n",
    "# logger.info(\"Interpolating 20m block data\")\n",
    "# # interpolation\n",
    "# timer20.interpolate.start()\n",
    "# ds20_block_interp = ds20_block_comp.ewc.interpolate(\n",
    "# ).ewc.persist_chunk()\n",
    "# timer20.interpolate.stop()\n",
    "\n",
    "# logger.info(\"Merging 10m and 20m series\")\n",
    "# # merging to 10m cleaned data\n",
    "# ds20_block_interp_10m = ds20_block_interp.ewc.rescale(scale=2,\n",
    "#                                                       order=1,\n",
    "#                                                       nodata_value=0)\n",
    "dsm10 = xr.concat([ds10_block_interp],\n",
    "                  dim='band')"
   ]
  },
  {
   "cell_type": "code",
   "execution_count": null,
   "id": "2037d8ea-0b9d-4c5e-a20c-29c3d7db2e1b",
   "metadata": {
    "tags": []
   },
   "outputs": [],
   "source": [
    "show(ds10_block_interp)"
   ]
  },
  {
   "cell_type": "code",
   "execution_count": null,
   "id": "4b047cde-1880-4102-8c15-ec4f05a2b293",
   "metadata": {
    "tags": []
   },
   "outputs": [],
   "source": [
    "if reflectance:\n",
    "    dsm10 = dsm10.astype(np.float32) / 10000\n",
    "\n",
    "dsm10.attrs = ds10_block.attrs\n",
    "\n",
    "for t in timer10, timer20:\n",
    "    t.load.log()\n",
    "    t.composite.log()\n",
    "    t.interpolate.log()\n",
    "\n",
    "for t in timer10, timer20:\n",
    "    t.log()\n",
    "\n",
    "dsm10 = dsm10.ewc.persist_chunk()"
   ]
  },
  {
   "cell_type": "code",
   "execution_count": null,
   "id": "31b8d7e9-db85-4532-896f-e3bad3ba902c",
   "metadata": {},
   "outputs": [],
   "source": []
  },
  {
   "cell_type": "code",
   "execution_count": null,
   "id": "b21e1346-d3ff-40e9-b301-29beb115fcbf",
   "metadata": {},
   "outputs": [],
   "source": []
  },
  {
   "cell_type": "code",
   "execution_count": null,
   "id": "35d7a037-671e-485e-b821-7599e330e523",
   "metadata": {
    "tags": []
   },
   "outputs": [],
   "source": [
    "def show(ds, band=None, vmin=None, vmax=None,\n",
    "         colormap='plasma', **kwargs):\n",
    "    import hvplot.xarray  # noqa\n",
    "    import hvplot.pandas  # noqa\n",
    "    import panel as pn  # noqa\n",
    "    import panel.widgets as pnw\n",
    "\n",
    "    im = ds\n",
    "    band = im.band[0] if band is None else band\n",
    "    im = im.sel(band=band)\n",
    "    return im.interactive.sel(time=pnw.DiscreteSlider).hvplot(\n",
    "        clim=(vmin, vmax),\n",
    "        colormap=colormap,\n",
    "        aspect=1,\n",
    "        x='x',\n",
    "        y='y',\n",
    "        **kwargs)"
   ]
  },
  {
   "cell_type": "code",
   "execution_count": null,
   "id": "6306afd3-99a5-45ca-aea6-f818c28f5f07",
   "metadata": {
    "tags": []
   },
   "outputs": [],
   "source": [
    "# show(ds10_block)"
   ]
  },
  {
   "cell_type": "code",
   "execution_count": null,
   "id": "40aca186-67f9-4696-a3d7-111f2c2d972d",
   "metadata": {},
   "outputs": [],
   "source": []
  },
  {
   "cell_type": "code",
   "execution_count": null,
   "id": "a6382991-81a2-4280-b7d7-ecc64b2e2432",
   "metadata": {},
   "outputs": [],
   "source": []
  },
  {
   "cell_type": "code",
   "execution_count": null,
   "id": "ff71d8a9-3275-43f9-98a0-84365cbb3d58",
   "metadata": {},
   "outputs": [],
   "source": []
  },
  {
   "cell_type": "code",
   "execution_count": null,
   "id": "89395022-89eb-4fb9-bda0-48cc0d1edae1",
   "metadata": {
    "tags": []
   },
   "outputs": [],
   "source": [
    "def preprocess_l2a(ds_dict,\n",
    "                   clouds_mask,\n",
    "                   start_date,\n",
    "                   end_date,\n",
    "                   composite_freq=10,\n",
    "                   composite_window=20,\n",
    "                   composite_mode='median',\n",
    "                   reflectance=True,\n",
    "                   tmpdir='.'):\n",
    "\n",
    "    ds10_block = ds_dict[10]\n",
    "    ds20_block = ds_dict[20]\n",
    "    scl20_block = clouds_mask\n",
    "\n",
    "    timer10 = FeaturesTimer(10, 'l2a')\n",
    "    timer20 = FeaturesTimer(20, 'l2a')\n",
    "\n",
    "    # download\n",
    "    logger.info(\"Loading block data\")\n",
    "    timer10.load.start()\n",
    "    ds10_block = ds10_block.persist()\n",
    "    timer10.load.stop()\n",
    "\n",
    "    timer20.load.start()\n",
    "    ds20_block = ds20_block.persist()\n",
    "    scl20_block = scl20_block.persist()\n",
    "    scl10_block = scl20_block.ewc.rescale(scale=2,\n",
    "                                          order=0)\n",
    "    scl10_block = scl10_block.persist()\n",
    "    timer20.load.stop()\n",
    "\n",
    "    # 10m\n",
    "    # mask clouds\n",
    "    timer10.composite.start()\n",
    "    ds10_block_masked = ds10_block.ewc.mask(\n",
    "        scl10_block).persist()\n",
    "\n",
    "    logger.info(\"Compositing 10m block data\")\n",
    "    # composite\n",
    "    ds10_block_comp = ds10_block_masked.ewc.composite(\n",
    "        freq=composite_freq,\n",
    "        window=composite_window,\n",
    "        start=start_date,\n",
    "        end=end_date).persist()\n",
    "    timer10.composite.stop()\n",
    "\n",
    "    logger.info(\"Interpolating 10m block data\")\n",
    "    # interpolation\n",
    "    timer10.interpolate.start()\n",
    "    ds10_block_interp = ds10_block_comp.ewc.interpolate(\n",
    "    ).persist()\n",
    "    timer10.interpolate.stop()\n",
    "\n",
    "    # 20m\n",
    "    # mask\n",
    "    timer20.composite.start()\n",
    "    ds20_block_masked = ds20_block.ewc.mask(\n",
    "        scl20_block).persist()\n",
    "\n",
    "    logger.info(\"Compositing 20m block data\")\n",
    "    # composite\n",
    "    ds20_block_comp = ds20_block_masked.ewc.composite(\n",
    "        freq=composite_freq,\n",
    "        window=composite_window,\n",
    "        start=start_date,\n",
    "        end=end_date).persist()\n",
    "    timer20.composite.stop()\n",
    "\n",
    "    logger.info(\"Interpolating 20m block data\")\n",
    "    # interpolation\n",
    "    timer20.interpolate.start()\n",
    "    ds20_block_interp = ds20_block_comp.ewc.interpolate(\n",
    "    ).persist()\n",
    "    timer20.interpolate.stop()\n",
    "\n",
    "    logger.info(\"Merging 10m and 20m series\")\n",
    "    # merging to 10m cleaned data\n",
    "    ds20_block_interp_10m = ds20_block_interp.ewc.rescale(scale=2,\n",
    "                                                          order=1,\n",
    "                                                          nodata_value=0)\n",
    "    dsm10 = xr.concat([ds10_block_interp,\n",
    "                       ds20_block_interp_10m],\n",
    "                      dim='band')\n",
    "\n",
    "    if reflectance:\n",
    "        dsm10 = dsm10.astype(np.float32) / 10000\n",
    "\n",
    "    dsm10.attrs = ds10_block.attrs\n",
    "\n",
    "    for t in timer10, timer20:\n",
    "        t.load.log()\n",
    "        t.composite.log()\n",
    "        t.interpolate.log()\n",
    "\n",
    "    for t in timer10, timer20:\n",
    "        t.log()\n",
    "\n",
    "    dsm10 = dsm10.ewc.persist_chunk()\n",
    "\n",
    "    return dsm10"
   ]
  },
  {
   "cell_type": "code",
   "execution_count": null,
   "id": "68b479d2-78c0-4078-8776-2e7a28322d2f",
   "metadata": {},
   "outputs": [],
   "source": []
  }
 ],
 "metadata": {
  "kernelspec": {
   "display_name": "Python 3 (ipykernel)",
   "language": "python",
   "name": "python3"
  },
  "language_info": {
   "codemirror_mode": {
    "name": "ipython",
    "version": 3
   },
   "file_extension": ".py",
   "mimetype": "text/x-python",
   "name": "python",
   "nbconvert_exporter": "python",
   "pygments_lexer": "ipython3",
   "version": "3.11.4"
  }
 },
 "nbformat": 4,
 "nbformat_minor": 5
}
